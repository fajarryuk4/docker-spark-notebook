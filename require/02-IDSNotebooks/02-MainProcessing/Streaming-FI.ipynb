{
 "cells": [
  {
   "cell_type": "code",
   "execution_count": 1,
   "id": "d06812b5-b36b-4b01-ab7b-73b3719d14a4",
   "metadata": {
    "tags": []
   },
   "outputs": [
    {
     "name": "stdout",
     "output_type": "stream",
     "text": [
      "Requirement already satisfied: findspark in /opt/conda/lib/python3.9/site-packages (2.0.1)\n",
      "Requirement already satisfied: pymongo in /opt/conda/lib/python3.9/site-packages (4.1.1)\n",
      "Note: you may need to restart the kernel to use updated packages.\n"
     ]
    }
   ],
   "source": [
    "%pip install findspark pymongo"
   ]
  },
  {
   "cell_type": "markdown",
   "id": "b63c3601-cc34-4b0e-b389-0ec7b3f101fc",
   "metadata": {},
   "source": [
    "# Import Package"
   ]
  },
  {
   "cell_type": "code",
   "execution_count": 2,
   "id": "7062b975-dea9-4993-b2d0-0463a6062584",
   "metadata": {},
   "outputs": [],
   "source": [
    "import os\n",
    "import time\n",
    "import json\n",
    "import pyspark\n",
    "import findspark\n",
    "from gridfs import GridFS\n",
    "from decimal import Decimal\n",
    "from datetime import datetime\n",
    "from pymongo import MongoClient\n",
    "\n",
    "from pyspark.ml.classification import DecisionTreeClassificationModel\n",
    "from pyspark.ml.feature import StandardScalerModel\n",
    "\n",
    "from pyspark.sql.types import *\n",
    "import pyspark.sql.functions as F\n",
    "from pyspark.sql import SparkSession\n",
    "from sklearn.metrics import confusion_matrix\n",
    "from pyspark.ml.feature import VectorAssembler, StandardScaler\n",
    "\n",
    "findspark.init()"
   ]
  },
  {
   "cell_type": "markdown",
   "id": "809724a6-c293-4c36-b61f-6edf6c9d3c54",
   "metadata": {},
   "source": [
    "# DB Connections"
   ]
  },
  {
   "cell_type": "code",
   "execution_count": 3,
   "id": "b0183a23-0278-403d-a62f-cf08e43c8871",
   "metadata": {},
   "outputs": [],
   "source": [
    "mongo_uri = \"mongodb://mongodb:27017/mataelanglab.stream_result\""
   ]
  },
  {
   "cell_type": "markdown",
   "id": "3d159cdc-2f9e-444d-b878-a94fcc220f0b",
   "metadata": {},
   "source": [
    "# Spark session & context"
   ]
  },
  {
   "cell_type": "code",
   "execution_count": 4,
   "id": "ef6860c7-bd18-41f6-b40a-c8eeada78ad3",
   "metadata": {},
   "outputs": [],
   "source": [
    "jarsPackages = \"org.mongodb.spark:mongo-spark-connector_2.12:3.0.2\" \\\n",
    "    +\",org.apache.spark:spark-sql-kafka-0-10_2.12:3.2.1\""
   ]
  },
  {
   "cell_type": "code",
   "execution_count": 5,
   "id": "20f9c5fd-4791-4d62-ac33-f0c01033b84b",
   "metadata": {},
   "outputs": [],
   "source": [
    "spark = (SparkSession\n",
    "         .builder\n",
    "         .master('local[2]')\n",
    "         .appName('DecisionTree-Stream')\n",
    "         .config(\"spark.executor.memory\", \"4g\") #optional\n",
    "         .config(\"spark.executor.cores\",\"1\") #optional\n",
    "         .config(\"spark.jars.packages\", jarsPackages)\n",
    "         .config(\"spark.mongodb.input.uri\",mongo_uri)\n",
    "         .config(\"spark.mongodb.output.uri\",mongo_uri)\n",
    "         .getOrCreate())\n",
    "spark.conf.set(\"spark.sql.caseSensitive\", \"true\")\n",
    "sc = spark.sparkContext"
   ]
  },
  {
   "cell_type": "markdown",
   "id": "209247d6-a9ee-459f-bee1-af7985f27cbb",
   "metadata": {
    "tags": []
   },
   "source": [
    "# Load Model & Schema"
   ]
  },
  {
   "cell_type": "code",
   "execution_count": 6,
   "id": "0638d5e6-d6b5-476a-801d-836d47525e8a",
   "metadata": {},
   "outputs": [],
   "source": [
    "input_path = \"/home/jovyan/output\""
   ]
  },
  {
   "cell_type": "code",
   "execution_count": 7,
   "id": "cfb45224-e24e-4fbe-bdf2-a73d53ce3ffa",
   "metadata": {},
   "outputs": [],
   "source": [
    "# Create Decision Tree classifer object\n",
    "dt = DecisionTreeClassificationModel()\n",
    "\n",
    "# Load Model\n",
    "dtModel = DecisionTreeClassificationModel.load(input_path+\"/spark-model/decission-tree/feature-importance/model\")"
   ]
  },
  {
   "cell_type": "code",
   "execution_count": 8,
   "id": "6dc8208a-2e45-4bc8-be80-58a78e919a3a",
   "metadata": {},
   "outputs": [],
   "source": [
    "# Load StandardScaler\n",
    "scaler = StandardScalerModel.load(input_path+\"/spark-model/decission-tree/feature-importance/standard-scaler\")"
   ]
  },
  {
   "cell_type": "code",
   "execution_count": 9,
   "id": "8870894d-01de-4e46-8179-c29e109e1b06",
   "metadata": {},
   "outputs": [],
   "source": [
    "payloadSchema = spark.read.option(\"multiline\", \"true\").json(input_path+\"/schema/data.json\")"
   ]
  },
  {
   "cell_type": "markdown",
   "id": "1c648490-b494-4faa-84a4-b98410d150e3",
   "metadata": {},
   "source": [
    "# Structured Streaming"
   ]
  },
  {
   "cell_type": "markdown",
   "id": "b175ca23-b584-41ad-bf66-39ffe4dd98cd",
   "metadata": {},
   "source": [
    "## Get kafka Bootstrap Server URI"
   ]
  },
  {
   "cell_type": "code",
   "execution_count": 10,
   "id": "2b9da97b-51e4-4a4b-a1b4-046aa2462846",
   "metadata": {},
   "outputs": [
    {
     "name": "stdout",
     "output_type": "stream",
     "text": [
      "broker:29092\n"
     ]
    }
   ],
   "source": [
    "bootstrapServers = os.environ['BOOTSTRAP_SERVERS']\n",
    "print(bootstrapServers)"
   ]
  },
  {
   "cell_type": "markdown",
   "id": "642047f8-134a-4be9-a452-70825f0a1c2c",
   "metadata": {},
   "source": [
    "## Structured Streaming Process"
   ]
  },
  {
   "cell_type": "code",
   "execution_count": 11,
   "id": "59332ccc-afb1-46d0-823a-9cac2ad94d71",
   "metadata": {},
   "outputs": [],
   "source": [
    "streamingDF = (spark\n",
    "    .readStream\n",
    "    .format(\"kafka\")\n",
    "    .option(\"kafka.bootstrap.servers\", bootstrapServers) # kafka server\n",
    "    .option(\"subscribe\", \"netflowmeter\") # topic\n",
    "    .option(\"startingOffsets\", \"latest\")\n",
    "    .load())"
   ]
  },
  {
   "cell_type": "markdown",
   "id": "95e2ae2c-b5e7-4774-ac2c-817d9ca2e762",
   "metadata": {},
   "source": [
    "## Cast Stream result to Dataframe"
   ]
  },
  {
   "cell_type": "code",
   "execution_count": 12,
   "id": "8c9224aa-4f27-4494-890d-689d4af87a12",
   "metadata": {},
   "outputs": [],
   "source": [
    "df = streamingDF \\\n",
    "    .selectExpr(\"cast (value as string) as json\") \\\n",
    "    .select(F.get_json_object(\"json\",\"$.payload\").alias('payload')) \\\n",
    "    .select(F.from_json(\"payload\",payloadSchema.schema).alias(\"data\")) \\\n",
    "    .select(\"data.*\")"
   ]
  },
  {
   "cell_type": "markdown",
   "id": "ac3fa82e-4bd7-4a5a-a1a0-73fb384c0bd3",
   "metadata": {
    "tags": []
   },
   "source": [
    "# Choose Used Feature \n",
    "(From DecissionTree-FeatureImportance)"
   ]
  },
  {
   "cell_type": "code",
   "execution_count": null,
   "id": "f194e805-393a-4cfe-83a5-f27bc6f0352e",
   "metadata": {},
   "outputs": [],
   "source": [
    "featureImportance = [\n",
    "    'total_fwd_packet',\n",
    "    'bwd_packets_per_s',\n",
    "    'down_per_up_ratio',\n",
    "    'flow_duration',\n",
    "    'fwd_packets_per_s',\n",
    "    'fwd_seg_size_min',\n",
    "    'syn_flag_count',\n",
    "    'flow_iat_mean',\n",
    "    'idle_max',\n",
    "    'idle_mean',\n",
    "    'packet_length_min',\n",
    "]"
   ]
  },
  {
   "cell_type": "markdown",
   "id": "f9dde2e5-a9a5-4b0c-9311-da20004a276d",
   "metadata": {
    "tags": []
   },
   "source": [
    "# Pre-Processing"
   ]
  },
  {
   "cell_type": "code",
   "execution_count": 14,
   "id": "d12e049c-601c-4382-a981-3c95440e044f",
   "metadata": {},
   "outputs": [],
   "source": [
    "#Vector Assembler\n",
    "vector_assembler = VectorAssembler(inputCols=feature, outputCol=\"SS_features\")\n",
    "df = vector_assembler.transform(df.na.fill(0))\n",
    "\n",
    "#Standard Scaler\n",
    "df = scaler.transform(df) # featureName is 'scaledFeature'"
   ]
  },
  {
   "cell_type": "markdown",
   "id": "2fbb4742-d97c-4a15-b595-54401b2981b5",
   "metadata": {},
   "source": [
    "# Prediction Process"
   ]
  },
  {
   "cell_type": "code",
   "execution_count": 15,
   "id": "40870f92-2718-40fd-a550-7b0947264cb3",
   "metadata": {},
   "outputs": [],
   "source": [
    "df = dtModel.transform(df)"
   ]
  },
  {
   "cell_type": "code",
   "execution_count": 16,
   "id": "62bbcff8-ea20-498b-97c0-50708228e46c",
   "metadata": {},
   "outputs": [],
   "source": [
    "df = df.withColumn(\"prediction\", df[\"prediction\"].cast(IntegerType()))"
   ]
  },
  {
   "cell_type": "code",
   "execution_count": 17,
   "id": "18012f1e-0da4-4601-942b-753c082e4996",
   "metadata": {},
   "outputs": [],
   "source": [
    "def prediction(x):\n",
    "    switcher = {\n",
    "        0: \"Normal\",\n",
    "        1: \"Neris\",\n",
    "        2: \"Rbot\",\n",
    "        3: \"Virut\",\n",
    "        4: \"IRC\"\n",
    "    }\n",
    "    \n",
    "    return switcher.get(x, \"Anomaly\")"
   ]
  },
  {
   "cell_type": "code",
   "execution_count": 18,
   "id": "436eb802-0880-4f82-9709-89938304ee93",
   "metadata": {},
   "outputs": [],
   "source": [
    "labeled = F.udf(prediction, StringType())\n",
    "df = df.withColumn('str_label', labeled(df['prediction']))"
   ]
  },
  {
   "cell_type": "markdown",
   "id": "194ab182-7034-4566-9200-76d0aec508b2",
   "metadata": {},
   "source": [
    "## Cast UTC-Timestamp to String Datetime"
   ]
  },
  {
   "cell_type": "code",
   "execution_count": 19,
   "id": "20bc550e-31dc-403c-8ca9-347f1d76401a",
   "metadata": {},
   "outputs": [],
   "source": [
    "def date_convert(x):\n",
    "    timestamp = int(x)\n",
    "    \n",
    "    return datetime.fromtimestamp(timestamp/1000000).strftime(\"%Y-%m-%d %H:%M:%S\")"
   ]
  },
  {
   "cell_type": "code",
   "execution_count": 20,
   "id": "f0a43c32-abda-46e6-aba6-1946897ab36b",
   "metadata": {},
   "outputs": [],
   "source": [
    "str_date = F.udf(date_convert, StringType())\n",
    "df = df.withColumn('datetime', str_date(df['timestamp']))"
   ]
  },
  {
   "cell_type": "markdown",
   "id": "58aadbee-e1b1-47fa-8faa-b9859185d5ca",
   "metadata": {},
   "source": [
    "## Remove Processing Feature"
   ]
  },
  {
   "cell_type": "code",
   "execution_count": 21,
   "id": "85fd13b3-76a8-4bc6-be6f-a135c2650160",
   "metadata": {},
   "outputs": [],
   "source": [
    "post_process_feature = [\n",
    "    'SS_features',\n",
    "    'scaledFeatures',\n",
    "    'timestamp',\n",
    "    'rawPrediction',\n",
    "    'probability',\n",
    "    'prediction'\n",
    "]\n",
    "\n",
    "result = df.drop(*post_process_feature)"
   ]
  },
  {
   "cell_type": "markdown",
   "id": "b269e23d-d257-4531-97a9-dd148126771a",
   "metadata": {},
   "source": [
    "# Write Result to MongoDB"
   ]
  },
  {
   "cell_type": "code",
   "execution_count": 22,
   "id": "ae75813b-5e07-4332-98d2-9493b04657f0",
   "metadata": {},
   "outputs": [],
   "source": [
    "def write_mongo_row(data, epoch_id):\n",
    "    data.write \\\n",
    "    .format(\"mongo\") \\\n",
    "    .mode(\"append\") \\\n",
    "    .option(\"database\",\"mataelanglab\") \\\n",
    "    .option(\"collection\", \"stream_result\") \\\n",
    "    .save()\n",
    "    pass"
   ]
  },
  {
   "cell_type": "code",
   "execution_count": 23,
   "id": "8dc64fe0-980a-47fb-82ba-4933d6a392e4",
   "metadata": {
    "tags": []
   },
   "outputs": [],
   "source": [
    "query = result.writeStream.foreachBatch(write_mongo_row).start()"
   ]
  },
  {
   "cell_type": "code",
   "execution_count": null,
   "id": "f8409d47-75a4-47b1-b438-db396b8da1b1",
   "metadata": {
    "tags": []
   },
   "outputs": [],
   "source": [
    "query.awaitTermination()"
   ]
  },
  {
   "cell_type": "code",
   "execution_count": null,
   "id": "e4a3c60a-a31a-49f4-ba00-06c7836afee4",
   "metadata": {},
   "outputs": [],
   "source": [
    "sc.stop()"
   ]
  },
  {
   "cell_type": "code",
   "execution_count": null,
   "id": "dd5f77b7-5d2b-435b-8c2e-50620136728f",
   "metadata": {},
   "outputs": [],
   "source": []
  }
 ],
 "metadata": {
  "kernelspec": {
   "display_name": "Python 3 (ipykernel)",
   "language": "python",
   "name": "python3"
  },
  "language_info": {
   "codemirror_mode": {
    "name": "ipython",
    "version": 3
   },
   "file_extension": ".py",
   "mimetype": "text/x-python",
   "name": "python",
   "nbconvert_exporter": "python",
   "pygments_lexer": "ipython3",
   "version": "3.9.12"
  }
 },
 "nbformat": 4,
 "nbformat_minor": 5
}
