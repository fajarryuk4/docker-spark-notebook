{
 "cells": [
  {
   "cell_type": "code",
   "execution_count": 1,
   "id": "6f5ad08f-4617-4591-afa8-cad89ae05eb1",
   "metadata": {},
   "outputs": [
    {
     "name": "stdout",
     "output_type": "stream",
     "text": [
      "Requirement already satisfied: pymongo in /opt/conda/lib/python3.9/site-packages (4.1.1)\n",
      "Note: you may need to restart the kernel to use updated packages.\n"
     ]
    }
   ],
   "source": [
    "%pip install pymongo"
   ]
  },
  {
   "cell_type": "markdown",
   "id": "bc468a5f-511d-4fd9-860d-50f767eeb2ef",
   "metadata": {
    "tags": []
   },
   "source": [
    "# Crate Directory and Output File"
   ]
  },
  {
   "cell_type": "code",
   "execution_count": 2,
   "id": "6c8bf9e0-ede1-424a-a91a-683511079a2e",
   "metadata": {},
   "outputs": [],
   "source": [
    "#Use '/resource' to syncronize folder with host\n",
    "\n",
    "!mkdir -p ~/output/sklearn-model/naive-bayes"
   ]
  },
  {
   "cell_type": "code",
   "execution_count": 3,
   "id": "c822dc56-f46c-4de3-b6c2-90cede0ddf81",
   "metadata": {},
   "outputs": [],
   "source": [
    "input_path  = \"/home/jovyan/output/renamed-data/binary/TrainDataUnderSampling.csv\"\n",
    "output_path = \"/home/jovyan/output/sklearn-model/naive-bayes\""
   ]
  },
  {
   "cell_type": "markdown",
   "id": "9f510173-c95d-4063-8ecf-7550b7736ef2",
   "metadata": {},
   "source": [
    "# Import Package"
   ]
  },
  {
   "cell_type": "code",
   "execution_count": 4,
   "id": "4e5ec874-8891-4a18-8b25-7dbcb00f4665",
   "metadata": {},
   "outputs": [],
   "source": [
    "import time\n",
    "import pickle\n",
    "import numpy as np\n",
    "import pandas as pd\n",
    "from gridfs import GridFS\n",
    "from statistics import mean\n",
    "from datetime import datetime\n",
    "from bson.binary import Binary\n",
    "import matplotlib.pyplot as plt\n",
    "from pymongo import MongoClient\n",
    "\n",
    "from sklearn.naive_bayes import GaussianNB\n",
    "\n",
    "from sklearn import metrics\n",
    "from sklearn.decomposition import PCA\n",
    "from sklearn.model_selection import KFold\n",
    "from sklearn.metrics import confusion_matrix\n",
    "from sklearn.preprocessing import StandardScaler\n",
    "from sklearn.model_selection import train_test_split, cross_val_score"
   ]
  },
  {
   "cell_type": "markdown",
   "id": "3ff42673-74d0-4f97-a860-878a438bef54",
   "metadata": {},
   "source": [
    "# DB Connections"
   ]
  },
  {
   "cell_type": "code",
   "execution_count": 5,
   "id": "28650d1a-4e6d-4936-ace7-2c367b0e612f",
   "metadata": {},
   "outputs": [],
   "source": [
    "client = MongoClient(\"mongodb://mongodb:27017\")\n",
    "db = client['mataelanglab']\n",
    "\n",
    "result_col = db['sklearn_result']\n",
    "cv_col = db['sklearn_cv']\n",
    "model_col = GridFS(db, 'sklearn_model')"
   ]
  },
  {
   "cell_type": "markdown",
   "id": "55845970-a248-4b44-9fa3-25def5ccdd28",
   "metadata": {
    "tags": []
   },
   "source": [
    "# Read Data"
   ]
  },
  {
   "cell_type": "code",
   "execution_count": 6,
   "id": "365095ed-8a44-445a-aa17-627bb7744d74",
   "metadata": {},
   "outputs": [],
   "source": [
    "df = pd.read_csv(input_path)"
   ]
  },
  {
   "cell_type": "markdown",
   "id": "8a0641c5-18fa-44bd-922f-8446e377a031",
   "metadata": {
    "tags": []
   },
   "source": [
    "# Normalisasi"
   ]
  },
  {
   "cell_type": "code",
   "execution_count": 7,
   "id": "a1e99a69-b086-4df7-b019-2de457c3cf34",
   "metadata": {},
   "outputs": [],
   "source": [
    "xNorm = df.drop(['Unnamed: 0','flow_id','src_ip','src_port','dst_ip','dst_port','protocol','timestamp','label'],axis=1)\n",
    "yNorm = df[['label']]"
   ]
  },
  {
   "cell_type": "code",
   "execution_count": 8,
   "id": "b3c442b6-07b3-4859-8d4d-0e8f0e96054c",
   "metadata": {},
   "outputs": [
    {
     "data": {
      "text/html": [
       "<div>\n",
       "<style scoped>\n",
       "    .dataframe tbody tr th:only-of-type {\n",
       "        vertical-align: middle;\n",
       "    }\n",
       "\n",
       "    .dataframe tbody tr th {\n",
       "        vertical-align: top;\n",
       "    }\n",
       "\n",
       "    .dataframe thead th {\n",
       "        text-align: right;\n",
       "    }\n",
       "</style>\n",
       "<table border=\"1\" class=\"dataframe\">\n",
       "  <thead>\n",
       "    <tr style=\"text-align: right;\">\n",
       "      <th></th>\n",
       "      <th>flow_duration</th>\n",
       "      <th>total_fwd_packet</th>\n",
       "      <th>total_bwd_packets</th>\n",
       "      <th>total_length_of_fwd_packet</th>\n",
       "      <th>total_length_of_bwd_packet</th>\n",
       "      <th>fwd_packet_length_max</th>\n",
       "      <th>fwd_packet_length_min</th>\n",
       "      <th>fwd_packet_length_mean</th>\n",
       "      <th>fwd_packet_length_std</th>\n",
       "      <th>bwd_packet_length_max</th>\n",
       "      <th>...</th>\n",
       "      <th>fwd_act_data_pkts</th>\n",
       "      <th>fwd_seg_size_min</th>\n",
       "      <th>active_mean</th>\n",
       "      <th>active_std</th>\n",
       "      <th>active_max</th>\n",
       "      <th>active_min</th>\n",
       "      <th>idle_mean</th>\n",
       "      <th>idle_std</th>\n",
       "      <th>idle_max</th>\n",
       "      <th>idle_min</th>\n",
       "    </tr>\n",
       "  </thead>\n",
       "  <tbody>\n",
       "    <tr>\n",
       "      <th>0</th>\n",
       "      <td>-0.377311</td>\n",
       "      <td>-0.044437</td>\n",
       "      <td>-0.053995</td>\n",
       "      <td>-0.003726</td>\n",
       "      <td>-0.046560</td>\n",
       "      <td>3.075022</td>\n",
       "      <td>-0.474292</td>\n",
       "      <td>1.190075</td>\n",
       "      <td>3.450602</td>\n",
       "      <td>-0.380966</td>\n",
       "      <td>...</td>\n",
       "      <td>-0.036528</td>\n",
       "      <td>0.237673</td>\n",
       "      <td>-0.314924</td>\n",
       "      <td>-0.057004</td>\n",
       "      <td>-0.293148</td>\n",
       "      <td>-0.313532</td>\n",
       "      <td>0.632930</td>\n",
       "      <td>-0.659378</td>\n",
       "      <td>-0.463769</td>\n",
       "      <td>0.650771</td>\n",
       "    </tr>\n",
       "    <tr>\n",
       "      <th>1</th>\n",
       "      <td>1.621775</td>\n",
       "      <td>-0.062786</td>\n",
       "      <td>-0.065338</td>\n",
       "      <td>-0.018863</td>\n",
       "      <td>-0.046926</td>\n",
       "      <td>-0.103881</td>\n",
       "      <td>-0.474292</td>\n",
       "      <td>-0.154518</td>\n",
       "      <td>0.089382</td>\n",
       "      <td>-0.522705</td>\n",
       "      <td>...</td>\n",
       "      <td>-0.036528</td>\n",
       "      <td>0.237673</td>\n",
       "      <td>-0.314924</td>\n",
       "      <td>-0.057004</td>\n",
       "      <td>-0.293148</td>\n",
       "      <td>-0.313532</td>\n",
       "      <td>-1.465506</td>\n",
       "      <td>1.506739</td>\n",
       "      <td>-0.463530</td>\n",
       "      <td>-1.509516</td>\n",
       "    </tr>\n",
       "    <tr>\n",
       "      <th>2</th>\n",
       "      <td>-0.290783</td>\n",
       "      <td>0.295013</td>\n",
       "      <td>0.059432</td>\n",
       "      <td>1.548795</td>\n",
       "      <td>-0.046611</td>\n",
       "      <td>8.110218</td>\n",
       "      <td>-0.474292</td>\n",
       "      <td>17.184021</td>\n",
       "      <td>5.072583</td>\n",
       "      <td>-0.400652</td>\n",
       "      <td>...</td>\n",
       "      <td>1.264708</td>\n",
       "      <td>0.237673</td>\n",
       "      <td>-0.314924</td>\n",
       "      <td>-0.057004</td>\n",
       "      <td>-0.293148</td>\n",
       "      <td>-0.313532</td>\n",
       "      <td>0.633043</td>\n",
       "      <td>-0.659378</td>\n",
       "      <td>-0.462282</td>\n",
       "      <td>0.650830</td>\n",
       "    </tr>\n",
       "    <tr>\n",
       "      <th>3</th>\n",
       "      <td>-0.410054</td>\n",
       "      <td>0.038132</td>\n",
       "      <td>0.082118</td>\n",
       "      <td>-0.010714</td>\n",
       "      <td>-0.028506</td>\n",
       "      <td>0.638636</td>\n",
       "      <td>-0.474292</td>\n",
       "      <td>-0.030761</td>\n",
       "      <td>0.348651</td>\n",
       "      <td>0.394661</td>\n",
       "      <td>...</td>\n",
       "      <td>0.305903</td>\n",
       "      <td>0.237673</td>\n",
       "      <td>-0.314924</td>\n",
       "      <td>-0.057004</td>\n",
       "      <td>-0.293148</td>\n",
       "      <td>-0.313532</td>\n",
       "      <td>0.632809</td>\n",
       "      <td>-0.659378</td>\n",
       "      <td>-0.465364</td>\n",
       "      <td>0.650709</td>\n",
       "    </tr>\n",
       "    <tr>\n",
       "      <th>4</th>\n",
       "      <td>1.405972</td>\n",
       "      <td>0.010609</td>\n",
       "      <td>-0.008624</td>\n",
       "      <td>-0.013477</td>\n",
       "      <td>-0.045711</td>\n",
       "      <td>-0.115483</td>\n",
       "      <td>-0.474292</td>\n",
       "      <td>-0.062998</td>\n",
       "      <td>0.010400</td>\n",
       "      <td>-0.440024</td>\n",
       "      <td>...</td>\n",
       "      <td>0.168931</td>\n",
       "      <td>0.237673</td>\n",
       "      <td>0.448076</td>\n",
       "      <td>-0.057004</td>\n",
       "      <td>0.370849</td>\n",
       "      <td>0.484196</td>\n",
       "      <td>-1.604441</td>\n",
       "      <td>1.363325</td>\n",
       "      <td>-4.123980</td>\n",
       "      <td>-1.509516</td>\n",
       "    </tr>\n",
       "  </tbody>\n",
       "</table>\n",
       "<p>5 rows × 76 columns</p>\n",
       "</div>"
      ],
      "text/plain": [
       "   flow_duration  total_fwd_packet  total_bwd_packets  \\\n",
       "0      -0.377311         -0.044437          -0.053995   \n",
       "1       1.621775         -0.062786          -0.065338   \n",
       "2      -0.290783          0.295013           0.059432   \n",
       "3      -0.410054          0.038132           0.082118   \n",
       "4       1.405972          0.010609          -0.008624   \n",
       "\n",
       "   total_length_of_fwd_packet  total_length_of_bwd_packet  \\\n",
       "0                   -0.003726                   -0.046560   \n",
       "1                   -0.018863                   -0.046926   \n",
       "2                    1.548795                   -0.046611   \n",
       "3                   -0.010714                   -0.028506   \n",
       "4                   -0.013477                   -0.045711   \n",
       "\n",
       "   fwd_packet_length_max  fwd_packet_length_min  fwd_packet_length_mean  \\\n",
       "0               3.075022              -0.474292                1.190075   \n",
       "1              -0.103881              -0.474292               -0.154518   \n",
       "2               8.110218              -0.474292               17.184021   \n",
       "3               0.638636              -0.474292               -0.030761   \n",
       "4              -0.115483              -0.474292               -0.062998   \n",
       "\n",
       "   fwd_packet_length_std  bwd_packet_length_max  ...  fwd_act_data_pkts  \\\n",
       "0               3.450602              -0.380966  ...          -0.036528   \n",
       "1               0.089382              -0.522705  ...          -0.036528   \n",
       "2               5.072583              -0.400652  ...           1.264708   \n",
       "3               0.348651               0.394661  ...           0.305903   \n",
       "4               0.010400              -0.440024  ...           0.168931   \n",
       "\n",
       "   fwd_seg_size_min  active_mean  active_std  active_max  active_min  \\\n",
       "0          0.237673    -0.314924   -0.057004   -0.293148   -0.313532   \n",
       "1          0.237673    -0.314924   -0.057004   -0.293148   -0.313532   \n",
       "2          0.237673    -0.314924   -0.057004   -0.293148   -0.313532   \n",
       "3          0.237673    -0.314924   -0.057004   -0.293148   -0.313532   \n",
       "4          0.237673     0.448076   -0.057004    0.370849    0.484196   \n",
       "\n",
       "   idle_mean  idle_std  idle_max  idle_min  \n",
       "0   0.632930 -0.659378 -0.463769  0.650771  \n",
       "1  -1.465506  1.506739 -0.463530 -1.509516  \n",
       "2   0.633043 -0.659378 -0.462282  0.650830  \n",
       "3   0.632809 -0.659378 -0.465364  0.650709  \n",
       "4  -1.604441  1.363325 -4.123980 -1.509516  \n",
       "\n",
       "[5 rows x 76 columns]"
      ]
     },
     "execution_count": 8,
     "metadata": {},
     "output_type": "execute_result"
    }
   ],
   "source": [
    "stdScaler = StandardScaler()\n",
    "normData = pd.DataFrame(stdScaler.fit_transform(xNorm), columns=xNorm.columns)\n",
    "normData.head(5)"
   ]
  },
  {
   "cell_type": "markdown",
   "id": "9da82e15-5fb7-419c-beb4-3f26be4041ab",
   "metadata": {},
   "source": [
    "# All Data without Feature Selection"
   ]
  },
  {
   "cell_type": "markdown",
   "id": "8b99093c-ad6f-4e45-b8fe-62a4c21a39a9",
   "metadata": {
    "tags": []
   },
   "source": [
    "## Processing"
   ]
  },
  {
   "cell_type": "code",
   "execution_count": 9,
   "id": "a3957db4-4887-4067-b3e1-be35a2a5c42d",
   "metadata": {},
   "outputs": [
    {
     "name": "stderr",
     "output_type": "stream",
     "text": [
      "/opt/conda/lib/python3.9/site-packages/sklearn/utils/validation.py:1111: DataConversionWarning: A column-vector y was passed when a 1d array was expected. Please change the shape of y to (n_samples, ), for example using ravel().\n",
      "  y = column_or_1d(y, warn=True)\n"
     ]
    },
    {
     "name": "stdout",
     "output_type": "stream",
     "text": [
      "--- 0.4953761100769043 seconds ---\n"
     ]
    }
   ],
   "source": [
    "start_time = time.time()\n",
    "# Split dataset into training set and test set\n",
    "xtrain, xtest, ytrain, ytest = train_test_split(normData, yNorm, test_size=0.3, random_state=42)\n",
    "\n",
    "# Mengaktifkan/memanggil/membuat fungsi klasifikasi Naive Bayes\n",
    "nb = GaussianNB()\n",
    "\n",
    "# Memasukkan data training pada fungsi klasifikasi Naive Bayes\n",
    "nbModel = nb.fit(xtrain, ytrain)\n",
    "\n",
    "# Menentukan hasil prediksi dari x_test\n",
    "ypred = nbModel.predict(xtest)\n",
    "\n",
    "duration = (time.time() - start_time)\n",
    "print(\"--- %s seconds ---\" % duration)"
   ]
  },
  {
   "cell_type": "code",
   "execution_count": 10,
   "id": "7cd897c7-06cb-46e6-97a5-f43b3b51aee3",
   "metadata": {},
   "outputs": [
    {
     "name": "stdout",
     "output_type": "stream",
     "text": [
      "confusion matrix : [12068 20601  2862 29910]\n",
      "accuracy :  0.6415\n",
      "recall : 0.9127\n",
      "precision :  0.5921\n",
      "f1-measure : 0.7183\n"
     ]
    }
   ],
   "source": [
    "print(\"confusion matrix :\",confusion_matrix(ytest, ypred).ravel())\n",
    "tn, fp, fn, tp = confusion_matrix(ytest, ypred).ravel()\n",
    "\n",
    "accuracy = (tp + tn) / (tp + tn + fp + fn)\n",
    "recall = tp / ( tp + fn)\n",
    "precision = tp / (tp + fp)\n",
    "f1_score = 2 * (precision * recall) / (precision + recall)\n",
    "\n",
    "print(str('accuracy :  %0.4f' % accuracy) +\"\\n\" + str('recall : %0.4f' % recall) +\n",
    "      \"\\n\" + str('precision :  %0.4f' %precision) + \"\\n\" + str('f1-measure : %0.4f' %f1_score))"
   ]
  },
  {
   "cell_type": "code",
   "execution_count": 11,
   "id": "714c9988-d159-438f-ace8-d06b18aa73ea",
   "metadata": {
    "tags": []
   },
   "outputs": [],
   "source": [
    "# Save Pickle\n",
    "path = output_path+\"/all-feature.pkl\"\n",
    "with open(path, \"wb\") as f:\n",
    "    pickle_model = pickle.dump(nbModel, f)"
   ]
  },
  {
   "cell_type": "code",
   "execution_count": 12,
   "id": "654ee40b-64bd-45f9-8e3c-d2279c8f62f3",
   "metadata": {},
   "outputs": [
    {
     "data": {
      "text/plain": [
       "<pymongo.results.InsertOneResult at 0x7f5e7a9cd430>"
      ]
     },
     "execution_count": 12,
     "metadata": {},
     "output_type": "execute_result"
    }
   ],
   "source": [
    "# Store to MongoDB\n",
    "\n",
    "with open(path, \"rb\") as f:\n",
    "    model_col.put(f, filename=\"NaiveBayes-AllFeature.pkl\")\n",
    "    \n",
    "result_col.insert_one({\n",
    "    'machine_learning': \"Naive Bayes\",\n",
    "    'feature': \"All Feature\",\n",
    "    'label': \"Binary-Label\",\n",
    "    'duration': duration,\n",
    "    'accuracy': accuracy,\n",
    "    'recall': recall,\n",
    "    'precision': precision,\n",
    "    'f1_score': f1_score,\n",
    "    'created_at': datetime.fromtimestamp(time.time())\n",
    "})"
   ]
  },
  {
   "cell_type": "markdown",
   "id": "d54e1a7e-9d32-4dce-85ec-6f71ea9ea242",
   "metadata": {
    "tags": []
   },
   "source": [
    "## Cross Validation Process"
   ]
  },
  {
   "cell_type": "code",
   "execution_count": 13,
   "id": "755939ad-1c44-4154-8491-7b55b93d6e26",
   "metadata": {},
   "outputs": [
    {
     "name": "stdout",
     "output_type": "stream",
     "text": [
      "confusion matrix : [ 3674  7192   849 10099]\n",
      "accuracy :  0.6314\n",
      "recall : 0.9225\n",
      "precision :  0.5841\n",
      "f1-measure : 0.7153\n",
      "confusion matrix : [ 3755  7165   882 10012]\n",
      "accuracy :  0.6311\n",
      "recall : 0.9190\n",
      "precision :  0.5829\n",
      "f1-measure : 0.7133\n",
      "confusion matrix : [ 3765  7132   822 10095]\n",
      "accuracy :  0.6354\n",
      "recall : 0.9247\n",
      "precision :  0.5860\n",
      "f1-measure : 0.7174\n",
      "confusion matrix : [ 3721  7161   872 10060]\n",
      "accuracy :  0.6318\n",
      "recall : 0.9202\n",
      "precision :  0.5842\n",
      "f1-measure : 0.7147\n",
      "confusion matrix : [ 3721  7240   802 10050]\n",
      "accuracy :  0.6313\n",
      "recall : 0.9261\n",
      "precision :  0.5813\n",
      "f1-measure : 0.7142\n",
      "confusion matrix : [ 3612  7238   831 10132]\n",
      "accuracy :  0.6301\n",
      "recall : 0.9242\n",
      "precision :  0.5833\n",
      "f1-measure : 0.7152\n",
      "confusion matrix : [ 3672  7268   850 10023]\n",
      "accuracy :  0.6278\n",
      "recall : 0.9218\n",
      "precision :  0.5797\n",
      "f1-measure : 0.7118\n",
      "confusion matrix : [3730 7282  885 9916]\n",
      "accuracy :  0.6256\n",
      "recall : 0.9181\n",
      "precision :  0.5766\n",
      "f1-measure : 0.7083\n",
      "confusion matrix : [ 3743  7126   814 10130]\n",
      "accuracy :  0.6360\n",
      "recall : 0.9256\n",
      "precision :  0.5870\n",
      "f1-measure : 0.7184\n",
      "confusion matrix : [ 3673  7197   837 10106]\n",
      "accuracy :  0.6317\n",
      "recall : 0.9235\n",
      "precision :  0.5841\n",
      "f1-measure : 0.7156\n"
     ]
    }
   ],
   "source": [
    "X=np.array(normData)\n",
    "y=np.array(yNorm.values.ravel())\n",
    "\n",
    "accList = []\n",
    "recList = []\n",
    "precList=[]\n",
    "f1List=[]\n",
    "\n",
    "kf= KFold(n_splits=10,shuffle=True)\n",
    "kf.get_n_splits(X)\n",
    "for train_index, test_index in kf.split(X) :\n",
    "    X_train,X_test = X[train_index],X[test_index]\n",
    "    y_train,y_test = y[train_index],y[test_index]\n",
    "    \n",
    "    nb = GaussianNB()\n",
    "    nbModel = nb.fit(X_train, y_train)\n",
    "    \n",
    "    y_pred = nbModel.predict(X_test)\n",
    "    print(\"confusion matrix :\", confusion_matrix(y_test,y_pred).ravel())\n",
    "    tn,fp,fn,tp = confusion_matrix(y_test,y_pred).ravel()\n",
    "    \n",
    "    accuracy = (tp + tn) / (tp + tn + fp + fn)\n",
    "    recall = tp / (tp + fn)\n",
    "    precision = tp / (tp + fp)\n",
    "    f1_score = 2 * (precision * recall) / (precision + recall)\n",
    "    \n",
    "    accList.append(accuracy)\n",
    "    recList.append(recall)\n",
    "    precList.append(precision)\n",
    "    f1List.append(f1_score)\n",
    "    \n",
    "    print(str('accuracy :  %0.4f' % accuracy) +\"\\n\" + str('recall : %0.4f' % recall) +\n",
    "          \"\\n\" + str('precision :  %0.4f' %precision) + \"\\n\" + str('f1-measure : %0.4f' %f1_score))"
   ]
  },
  {
   "cell_type": "code",
   "execution_count": 14,
   "id": "6cd0c5a9-d610-4559-8268-46d907e75765",
   "metadata": {},
   "outputs": [
    {
     "name": "stdout",
     "output_type": "stream",
     "text": [
      "accuracy :  0.631212902333428\n",
      "recall :  0.9225746447041068\n",
      "precision :  0.5829015272636625\n",
      "f1_score :  0.7144158457782008\n"
     ]
    },
    {
     "data": {
      "text/plain": [
       "<pymongo.results.InsertOneResult at 0x7f5e72769e80>"
      ]
     },
     "execution_count": 14,
     "metadata": {},
     "output_type": "execute_result"
    }
   ],
   "source": [
    "print('accuracy : ',(mean(accList)))\n",
    "print('recall : ',(mean(recList)))\n",
    "print('precision : ',(mean(precList)))\n",
    "print('f1_score : ',(mean(f1List)))\n",
    "\n",
    "cv_col.insert_one({\n",
    "    'machine_learning': \"Naive Bayes\",\n",
    "    'feature': \"All Feature\",\n",
    "    'label': \"Binary-Label\",\n",
    "    'accuracy': (mean(accList)),\n",
    "    'recall': (mean(recList)),\n",
    "    'precision': (mean(precList)),\n",
    "    'f1_score': (mean(f1List)),\n",
    "    'created_at': datetime.fromtimestamp(time.time())\n",
    "})"
   ]
  },
  {
   "cell_type": "markdown",
   "id": "009b094e-30fe-4a41-b470-b186bcf5a8f7",
   "metadata": {},
   "source": [
    "# Using Feature Importance"
   ]
  },
  {
   "cell_type": "markdown",
   "id": "7b71587b-b53d-47d9-a08b-195d8d8530d8",
   "metadata": {
    "tags": []
   },
   "source": [
    "## Processing\n",
    "\n",
    "Fitur yang digunakan dihitung pada proses machine learning pada Decission Tree"
   ]
  },
  {
   "cell_type": "code",
   "execution_count": 15,
   "id": "f93e9bb2-0a80-4be4-b870-f8388886b99b",
   "metadata": {},
   "outputs": [],
   "source": [
    "importance = normData[[\n",
    "    'idle_max',\n",
    "    'fwd_init_win_bytes',\n",
    "    'fwd_header_length',\n",
    "    'bwd_packets_per_s',\n",
    "    'flow_bytes_per_s',\n",
    "    'bwd_init_win_bytes',\n",
    "    'flow_iat_max'\n",
    "]]"
   ]
  },
  {
   "cell_type": "code",
   "execution_count": 16,
   "id": "53fc0f75-710b-4b5b-b8c9-31fd749d3c94",
   "metadata": {},
   "outputs": [
    {
     "name": "stdout",
     "output_type": "stream",
     "text": [
      "--- 0.09663105010986328 seconds ---\n"
     ]
    },
    {
     "name": "stderr",
     "output_type": "stream",
     "text": [
      "/opt/conda/lib/python3.9/site-packages/sklearn/utils/validation.py:1111: DataConversionWarning: A column-vector y was passed when a 1d array was expected. Please change the shape of y to (n_samples, ), for example using ravel().\n",
      "  y = column_or_1d(y, warn=True)\n"
     ]
    }
   ],
   "source": [
    "start_time = time.time()\n",
    "# Split dataset into training set and test set\n",
    "xftrain, xftest, yftrain, yftest = train_test_split(importance, yNorm, test_size=0.3, random_state=42)\n",
    "\n",
    "# Mengaktifkan/memanggil/membuat fungsi klasifikasi Naive Bayes\n",
    "nb = GaussianNB()\n",
    "\n",
    "# Memasukkan data training pada fungsi klasifikasi Naive Bayes\n",
    "nbModel = nb.fit(xftrain, yftrain)\n",
    "\n",
    "# Menentukan hasil prediksi dari x_test\n",
    "yfpred = nbModel.predict(xftest)\n",
    "\n",
    "duration = (time.time() - start_time)\n",
    "print(\"--- %s seconds ---\" % duration)"
   ]
  },
  {
   "cell_type": "code",
   "execution_count": 17,
   "id": "24b59d24-2820-4e84-969c-8fce19c41d49",
   "metadata": {},
   "outputs": [
    {
     "name": "stdout",
     "output_type": "stream",
     "text": [
      "confusion matrix : [ 7763 24906  1551 31221]\n",
      "accuracy :  0.5957\n",
      "recall : 0.9527\n",
      "precision :  0.5563\n",
      "f1-measure : 0.7024\n"
     ]
    }
   ],
   "source": [
    "print(\"confusion matrix :\",confusion_matrix(yftest, yfpred).ravel())\n",
    "tn, fp, fn, tp = confusion_matrix(yftest, yfpred).ravel()\n",
    "\n",
    "accuracy = (tp + tn) / (tp + tn + fp + fn)\n",
    "recall = tp / ( tp + fn)\n",
    "precision = tp / (tp + fp)\n",
    "f1_score = 2 * (precision * recall) / (precision + recall)\n",
    "\n",
    "print(str('accuracy :  %0.4f' % accuracy) +\"\\n\" + str('recall : %0.4f' % recall) +\n",
    "      \"\\n\" + str('precision :  %0.4f' %precision) + \"\\n\" + str('f1-measure : %0.4f' %f1_score))"
   ]
  },
  {
   "cell_type": "code",
   "execution_count": 18,
   "id": "0e9fbcc2-ff1b-46ec-9d6c-db3604530a1d",
   "metadata": {
    "tags": []
   },
   "outputs": [],
   "source": [
    "# Save Pickle\n",
    "path = output_path+\"/feature-importance.pkl\"\n",
    "with open(path, \"wb\") as f:\n",
    "    pickle_model = pickle.dump(nbModel, f)"
   ]
  },
  {
   "cell_type": "code",
   "execution_count": 19,
   "id": "2c0e49b6-3a1f-4f93-ac00-eb3d123f9ead",
   "metadata": {},
   "outputs": [
    {
     "data": {
      "text/plain": [
       "<pymongo.results.InsertOneResult at 0x7f5e80ab2880>"
      ]
     },
     "execution_count": 19,
     "metadata": {},
     "output_type": "execute_result"
    }
   ],
   "source": [
    "# Store to MongoDB\n",
    "\n",
    "with open(path, \"rb\") as f:\n",
    "    model_col.put(f, filename=\"NaiveBayes-FeatureImportance.pkl\")\n",
    "    \n",
    "result_col.insert_one({\n",
    "    'machine_learning': \"Naive Bayes\",\n",
    "    'feature': \"Feature Importance\",\n",
    "    'label': \"Binary-Label\",\n",
    "    'duration': duration,\n",
    "    'accuracy': accuracy,\n",
    "    'recall': recall,\n",
    "    'precision': precision,\n",
    "    'f1_score': f1_score,\n",
    "    'created_at': datetime.fromtimestamp(time.time())\n",
    "})"
   ]
  },
  {
   "cell_type": "markdown",
   "id": "4311901d-85bd-47fd-845c-567d3829adbb",
   "metadata": {
    "tags": []
   },
   "source": [
    "## Cross Validation Process"
   ]
  },
  {
   "cell_type": "code",
   "execution_count": 20,
   "id": "4b38ced5-43e4-46b6-a119-c89db0f783cb",
   "metadata": {},
   "outputs": [
    {
     "name": "stdout",
     "output_type": "stream",
     "text": [
      "confusion matrix : [ 2600  8301   511 10402]\n",
      "accuracy :  0.5960\n",
      "recall : 0.9532\n",
      "precision :  0.5562\n",
      "f1-measure : 0.7025\n",
      "confusion matrix : [ 2590  8312   515 10397]\n",
      "accuracy :  0.5954\n",
      "recall : 0.9528\n",
      "precision :  0.5557\n",
      "f1-measure : 0.7020\n",
      "confusion matrix : [ 2601  8149   510 10554]\n",
      "accuracy :  0.6031\n",
      "recall : 0.9539\n",
      "precision :  0.5643\n",
      "f1-measure : 0.7091\n",
      "confusion matrix : [ 2652  8246   530 10386]\n",
      "accuracy :  0.5977\n",
      "recall : 0.9514\n",
      "precision :  0.5574\n",
      "f1-measure : 0.7030\n",
      "confusion matrix : [ 2599  8353   514 10347]\n",
      "accuracy :  0.5935\n",
      "recall : 0.9527\n",
      "precision :  0.5533\n",
      "f1-measure : 0.7000\n",
      "confusion matrix : [ 2475  8485   673 10180]\n",
      "accuracy :  0.5802\n",
      "recall : 0.9380\n",
      "precision :  0.5454\n",
      "f1-measure : 0.6897\n",
      "confusion matrix : [ 2626  8300   532 10355]\n",
      "accuracy :  0.5951\n",
      "recall : 0.9511\n",
      "precision :  0.5551\n",
      "f1-measure : 0.7010\n",
      "confusion matrix : [ 2687  8303   505 10318]\n",
      "accuracy :  0.5962\n",
      "recall : 0.9533\n",
      "precision :  0.5541\n",
      "f1-measure : 0.7009\n",
      "confusion matrix : [ 2579  8289   576 10369]\n",
      "accuracy :  0.5936\n",
      "recall : 0.9474\n",
      "precision :  0.5557\n",
      "f1-measure : 0.7005\n",
      "confusion matrix : [ 2643  8277   660 10233]\n",
      "accuracy :  0.5903\n",
      "recall : 0.9394\n",
      "precision :  0.5528\n",
      "f1-measure : 0.6961\n"
     ]
    }
   ],
   "source": [
    "X=np.array(importance)\n",
    "y=np.array(yNorm.values.ravel())\n",
    "\n",
    "accList = []\n",
    "recList = []\n",
    "precList=[]\n",
    "f1List=[]\n",
    "\n",
    "kf= KFold(n_splits=10,shuffle=True)\n",
    "kf.get_n_splits(X)\n",
    "for train_index, test_index in kf.split(X) :\n",
    "    X_train,X_test = X[train_index],X[test_index]\n",
    "    y_train,y_test = y[train_index],y[test_index]\n",
    "    \n",
    "    nb = GaussianNB()\n",
    "    nbModel = nb.fit(X_train, y_train)\n",
    "    \n",
    "    y_pred = nbModel.predict(X_test)\n",
    "    print(\"confusion matrix :\", confusion_matrix(y_test,y_pred).ravel())\n",
    "    tn,fp,fn,tp = confusion_matrix(y_test,y_pred).ravel()\n",
    "    \n",
    "    accuracy = (tp + tn) / (tp + tn + fp + fn)\n",
    "    recall = tp / (tp + fn)\n",
    "    precision = tp / (tp + fp)\n",
    "    f1_score = 2 * (precision * recall) / (precision + recall)\n",
    "    \n",
    "    accList.append(accuracy)\n",
    "    recList.append(recall)\n",
    "    precList.append(precision)\n",
    "    f1List.append(f1_score)\n",
    "    \n",
    "    print(str('accuracy :  %0.4f' % accuracy) +\"\\n\" + str('recall : %0.4f' % recall) +\n",
    "          \"\\n\" + str('precision :  %0.4f' %precision) + \"\\n\" + str('f1-measure : %0.4f' %f1_score))"
   ]
  },
  {
   "cell_type": "code",
   "execution_count": 21,
   "id": "911622af-3bb1-4318-8232-bf130d12c1a0",
   "metadata": {},
   "outputs": [
    {
     "name": "stdout",
     "output_type": "stream",
     "text": [
      "accuracy :  0.5940980510086084\n",
      "recall :  0.9493253890009423\n",
      "precision :  0.5550094348398613\n",
      "f1_score :  0.7004832043133715\n"
     ]
    },
    {
     "data": {
      "text/plain": [
       "<pymongo.results.InsertOneResult at 0x7f5e7a9f5cd0>"
      ]
     },
     "execution_count": 21,
     "metadata": {},
     "output_type": "execute_result"
    }
   ],
   "source": [
    "print('accuracy : ',(mean(accList)))\n",
    "print('recall : ',(mean(recList)))\n",
    "print('precision : ',(mean(precList)))\n",
    "print('f1_score : ',(mean(f1List)))\n",
    "\n",
    "cv_col.insert_one({\n",
    "    'machine_learning': \"Naive Bayes\",\n",
    "    'feature': \"Feature Importance\",\n",
    "    'label': \"Binary-Label\",\n",
    "    'accuracy': (mean(accList)),\n",
    "    'recall': (mean(recList)),\n",
    "    'precision': (mean(precList)),\n",
    "    'f1_score': (mean(f1List)),\n",
    "    'created_at': datetime.fromtimestamp(time.time())\n",
    "})"
   ]
  },
  {
   "cell_type": "markdown",
   "id": "49ea0d6e-bb16-4c1e-9035-8cf8f9199bdd",
   "metadata": {},
   "source": [
    "# Using PCA"
   ]
  },
  {
   "cell_type": "markdown",
   "id": "e0334f04-06c9-4cc2-aac7-629309cd596f",
   "metadata": {
    "tags": []
   },
   "source": [
    "## Processing"
   ]
  },
  {
   "cell_type": "code",
   "execution_count": 22,
   "id": "66dbc734-90ab-4b7d-a65b-4da3ad747c05",
   "metadata": {},
   "outputs": [
    {
     "name": "stdout",
     "output_type": "stream",
     "text": [
      "--- 2.735572338104248 seconds ---\n"
     ]
    }
   ],
   "source": [
    "start_time = time.time()\n",
    "pca = PCA(n_components=2)\n",
    "pca_dataset = pd.DataFrame(pca.fit_transform(normData), columns=[\n",
    "    \"Feature 1\",\n",
    "    \"Feature 2\"\n",
    "])\n",
    "#pca_dataset[\"Label\"] = pca_label[\"Label\"]\n",
    "print(\"--- %s seconds ---\" % (time.time() - start_time))"
   ]
  },
  {
   "cell_type": "code",
   "execution_count": 23,
   "id": "d8556824-9c5b-49da-baa0-6e6ae89f534b",
   "metadata": {},
   "outputs": [
    {
     "name": "stdout",
     "output_type": "stream",
     "text": [
      "[10.88449402  9.09396116]\n"
     ]
    }
   ],
   "source": [
    "print(pca.explained_variance_)"
   ]
  },
  {
   "cell_type": "code",
   "execution_count": 24,
   "id": "3b853a8a-c320-4488-b358-da5193c97a4a",
   "metadata": {},
   "outputs": [
    {
     "name": "stdout",
     "output_type": "stream",
     "text": [
      "19.978455173533803\n"
     ]
    }
   ],
   "source": [
    "a = 0\n",
    "for i in pca.explained_variance_:\n",
    "  a = a+i\n",
    "print(a)"
   ]
  },
  {
   "cell_type": "code",
   "execution_count": 25,
   "id": "cbf9ee55-6a54-441e-bca1-2e4205ff7965",
   "metadata": {},
   "outputs": [
    {
     "name": "stdout",
     "output_type": "stream",
     "text": [
      "--- 0.07073616981506348 seconds ---\n"
     ]
    },
    {
     "name": "stderr",
     "output_type": "stream",
     "text": [
      "/opt/conda/lib/python3.9/site-packages/sklearn/utils/validation.py:1111: DataConversionWarning: A column-vector y was passed when a 1d array was expected. Please change the shape of y to (n_samples, ), for example using ravel().\n",
      "  y = column_or_1d(y, warn=True)\n"
     ]
    }
   ],
   "source": [
    "start_time = time.time()\n",
    "# Split dataset into training set and test set\n",
    "xptrain, xptest, yptrain, yptest = train_test_split(pca_dataset, yNorm, test_size=0.3, random_state=42)\n",
    "\n",
    "# Mengaktifkan/memanggil/membuat fungsi klasifikasi Naive Bayes\n",
    "nb = GaussianNB()\n",
    "\n",
    "# Memasukkan data training pada fungsi klasifikasi Naive Bayes\n",
    "nbModel = nb.fit(xptrain, yptrain)\n",
    "\n",
    "# Menentukan hasil prediksi dari x_test\n",
    "yppred = nbModel.predict(xptest)\n",
    "\n",
    "duration = (time.time() - start_time)\n",
    "print(\"--- %s seconds ---\" % duration)"
   ]
  },
  {
   "cell_type": "code",
   "execution_count": 26,
   "id": "c57bb626-4503-41a8-affb-55e02bc80b3b",
   "metadata": {},
   "outputs": [
    {
     "name": "stdout",
     "output_type": "stream",
     "text": [
      "confusion matrix : [ 9928 22741  2541 30231]\n",
      "accuracy :  0.6137\n",
      "recall : 0.9225\n",
      "precision :  0.5707\n",
      "f1-measure : 0.7051\n"
     ]
    }
   ],
   "source": [
    "print(\"confusion matrix :\",confusion_matrix(yptest, yppred).ravel())\n",
    "tn, fp, fn, tp = confusion_matrix(yptest, yppred).ravel()\n",
    "\n",
    "accuracy = (tp + tn) / (tp + tn + fp + fn)\n",
    "recall = tp / ( tp + fn)\n",
    "precision = tp / (tp + fp)\n",
    "f1_score = 2 * (precision * recall) / (precision + recall)\n",
    "\n",
    "print(str('accuracy :  %0.4f' % accuracy) +\"\\n\" + str('recall : %0.4f' % recall) +\n",
    "      \"\\n\" + str('precision :  %0.4f' %precision) + \"\\n\" + str('f1-measure : %0.4f' %f1_score))"
   ]
  },
  {
   "cell_type": "code",
   "execution_count": 27,
   "id": "c4d22b01-8def-4d0e-9d4c-59272c942326",
   "metadata": {
    "tags": []
   },
   "outputs": [],
   "source": [
    "# Save Pickle\n",
    "path = output_path+\"/pca.pkl\"\n",
    "with open(path, \"wb\") as f:\n",
    "    pickle_model = pickle.dump(nbModel, f)"
   ]
  },
  {
   "cell_type": "code",
   "execution_count": 28,
   "id": "98d9bba5-bfb3-45cc-865c-72b711de5d2e",
   "metadata": {},
   "outputs": [
    {
     "data": {
      "text/plain": [
       "<pymongo.results.InsertOneResult at 0x7f5e80ab2a90>"
      ]
     },
     "execution_count": 28,
     "metadata": {},
     "output_type": "execute_result"
    }
   ],
   "source": [
    "# Store to MongoDB\n",
    "\n",
    "with open(path, \"rb\") as f:\n",
    "    model_col.put(f, filename=\"NaiveBayes-PCA.pkl\")\n",
    "    \n",
    "result_col.insert_one({\n",
    "    'machine_learning': \"Naive Bayes\",\n",
    "    'feature': \"PCA\",\n",
    "    'label': \"Binary-Label\",\n",
    "    'duration': duration,\n",
    "    'accuracy': accuracy,\n",
    "    'recall': recall,\n",
    "    'precision': precision,\n",
    "    'f1_score': f1_score,\n",
    "    'created_at': datetime.fromtimestamp(time.time())\n",
    "})"
   ]
  },
  {
   "cell_type": "markdown",
   "id": "3f07d17a-37e0-47da-8199-746a5d407760",
   "metadata": {
    "tags": []
   },
   "source": [
    "## Cross Validation Process"
   ]
  },
  {
   "cell_type": "code",
   "execution_count": 29,
   "id": "8afefde3-f9fd-40e1-8bfa-80f2c1abeb21",
   "metadata": {},
   "outputs": [
    {
     "name": "stdout",
     "output_type": "stream",
     "text": [
      "confusion matrix : [ 3299  7650   858 10007]\n",
      "accuracy :  0.6100\n",
      "recall : 0.9210\n",
      "precision :  0.5667\n",
      "f1-measure : 0.7017\n",
      "confusion matrix : [ 3340  7577   839 10058]\n",
      "accuracy :  0.6142\n",
      "recall : 0.9230\n",
      "precision :  0.5703\n",
      "f1-measure : 0.7050\n",
      "confusion matrix : [ 3227  7616   819 10152]\n",
      "accuracy :  0.6133\n",
      "recall : 0.9253\n",
      "precision :  0.5714\n",
      "f1-measure : 0.7065\n",
      "confusion matrix : [3352 7679  875 9908]\n",
      "accuracy :  0.6079\n",
      "recall : 0.9189\n",
      "precision :  0.5634\n",
      "f1-measure : 0.6985\n",
      "confusion matrix : [ 3265  7621   847 10080]\n",
      "accuracy :  0.6118\n",
      "recall : 0.9225\n",
      "precision :  0.5695\n",
      "f1-measure : 0.7042\n",
      "confusion matrix : [ 3263  7601   866 10083]\n",
      "accuracy :  0.6118\n",
      "recall : 0.9209\n",
      "precision :  0.5702\n",
      "f1-measure : 0.7043\n",
      "confusion matrix : [ 3354  7501   844 10114]\n",
      "accuracy :  0.6174\n",
      "recall : 0.9230\n",
      "precision :  0.5742\n",
      "f1-measure : 0.7079\n",
      "confusion matrix : [ 3241  7683   814 10075]\n",
      "accuracy :  0.6105\n",
      "recall : 0.9252\n",
      "precision :  0.5673\n",
      "f1-measure : 0.7034\n",
      "confusion matrix : [ 3329  7604   830 10050]\n",
      "accuracy :  0.6133\n",
      "recall : 0.9237\n",
      "precision :  0.5693\n",
      "f1-measure : 0.7044\n",
      "confusion matrix : [ 3314  7551   871 10077]\n",
      "accuracy :  0.6139\n",
      "recall : 0.9204\n",
      "precision :  0.5716\n",
      "f1-measure : 0.7053\n"
     ]
    }
   ],
   "source": [
    "X=np.array(pca_dataset)\n",
    "y=np.array(yNorm.values.ravel())\n",
    "\n",
    "accList = []\n",
    "recList = []\n",
    "precList=[]\n",
    "f1List=[]\n",
    "\n",
    "kf= KFold(n_splits=10,shuffle=True)\n",
    "kf.get_n_splits(X)\n",
    "for train_index, test_index in kf.split(X) :\n",
    "    X_train,X_test = X[train_index],X[test_index]\n",
    "    y_train,y_test = y[train_index],y[test_index]\n",
    "    \n",
    "    nb = GaussianNB()\n",
    "    nbModel = nb.fit(X_train, y_train)\n",
    "    \n",
    "    y_pred = nbModel.predict(X_test)\n",
    "    print(\"confusion matrix :\", confusion_matrix(y_test,y_pred).ravel())\n",
    "    tn,fp,fn,tp = confusion_matrix(y_test,y_pred).ravel()\n",
    "    \n",
    "    accuracy = (tp + tn) / (tp + tn + fp + fn)\n",
    "    recall = tp / (tp + fn)\n",
    "    precision = tp / (tp + fp)\n",
    "    f1_score = 2 * (precision * recall) / (precision + recall)\n",
    "    \n",
    "    accList.append(accuracy)\n",
    "    recList.append(recall)\n",
    "    precList.append(precision)\n",
    "    f1List.append(f1_score)\n",
    "    \n",
    "    print(str('accuracy :  %0.4f' % accuracy) +\"\\n\" + str('recall : %0.4f' % recall) +\n",
    "          \"\\n\" + str('precision :  %0.4f' %precision) + \"\\n\" + str('f1-measure : %0.4f' %f1_score))"
   ]
  },
  {
   "cell_type": "code",
   "execution_count": 30,
   "id": "80a014e9-26e7-4c89-a443-21c1d45d4ef9",
   "metadata": {},
   "outputs": [
    {
     "name": "stdout",
     "output_type": "stream",
     "text": [
      "accuracy :  0.6124125734369721\n",
      "recall :  0.9224010799322087\n",
      "precision :  0.5693900972779253\n",
      "f1_score :  0.7041246076739285\n"
     ]
    },
    {
     "data": {
      "text/plain": [
       "<pymongo.results.InsertOneResult at 0x7f5e7a9a0f10>"
      ]
     },
     "execution_count": 30,
     "metadata": {},
     "output_type": "execute_result"
    }
   ],
   "source": [
    "print('accuracy : ',(mean(accList)))\n",
    "print('recall : ',(mean(recList)))\n",
    "print('precision : ',(mean(precList)))\n",
    "print('f1_score : ',(mean(f1List)))\n",
    "\n",
    "cv_col.insert_one({\n",
    "    'machine_learning': \"Naive Bayes\",\n",
    "    'feature': \"PCA\",\n",
    "    'label': \"Binary-Label\",\n",
    "    'accuracy': (mean(accList)),\n",
    "    'recall': (mean(recList)),\n",
    "    'precision': (mean(precList)),\n",
    "    'f1_score': (mean(f1List)),\n",
    "    'created_at': datetime.fromtimestamp(time.time())\n",
    "})"
   ]
  },
  {
   "cell_type": "code",
   "execution_count": null,
   "id": "016703b9-b78e-44ef-9f51-f9beeac75380",
   "metadata": {},
   "outputs": [],
   "source": []
  }
 ],
 "metadata": {
  "kernelspec": {
   "display_name": "Python 3 (ipykernel)",
   "language": "python",
   "name": "python3"
  },
  "language_info": {
   "codemirror_mode": {
    "name": "ipython",
    "version": 3
   },
   "file_extension": ".py",
   "mimetype": "text/x-python",
   "name": "python",
   "nbconvert_exporter": "python",
   "pygments_lexer": "ipython3",
   "version": "3.9.12"
  }
 },
 "nbformat": 4,
 "nbformat_minor": 5
}
