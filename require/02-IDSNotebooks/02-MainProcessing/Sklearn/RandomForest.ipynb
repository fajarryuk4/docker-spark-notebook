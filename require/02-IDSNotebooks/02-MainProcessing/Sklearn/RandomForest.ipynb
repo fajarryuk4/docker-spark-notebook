{
 "cells": [
  {
   "cell_type": "code",
   "execution_count": 1,
   "id": "d63eb56b-d2f7-4ade-a687-1e42ef37afa1",
   "metadata": {
    "tags": []
   },
   "outputs": [
    {
     "name": "stdout",
     "output_type": "stream",
     "text": [
      "Requirement already satisfied: pymongo in /opt/conda/lib/python3.9/site-packages (4.1.1)\n",
      "Note: you may need to restart the kernel to use updated packages.\n"
     ]
    }
   ],
   "source": [
    "%pip install pymongo "
   ]
  },
  {
   "cell_type": "markdown",
   "id": "df34b278-f691-4dd8-9692-57d1a0822b51",
   "metadata": {
    "tags": []
   },
   "source": [
    "# Crate Directory and Output File"
   ]
  },
  {
   "cell_type": "code",
   "execution_count": 2,
   "id": "01276b18-300e-4d41-acb9-9f42f751dd60",
   "metadata": {},
   "outputs": [],
   "source": [
    "#Use '/resource' to syncronize folder with host\n",
    "\n",
    "!mkdir -p ~/output/sklearn-model/random-forest"
   ]
  },
  {
   "cell_type": "code",
   "execution_count": 3,
   "id": "c822dc56-f46c-4de3-b6c2-90cede0ddf81",
   "metadata": {},
   "outputs": [],
   "source": [
    "input_path  = \"/home/jovyan/output/renamed-data/binary/TrainDataUnderSampling.csv\"\n",
    "output_path = \"/home/jovyan/output/sklearn-model/random-forest\""
   ]
  },
  {
   "cell_type": "markdown",
   "id": "64c16967-50cd-4bc5-bc12-a113386e574a",
   "metadata": {
    "tags": []
   },
   "source": [
    "# Import Package"
   ]
  },
  {
   "cell_type": "code",
   "execution_count": 4,
   "id": "6ed586d5-e962-487b-890a-61ddd7c82d6b",
   "metadata": {},
   "outputs": [],
   "source": [
    "import time\n",
    "import pickle\n",
    "import numpy as np\n",
    "import pandas as pd\n",
    "import pymongo, gridfs\n",
    "from gridfs import GridFS\n",
    "from statistics import mean\n",
    "from datetime import datetime\n",
    "from bson.binary import Binary\n",
    "import matplotlib.pyplot as plt\n",
    "from pymongo import MongoClient\n",
    "\n",
    "from sklearn.ensemble import RandomForestClassifier\n",
    "\n",
    "from sklearn import metrics\n",
    "from sklearn.decomposition import PCA\n",
    "from sklearn.model_selection import KFold\n",
    "from sklearn.metrics import confusion_matrix\n",
    "from sklearn.preprocessing import StandardScaler\n",
    "from sklearn.model_selection import train_test_split, cross_val_score"
   ]
  },
  {
   "cell_type": "markdown",
   "id": "6c952f49-5f0c-4f51-8d35-62ef89b50f09",
   "metadata": {
    "tags": []
   },
   "source": [
    "# DB Connections"
   ]
  },
  {
   "cell_type": "code",
   "execution_count": 5,
   "id": "cc75d5db-dd76-4ea7-852b-7b2437d37c93",
   "metadata": {},
   "outputs": [],
   "source": [
    "client = MongoClient(\"mongodb://mongodb:27017\")\n",
    "db = client['mataelanglab']\n",
    "\n",
    "result_col = db['sklearn_result']\n",
    "cv_col = db['sklearn_cv']\n",
    "model_col = GridFS(db, 'sklearn_model')"
   ]
  },
  {
   "cell_type": "markdown",
   "id": "b0a5fd17-d31e-4c6a-b9e9-85b019021884",
   "metadata": {
    "tags": []
   },
   "source": [
    "# Read Data"
   ]
  },
  {
   "cell_type": "code",
   "execution_count": 6,
   "id": "2224194f-1c5e-4525-b9ba-724a3b75f858",
   "metadata": {},
   "outputs": [],
   "source": [
    "df = pd.read_csv(input_path)"
   ]
  },
  {
   "cell_type": "markdown",
   "id": "04605c4d-5811-46b8-a1b0-ec6392e126d0",
   "metadata": {
    "tags": []
   },
   "source": [
    "# Normalisasi"
   ]
  },
  {
   "cell_type": "code",
   "execution_count": 7,
   "id": "ce1364cb-9359-4bbb-a7f0-232584f9d0f6",
   "metadata": {},
   "outputs": [],
   "source": [
    "xNorm = df.drop(['Unnamed: 0','flow_id','src_ip','src_port','dst_ip','dst_port','protocol','timestamp','label'],axis=1)\n",
    "yNorm = df[['label']]"
   ]
  },
  {
   "cell_type": "code",
   "execution_count": 8,
   "id": "4b0b30b8-b74a-448e-8f4c-8d875f5d42fb",
   "metadata": {},
   "outputs": [
    {
     "data": {
      "text/html": [
       "<div>\n",
       "<style scoped>\n",
       "    .dataframe tbody tr th:only-of-type {\n",
       "        vertical-align: middle;\n",
       "    }\n",
       "\n",
       "    .dataframe tbody tr th {\n",
       "        vertical-align: top;\n",
       "    }\n",
       "\n",
       "    .dataframe thead th {\n",
       "        text-align: right;\n",
       "    }\n",
       "</style>\n",
       "<table border=\"1\" class=\"dataframe\">\n",
       "  <thead>\n",
       "    <tr style=\"text-align: right;\">\n",
       "      <th></th>\n",
       "      <th>flow_duration</th>\n",
       "      <th>total_fwd_packet</th>\n",
       "      <th>total_bwd_packets</th>\n",
       "      <th>total_length_of_fwd_packet</th>\n",
       "      <th>total_length_of_bwd_packet</th>\n",
       "      <th>fwd_packet_length_max</th>\n",
       "      <th>fwd_packet_length_min</th>\n",
       "      <th>fwd_packet_length_mean</th>\n",
       "      <th>fwd_packet_length_std</th>\n",
       "      <th>bwd_packet_length_max</th>\n",
       "      <th>...</th>\n",
       "      <th>fwd_act_data_pkts</th>\n",
       "      <th>fwd_seg_size_min</th>\n",
       "      <th>active_mean</th>\n",
       "      <th>active_std</th>\n",
       "      <th>active_max</th>\n",
       "      <th>active_min</th>\n",
       "      <th>idle_mean</th>\n",
       "      <th>idle_std</th>\n",
       "      <th>idle_max</th>\n",
       "      <th>idle_min</th>\n",
       "    </tr>\n",
       "  </thead>\n",
       "  <tbody>\n",
       "    <tr>\n",
       "      <th>0</th>\n",
       "      <td>-0.377311</td>\n",
       "      <td>-0.044437</td>\n",
       "      <td>-0.053995</td>\n",
       "      <td>-0.003726</td>\n",
       "      <td>-0.046560</td>\n",
       "      <td>3.075022</td>\n",
       "      <td>-0.474292</td>\n",
       "      <td>1.190075</td>\n",
       "      <td>3.450602</td>\n",
       "      <td>-0.380966</td>\n",
       "      <td>...</td>\n",
       "      <td>-0.036528</td>\n",
       "      <td>0.237673</td>\n",
       "      <td>-0.314924</td>\n",
       "      <td>-0.057004</td>\n",
       "      <td>-0.293148</td>\n",
       "      <td>-0.313532</td>\n",
       "      <td>0.632930</td>\n",
       "      <td>-0.659378</td>\n",
       "      <td>-0.463769</td>\n",
       "      <td>0.650771</td>\n",
       "    </tr>\n",
       "    <tr>\n",
       "      <th>1</th>\n",
       "      <td>1.621775</td>\n",
       "      <td>-0.062786</td>\n",
       "      <td>-0.065338</td>\n",
       "      <td>-0.018863</td>\n",
       "      <td>-0.046926</td>\n",
       "      <td>-0.103881</td>\n",
       "      <td>-0.474292</td>\n",
       "      <td>-0.154518</td>\n",
       "      <td>0.089382</td>\n",
       "      <td>-0.522705</td>\n",
       "      <td>...</td>\n",
       "      <td>-0.036528</td>\n",
       "      <td>0.237673</td>\n",
       "      <td>-0.314924</td>\n",
       "      <td>-0.057004</td>\n",
       "      <td>-0.293148</td>\n",
       "      <td>-0.313532</td>\n",
       "      <td>-1.465506</td>\n",
       "      <td>1.506739</td>\n",
       "      <td>-0.463530</td>\n",
       "      <td>-1.509516</td>\n",
       "    </tr>\n",
       "    <tr>\n",
       "      <th>2</th>\n",
       "      <td>-0.290783</td>\n",
       "      <td>0.295013</td>\n",
       "      <td>0.059432</td>\n",
       "      <td>1.548795</td>\n",
       "      <td>-0.046611</td>\n",
       "      <td>8.110218</td>\n",
       "      <td>-0.474292</td>\n",
       "      <td>17.184021</td>\n",
       "      <td>5.072583</td>\n",
       "      <td>-0.400652</td>\n",
       "      <td>...</td>\n",
       "      <td>1.264708</td>\n",
       "      <td>0.237673</td>\n",
       "      <td>-0.314924</td>\n",
       "      <td>-0.057004</td>\n",
       "      <td>-0.293148</td>\n",
       "      <td>-0.313532</td>\n",
       "      <td>0.633043</td>\n",
       "      <td>-0.659378</td>\n",
       "      <td>-0.462282</td>\n",
       "      <td>0.650830</td>\n",
       "    </tr>\n",
       "    <tr>\n",
       "      <th>3</th>\n",
       "      <td>-0.410054</td>\n",
       "      <td>0.038132</td>\n",
       "      <td>0.082118</td>\n",
       "      <td>-0.010714</td>\n",
       "      <td>-0.028506</td>\n",
       "      <td>0.638636</td>\n",
       "      <td>-0.474292</td>\n",
       "      <td>-0.030761</td>\n",
       "      <td>0.348651</td>\n",
       "      <td>0.394661</td>\n",
       "      <td>...</td>\n",
       "      <td>0.305903</td>\n",
       "      <td>0.237673</td>\n",
       "      <td>-0.314924</td>\n",
       "      <td>-0.057004</td>\n",
       "      <td>-0.293148</td>\n",
       "      <td>-0.313532</td>\n",
       "      <td>0.632809</td>\n",
       "      <td>-0.659378</td>\n",
       "      <td>-0.465364</td>\n",
       "      <td>0.650709</td>\n",
       "    </tr>\n",
       "    <tr>\n",
       "      <th>4</th>\n",
       "      <td>1.405972</td>\n",
       "      <td>0.010609</td>\n",
       "      <td>-0.008624</td>\n",
       "      <td>-0.013477</td>\n",
       "      <td>-0.045711</td>\n",
       "      <td>-0.115483</td>\n",
       "      <td>-0.474292</td>\n",
       "      <td>-0.062998</td>\n",
       "      <td>0.010400</td>\n",
       "      <td>-0.440024</td>\n",
       "      <td>...</td>\n",
       "      <td>0.168931</td>\n",
       "      <td>0.237673</td>\n",
       "      <td>0.448076</td>\n",
       "      <td>-0.057004</td>\n",
       "      <td>0.370849</td>\n",
       "      <td>0.484196</td>\n",
       "      <td>-1.604441</td>\n",
       "      <td>1.363325</td>\n",
       "      <td>-4.123980</td>\n",
       "      <td>-1.509516</td>\n",
       "    </tr>\n",
       "  </tbody>\n",
       "</table>\n",
       "<p>5 rows × 76 columns</p>\n",
       "</div>"
      ],
      "text/plain": [
       "   flow_duration  total_fwd_packet  total_bwd_packets  \\\n",
       "0      -0.377311         -0.044437          -0.053995   \n",
       "1       1.621775         -0.062786          -0.065338   \n",
       "2      -0.290783          0.295013           0.059432   \n",
       "3      -0.410054          0.038132           0.082118   \n",
       "4       1.405972          0.010609          -0.008624   \n",
       "\n",
       "   total_length_of_fwd_packet  total_length_of_bwd_packet  \\\n",
       "0                   -0.003726                   -0.046560   \n",
       "1                   -0.018863                   -0.046926   \n",
       "2                    1.548795                   -0.046611   \n",
       "3                   -0.010714                   -0.028506   \n",
       "4                   -0.013477                   -0.045711   \n",
       "\n",
       "   fwd_packet_length_max  fwd_packet_length_min  fwd_packet_length_mean  \\\n",
       "0               3.075022              -0.474292                1.190075   \n",
       "1              -0.103881              -0.474292               -0.154518   \n",
       "2               8.110218              -0.474292               17.184021   \n",
       "3               0.638636              -0.474292               -0.030761   \n",
       "4              -0.115483              -0.474292               -0.062998   \n",
       "\n",
       "   fwd_packet_length_std  bwd_packet_length_max  ...  fwd_act_data_pkts  \\\n",
       "0               3.450602              -0.380966  ...          -0.036528   \n",
       "1               0.089382              -0.522705  ...          -0.036528   \n",
       "2               5.072583              -0.400652  ...           1.264708   \n",
       "3               0.348651               0.394661  ...           0.305903   \n",
       "4               0.010400              -0.440024  ...           0.168931   \n",
       "\n",
       "   fwd_seg_size_min  active_mean  active_std  active_max  active_min  \\\n",
       "0          0.237673    -0.314924   -0.057004   -0.293148   -0.313532   \n",
       "1          0.237673    -0.314924   -0.057004   -0.293148   -0.313532   \n",
       "2          0.237673    -0.314924   -0.057004   -0.293148   -0.313532   \n",
       "3          0.237673    -0.314924   -0.057004   -0.293148   -0.313532   \n",
       "4          0.237673     0.448076   -0.057004    0.370849    0.484196   \n",
       "\n",
       "   idle_mean  idle_std  idle_max  idle_min  \n",
       "0   0.632930 -0.659378 -0.463769  0.650771  \n",
       "1  -1.465506  1.506739 -0.463530 -1.509516  \n",
       "2   0.633043 -0.659378 -0.462282  0.650830  \n",
       "3   0.632809 -0.659378 -0.465364  0.650709  \n",
       "4  -1.604441  1.363325 -4.123980 -1.509516  \n",
       "\n",
       "[5 rows x 76 columns]"
      ]
     },
     "execution_count": 8,
     "metadata": {},
     "output_type": "execute_result"
    }
   ],
   "source": [
    "stdScaler = StandardScaler()\n",
    "normData = pd.DataFrame(stdScaler.fit_transform(xNorm), columns=xNorm.columns)\n",
    "normData.head(5)"
   ]
  },
  {
   "cell_type": "markdown",
   "id": "de4f61e5-1ad5-440f-9682-f3db8d641329",
   "metadata": {},
   "source": [
    "# All Data without Feature Selection"
   ]
  },
  {
   "cell_type": "markdown",
   "id": "a7d1cd3a-d2ea-477e-a79c-c2e0dd446692",
   "metadata": {
    "tags": []
   },
   "source": [
    "## Processing"
   ]
  },
  {
   "cell_type": "code",
   "execution_count": 9,
   "id": "0ed75c82-9087-4e21-bbf8-61e55206bfdb",
   "metadata": {},
   "outputs": [
    {
     "name": "stderr",
     "output_type": "stream",
     "text": [
      "/tmp/ipykernel_101510/1631952202.py:6: DataConversionWarning: A column-vector y was passed when a 1d array was expected. Please change the shape of y to (n_samples,), for example using ravel().\n",
      "  rfModel = rf.fit(xtrain, ytrain)\n"
     ]
    },
    {
     "name": "stdout",
     "output_type": "stream",
     "text": [
      "--- 50.94302439689636 seconds ---\n"
     ]
    }
   ],
   "source": [
    "start_time = time.time()\n",
    "xtrain, xtest, ytrain, ytest = train_test_split(normData, yNorm, test_size=0.3, random_state=42)\n",
    "\n",
    "rf = RandomForestClassifier()\n",
    "\n",
    "rfModel = rf.fit(xtrain, ytrain)\n",
    "\n",
    "ypred = rfModel.predict(xtest)\n",
    "\n",
    "duration = (time.time() - start_time)\n",
    "print(\"--- %s seconds ---\" % duration)"
   ]
  },
  {
   "cell_type": "code",
   "execution_count": 10,
   "id": "decc975f-df54-4520-a998-054266e76b13",
   "metadata": {},
   "outputs": [
    {
     "name": "stdout",
     "output_type": "stream",
     "text": [
      "confusion matrix : [32266   403   512 32260]\n",
      "accuracy :  0.9860\n",
      "recall : 0.9844\n",
      "precision :  0.9877\n",
      "f1-measure : 0.9860\n"
     ]
    }
   ],
   "source": [
    "print(\"confusion matrix :\",confusion_matrix(ytest, ypred).ravel())\n",
    "tn, fp, fn, tp = confusion_matrix(ytest, ypred).ravel()\n",
    "\n",
    "accuracy = (tp + tn) / (tp + tn + fp + fn)\n",
    "recall = tp / ( tp + fn)\n",
    "precision = tp / (tp + fp)\n",
    "f1_score = 2 * (precision * recall) / (precision + recall)\n",
    "\n",
    "print(str('accuracy :  %0.4f' % accuracy) +\"\\n\" + str('recall : %0.4f' % recall) +\n",
    "      \"\\n\" + str('precision :  %0.4f' %precision) + \"\\n\" + str('f1-measure : %0.4f' %f1_score))"
   ]
  },
  {
   "cell_type": "code",
   "execution_count": 11,
   "id": "7c9c9817-d597-458c-a0e1-30687a274da3",
   "metadata": {
    "tags": []
   },
   "outputs": [],
   "source": [
    "# Save Pickle\n",
    "path = output_path+\"/all-feature.pkl\"\n",
    "with open(path, \"wb\") as f:\n",
    "    pickle_model = pickle.dump(rfModel, f)"
   ]
  },
  {
   "cell_type": "code",
   "execution_count": 12,
   "id": "12f089d7-a8b0-46c6-8e35-5c842447d3de",
   "metadata": {},
   "outputs": [
    {
     "data": {
      "text/plain": [
       "<pymongo.results.InsertOneResult at 0x7f94c8393340>"
      ]
     },
     "execution_count": 12,
     "metadata": {},
     "output_type": "execute_result"
    }
   ],
   "source": [
    "# Store to MongoDB\n",
    "\n",
    "with open(path, \"rb\") as f:\n",
    "    model_col.put(f, filename=\"RandomForest-AllFeature.pkl\")\n",
    "    \n",
    "result_col.insert_one({\n",
    "    'machine_learning': \"Random Forest\",\n",
    "    'feature': \"All Feature\",\n",
    "    'label': \"Binary-Label\",\n",
    "    'duration': duration,\n",
    "    'accuracy': accuracy,\n",
    "    'recall': recall,\n",
    "    'precision': precision,\n",
    "    'f1_score': f1_score,\n",
    "    'created_at': datetime.fromtimestamp(time.time())\n",
    "})"
   ]
  },
  {
   "cell_type": "markdown",
   "id": "023ed050-ab47-4fde-9180-cf235b1a60c2",
   "metadata": {
    "tags": []
   },
   "source": [
    "## Cross Validation"
   ]
  },
  {
   "cell_type": "code",
   "execution_count": 13,
   "id": "dcd79d91-7903-4703-921d-a7df65e3b8f9",
   "metadata": {},
   "outputs": [
    {
     "name": "stdout",
     "output_type": "stream",
     "text": [
      "confusion matrix : [10799   133   166 10716]\n",
      "accuracy :  0.9863\n",
      "recall : 0.9847\n",
      "precision :  0.9877\n",
      "f1-measure : 0.9862\n",
      "confusion matrix : [10798   134   167 10715]\n",
      "accuracy :  0.9862\n",
      "recall : 0.9847\n",
      "precision :  0.9876\n",
      "f1-measure : 0.9861\n",
      "confusion matrix : [10888   140   178 10608]\n",
      "accuracy :  0.9854\n",
      "recall : 0.9835\n",
      "precision :  0.9870\n",
      "f1-measure : 0.9852\n",
      "confusion matrix : [10810   107   166 10731]\n",
      "accuracy :  0.9875\n",
      "recall : 0.9848\n",
      "precision :  0.9901\n",
      "f1-measure : 0.9874\n",
      "confusion matrix : [10871   140   167 10635]\n",
      "accuracy :  0.9859\n",
      "recall : 0.9845\n",
      "precision :  0.9870\n",
      "f1-measure : 0.9858\n",
      "confusion matrix : [10703   118   152 10840]\n",
      "accuracy :  0.9876\n",
      "recall : 0.9862\n",
      "precision :  0.9892\n",
      "f1-measure : 0.9877\n",
      "confusion matrix : [10780   145   194 10694]\n",
      "accuracy :  0.9845\n",
      "recall : 0.9822\n",
      "precision :  0.9866\n",
      "f1-measure : 0.9844\n",
      "confusion matrix : [10700   135   148 10830]\n",
      "accuracy :  0.9870\n",
      "recall : 0.9865\n",
      "precision :  0.9877\n",
      "f1-measure : 0.9871\n",
      "confusion matrix : [10710   135   176 10792]\n",
      "accuracy :  0.9857\n",
      "recall : 0.9840\n",
      "precision :  0.9876\n",
      "f1-measure : 0.9858\n",
      "confusion matrix : [10695   126   186 10806]\n",
      "accuracy :  0.9857\n",
      "recall : 0.9831\n",
      "precision :  0.9885\n",
      "f1-measure : 0.9858\n"
     ]
    }
   ],
   "source": [
    "X=np.array(normData)\n",
    "y=np.array(yNorm.values.ravel())\n",
    "\n",
    "accList = []\n",
    "recList = []\n",
    "precList=[]\n",
    "f1List=[]\n",
    "\n",
    "kf= KFold(n_splits=10,shuffle=True)\n",
    "kf.get_n_splits(X)\n",
    "for train_index, test_index in kf.split(X) :\n",
    "    X_train,X_test = X[train_index],X[test_index]\n",
    "    y_train,y_test = y[train_index],y[test_index]\n",
    "    \n",
    "    rf = RandomForestClassifier()\n",
    "    rfModel = rf.fit(X_train,y_train)\n",
    "    \n",
    "    y_pred = rfModel.predict(X_test)\n",
    "    print(\"confusion matrix :\", confusion_matrix(y_test,y_pred).ravel())\n",
    "    tn,fp,fn,tp = confusion_matrix(y_test,y_pred).ravel()\n",
    "    \n",
    "    accuracy = (tp + tn) / (tp + tn + fp + fn)\n",
    "    recall = tp / (tp + fn)\n",
    "    precision = tp / (tp + fp)\n",
    "    f1_score = 2 * (precision * recall) / (precision + recall)\n",
    "    \n",
    "    accList.append(accuracy)\n",
    "    recList.append(recall)\n",
    "    precList.append(precision)\n",
    "    f1List.append(f1_score)\n",
    "    \n",
    "    print(str('accuracy :  %0.4f' % accuracy) +\"\\n\" + str('recall : %0.4f' % recall) +\n",
    "          \"\\n\" + str('precision :  %0.4f' %precision) + \"\\n\" + str('f1-measure : %0.4f' %f1_score))"
   ]
  },
  {
   "cell_type": "code",
   "execution_count": 14,
   "id": "81060756-a269-48fd-87d8-09d23e3f1a0b",
   "metadata": {},
   "outputs": [
    {
     "name": "stdout",
     "output_type": "stream",
     "text": [
      "accuracy :  0.9861873864116105\n",
      "recall :  0.9844106876070974\n",
      "precision :  0.9879159626681969\n",
      "f1_score :  0.9861598252250364\n"
     ]
    },
    {
     "data": {
      "text/plain": [
       "<pymongo.results.InsertOneResult at 0x7f94d88adbe0>"
      ]
     },
     "execution_count": 14,
     "metadata": {},
     "output_type": "execute_result"
    }
   ],
   "source": [
    "print('accuracy : ',(mean(accList)))\n",
    "print('recall : ',(mean(recList)))\n",
    "print('precision : ',(mean(precList)))\n",
    "print('f1_score : ',(mean(f1List)))\n",
    "\n",
    "cv_col.insert_one({\n",
    "    'machine_learning': \"Random Forest\",\n",
    "    'feature': \"All Feature\",\n",
    "    'label': \"Binary-Label\",\n",
    "    'accuracy': (mean(accList)),\n",
    "    'recall': (mean(recList)),\n",
    "    'precision': (mean(precList)),\n",
    "    'f1_score': (mean(f1List)),\n",
    "    'created_at': datetime.fromtimestamp(time.time())\n",
    "})"
   ]
  },
  {
   "cell_type": "markdown",
   "id": "0650f710-7354-48d1-9940-c65861e04689",
   "metadata": {},
   "source": [
    "# Using Feature Importance"
   ]
  },
  {
   "cell_type": "markdown",
   "id": "f4b7932f-a296-41e0-be79-a7706592c5cf",
   "metadata": {
    "tags": []
   },
   "source": [
    "## Processing"
   ]
  },
  {
   "cell_type": "code",
   "execution_count": 15,
   "id": "41fcb68c-9ce9-46f7-99be-0d6e7ba76237",
   "metadata": {},
   "outputs": [],
   "source": [
    "importance = normData[[\n",
    "    'idle_max',\n",
    "    'fwd_init_win_bytes',\n",
    "    'fwd_header_length',\n",
    "    'bwd_packets_per_s',\n",
    "    'flow_bytes_per_s',\n",
    "    'bwd_init_win_bytes',\n",
    "    'flow_iat_max'\n",
    "]]"
   ]
  },
  {
   "cell_type": "code",
   "execution_count": 16,
   "id": "55d9cadd-e8ea-4dbf-8d78-0df944ae9697",
   "metadata": {},
   "outputs": [
    {
     "name": "stderr",
     "output_type": "stream",
     "text": [
      "/tmp/ipykernel_101510/779421890.py:6: DataConversionWarning: A column-vector y was passed when a 1d array was expected. Please change the shape of y to (n_samples,), for example using ravel().\n",
      "  rfModel = rf.fit(xftrain, yftrain)\n"
     ]
    },
    {
     "name": "stdout",
     "output_type": "stream",
     "text": [
      "--- 28.576642751693726 seconds ---\n"
     ]
    }
   ],
   "source": [
    "start_time = time.time()\n",
    "xftrain, xftest, yftrain, yftest = train_test_split(importance, yNorm, test_size=0.3, random_state=42)\n",
    "\n",
    "rf = RandomForestClassifier()\n",
    "\n",
    "rfModel = rf.fit(xftrain, yftrain)\n",
    "\n",
    "yfpred = rfModel.predict(xftest)\n",
    "\n",
    "duration = (time.time() - start_time)\n",
    "print(\"--- %s seconds ---\" % duration)"
   ]
  },
  {
   "cell_type": "code",
   "execution_count": 17,
   "id": "ca23bf64-63c2-4904-84cf-d102c5ef95cb",
   "metadata": {},
   "outputs": [
    {
     "name": "stdout",
     "output_type": "stream",
     "text": [
      "confusion matrix : [32162   507   593 32179]\n",
      "accuracy :  0.9832\n",
      "recall : 0.9819\n",
      "precision :  0.9845\n",
      "f1-measure : 0.9832\n"
     ]
    }
   ],
   "source": [
    "print(\"confusion matrix :\",confusion_matrix(yftest, yfpred).ravel())\n",
    "tn, fp, fn, tp = confusion_matrix(yftest, yfpred).ravel()\n",
    "\n",
    "accuracy = (tp + tn) / (tp + tn + fp + fn)\n",
    "recall = tp / ( tp + fn)\n",
    "precision = tp / (tp + fp)\n",
    "f1_score = 2 * (precision * recall) / (precision + recall)\n",
    "\n",
    "print(str('accuracy :  %0.4f' % accuracy) +\"\\n\" + str('recall : %0.4f' % recall) +\n",
    "      \"\\n\" + str('precision :  %0.4f' %precision) + \"\\n\" + str('f1-measure : %0.4f' %f1_score))"
   ]
  },
  {
   "cell_type": "code",
   "execution_count": 18,
   "id": "7f94310f-b5fa-430d-8e88-bc0180238aae",
   "metadata": {
    "tags": []
   },
   "outputs": [],
   "source": [
    "# Save Pickle\n",
    "path = output_path+\"/feature-importance.pkl\"\n",
    "with open(path, \"wb\") as f:\n",
    "    pickle_model = pickle.dump(rfModel, f)"
   ]
  },
  {
   "cell_type": "code",
   "execution_count": 19,
   "id": "2b359022-4687-4e29-adb3-ace8755767c5",
   "metadata": {},
   "outputs": [
    {
     "data": {
      "text/plain": [
       "<pymongo.results.InsertOneResult at 0x7f94d88b2e20>"
      ]
     },
     "execution_count": 19,
     "metadata": {},
     "output_type": "execute_result"
    }
   ],
   "source": [
    "# Store to MongoDB\n",
    "\n",
    "with open(path, \"rb\") as f:\n",
    "    model_col.put(f, filename=\"RandomForest-FeatureImportance.pkl\")\n",
    "    \n",
    "result_col.insert_one({\n",
    "    'machine_learning': \"Random Forest\",\n",
    "    'feature': \"Feature Importance\",\n",
    "    'label': \"Binary-Label\",\n",
    "    'duration': duration,\n",
    "    'accuracy': accuracy,\n",
    "    'recall': recall,\n",
    "    'precision': precision,\n",
    "    'f1_score': f1_score,\n",
    "    'created_at': datetime.fromtimestamp(time.time())\n",
    "})"
   ]
  },
  {
   "cell_type": "markdown",
   "id": "4c90618c-61d0-477c-81d5-d1d458137b2d",
   "metadata": {
    "tags": []
   },
   "source": [
    "## Cross Validation"
   ]
  },
  {
   "cell_type": "code",
   "execution_count": 20,
   "id": "1d7b6c93-64b2-4d63-b81f-961f1ac0933e",
   "metadata": {},
   "outputs": [
    {
     "name": "stdout",
     "output_type": "stream",
     "text": [
      "confusion matrix : [10722   197   175 10720]\n",
      "accuracy :  0.9829\n",
      "recall : 0.9839\n",
      "precision :  0.9820\n",
      "f1-measure : 0.9829\n",
      "confusion matrix : [10659   174   193 10788]\n",
      "accuracy :  0.9832\n",
      "recall : 0.9824\n",
      "precision :  0.9841\n",
      "f1-measure : 0.9833\n",
      "confusion matrix : [10710   164   180 10760]\n",
      "accuracy :  0.9842\n",
      "recall : 0.9835\n",
      "precision :  0.9850\n",
      "f1-measure : 0.9843\n",
      "confusion matrix : [10663   170   214 10767]\n",
      "accuracy :  0.9824\n",
      "recall : 0.9805\n",
      "precision :  0.9845\n",
      "f1-measure : 0.9825\n",
      "confusion matrix : [10801   166   195 10651]\n",
      "accuracy :  0.9835\n",
      "recall : 0.9820\n",
      "precision :  0.9847\n",
      "f1-measure : 0.9833\n",
      "confusion matrix : [10643   169   178 10823]\n",
      "accuracy :  0.9841\n",
      "recall : 0.9838\n",
      "precision :  0.9846\n",
      "f1-measure : 0.9842\n",
      "confusion matrix : [10778   158   201 10676]\n",
      "accuracy :  0.9835\n",
      "recall : 0.9815\n",
      "precision :  0.9854\n",
      "f1-measure : 0.9835\n",
      "confusion matrix : [10778   187   200 10648]\n",
      "accuracy :  0.9823\n",
      "recall : 0.9816\n",
      "precision :  0.9827\n",
      "f1-measure : 0.9822\n",
      "confusion matrix : [10711   187   192 10723]\n",
      "accuracy :  0.9826\n",
      "recall : 0.9824\n",
      "precision :  0.9829\n",
      "f1-measure : 0.9826\n",
      "confusion matrix : [10860   170   180 10603]\n",
      "accuracy :  0.9840\n",
      "recall : 0.9833\n",
      "precision :  0.9842\n",
      "f1-measure : 0.9838\n"
     ]
    }
   ],
   "source": [
    "X=np.array(importance)\n",
    "y=np.array(yNorm.values.ravel())\n",
    "\n",
    "accList = []\n",
    "recList = []\n",
    "precList=[]\n",
    "f1List=[]\n",
    "\n",
    "kf= KFold(n_splits=10,shuffle=True)\n",
    "kf.get_n_splits(X)\n",
    "for train_index, test_index in kf.split(X) :\n",
    "    X_train,X_test = X[train_index],X[test_index]\n",
    "    y_train,y_test = y[train_index],y[test_index]\n",
    "    \n",
    "    rf = RandomForestClassifier()\n",
    "    rfModel = rf.fit(X_train,y_train)\n",
    "    \n",
    "    y_pred = rfModel.predict(X_test)\n",
    "    print(\"confusion matrix :\", confusion_matrix(y_test,y_pred).ravel())\n",
    "    tn,fp,fn,tp = confusion_matrix(y_test,y_pred).ravel()\n",
    "    \n",
    "    accuracy = (tp + tn) / (tp + tn + fp + fn)\n",
    "    recall = tp / (tp + fn)\n",
    "    precision = tp / (tp + fp)\n",
    "    f1_score = 2 * (precision * recall) / (precision + recall)\n",
    "    \n",
    "    accList.append(accuracy)\n",
    "    recList.append(recall)\n",
    "    precList.append(precision)\n",
    "    f1List.append(f1_score)\n",
    "    \n",
    "    print(str('accuracy :  %0.4f' % accuracy) +\"\\n\" + str('recall : %0.4f' % recall) +\n",
    "          \"\\n\" + str('precision :  %0.4f' %precision) + \"\\n\" + str('f1-measure : %0.4f' %f1_score))"
   ]
  },
  {
   "cell_type": "code",
   "execution_count": 21,
   "id": "e50bc7ef-1256-4224-b92b-064e4e64cca5",
   "metadata": {},
   "outputs": [
    {
     "name": "stdout",
     "output_type": "stream",
     "text": [
      "accuracy :  0.9832671675165711\n",
      "recall :  0.9825061505916469\n",
      "precision :  0.9840041287028097\n",
      "f1_score :  0.983253877164383\n"
     ]
    },
    {
     "data": {
      "text/plain": [
       "<pymongo.results.InsertOneResult at 0x7f94d88b4490>"
      ]
     },
     "execution_count": 21,
     "metadata": {},
     "output_type": "execute_result"
    }
   ],
   "source": [
    "print('accuracy : ',(mean(accList)))\n",
    "print('recall : ',(mean(recList)))\n",
    "print('precision : ',(mean(precList)))\n",
    "print('f1_score : ',(mean(f1List)))\n",
    "\n",
    "cv_col.insert_one({\n",
    "    'machine_learning': \"Random Forest\",\n",
    "    'feature': \"Feature Importance\",\n",
    "    'label': \"Binary-Label\",\n",
    "    'accuracy': (mean(accList)),\n",
    "    'recall': (mean(recList)),\n",
    "    'precision': (mean(precList)),\n",
    "    'f1_score': (mean(f1List)),\n",
    "    'created_at': datetime.fromtimestamp(time.time())\n",
    "})"
   ]
  },
  {
   "cell_type": "markdown",
   "id": "1115b074-f48a-47cb-97b5-34f0d4ab8f70",
   "metadata": {},
   "source": [
    "# Using PCA"
   ]
  },
  {
   "cell_type": "markdown",
   "id": "bff8215c-2597-40f6-af6b-d3b1a51abb18",
   "metadata": {
    "tags": []
   },
   "source": [
    "## Processing"
   ]
  },
  {
   "cell_type": "code",
   "execution_count": 22,
   "id": "cddc11bd-5f17-4874-a908-e2a79207e78c",
   "metadata": {},
   "outputs": [
    {
     "name": "stdout",
     "output_type": "stream",
     "text": [
      "--- 3.5600757598876953 seconds ---\n"
     ]
    }
   ],
   "source": [
    "start_time = time.time()\n",
    "pca = PCA(n_components=7)\n",
    "pca_dataset = pd.DataFrame(pca.fit_transform(normData), columns=[\n",
    "    \"Feature 1\",\n",
    "    \"Feature 2\",\n",
    "    \"Feature 3\",\n",
    "    \"Feature 4\",\n",
    "    \"Feature 5\",\n",
    "    \"Feature 6\",\n",
    "    \"Feature 7\"\n",
    "])\n",
    "#pca_dataset[\"Label\"] = pca_label[\"Label\"]\n",
    "print(\"--- %s seconds ---\" % (time.time() - start_time))"
   ]
  },
  {
   "cell_type": "code",
   "execution_count": 23,
   "id": "7705ccca-1610-43cf-b055-645e93ccd860",
   "metadata": {},
   "outputs": [
    {
     "name": "stdout",
     "output_type": "stream",
     "text": [
      "[10.88449402  9.09396116  6.65470816  5.49491754  4.40487123  3.77902179\n",
      "  3.05000117]\n"
     ]
    }
   ],
   "source": [
    "print(pca.explained_variance_)"
   ]
  },
  {
   "cell_type": "code",
   "execution_count": 24,
   "id": "e59c87a6-739a-4144-9960-3fb2bc1944b1",
   "metadata": {},
   "outputs": [
    {
     "name": "stdout",
     "output_type": "stream",
     "text": [
      "43.36197506474955\n"
     ]
    }
   ],
   "source": [
    "a = 0\n",
    "for i in pca.explained_variance_:\n",
    "  a = a+i\n",
    "print(a)"
   ]
  },
  {
   "cell_type": "code",
   "execution_count": 25,
   "id": "528658bc-7977-4c2f-af77-14fe527aeabc",
   "metadata": {},
   "outputs": [
    {
     "name": "stderr",
     "output_type": "stream",
     "text": [
      "/tmp/ipykernel_101510/1730440519.py:6: DataConversionWarning: A column-vector y was passed when a 1d array was expected. Please change the shape of y to (n_samples,), for example using ravel().\n",
      "  rfModel = rf.fit(xptrain, yptrain)\n"
     ]
    },
    {
     "name": "stdout",
     "output_type": "stream",
     "text": [
      "--- 48.01999115943909 seconds ---\n"
     ]
    }
   ],
   "source": [
    "start_time = time.time()\n",
    "xptrain, xptest, yptrain, yptest = train_test_split(pca_dataset, yNorm, test_size=0.3, random_state=42)\n",
    "\n",
    "rf = RandomForestClassifier()\n",
    "\n",
    "rfModel = rf.fit(xptrain, yptrain)\n",
    "\n",
    "yppred = rfModel.predict(xptest)\n",
    "\n",
    "duration = (time.time() - start_time)\n",
    "print(\"--- %s seconds ---\" % duration)"
   ]
  },
  {
   "cell_type": "code",
   "execution_count": 26,
   "id": "9fba64a2-9b2d-487b-9463-fd8e0700735b",
   "metadata": {},
   "outputs": [
    {
     "name": "stdout",
     "output_type": "stream",
     "text": [
      "confusion matrix : [32002   667   648 32124]\n",
      "accuracy :  0.9799\n",
      "recall : 0.9802\n",
      "precision :  0.9797\n",
      "f1-measure : 0.9799\n"
     ]
    }
   ],
   "source": [
    "print(\"confusion matrix :\",confusion_matrix(yptest, yppred).ravel())\n",
    "tn, fp, fn, tp = confusion_matrix(yptest, yppred).ravel()\n",
    "\n",
    "accuracy = (tp + tn) / (tp + tn + fp + fn)\n",
    "recall = tp / ( tp + fn)\n",
    "precision = tp / (tp + fp)\n",
    "f1_score = 2 * (precision * recall) / (precision + recall)\n",
    "\n",
    "print(str('accuracy :  %0.4f' % accuracy) +\"\\n\" + str('recall : %0.4f' % recall) +\n",
    "      \"\\n\" + str('precision :  %0.4f' %precision) + \"\\n\" + str('f1-measure : %0.4f' %f1_score))"
   ]
  },
  {
   "cell_type": "code",
   "execution_count": 27,
   "id": "b6c32091-0cc5-44a3-b2c4-4a4cfd75a1cd",
   "metadata": {
    "tags": []
   },
   "outputs": [],
   "source": [
    "# Save Pickle\n",
    "path = output_path+\"/pca.pkl\"\n",
    "with open(path, \"wb\") as f:\n",
    "    pickle_model = pickle.dump(rfModel, f)"
   ]
  },
  {
   "cell_type": "code",
   "execution_count": 28,
   "id": "2e78751c-fbec-4b3d-b1c5-76d15c5702a6",
   "metadata": {},
   "outputs": [
    {
     "data": {
      "text/plain": [
       "<pymongo.results.InsertOneResult at 0x7f94d88ad910>"
      ]
     },
     "execution_count": 28,
     "metadata": {},
     "output_type": "execute_result"
    }
   ],
   "source": [
    "# Store to MongoDB\n",
    "\n",
    "with open(path, \"rb\") as f:\n",
    "    model_col.put(f, filename=\"RandomForest-PCA.pkl\")\n",
    "    \n",
    "result_col.insert_one({\n",
    "    'machine_learning': \"Random Forest\",\n",
    "    'feature': \"PCA\",\n",
    "    'label': \"Binary-Label\",\n",
    "    'duration': duration,\n",
    "    'accuracy': accuracy,\n",
    "    'recall': recall,\n",
    "    'precision': precision,\n",
    "    'f1_score': f1_score,\n",
    "    'created_at': datetime.fromtimestamp(time.time())\n",
    "})"
   ]
  },
  {
   "cell_type": "markdown",
   "id": "9e08275d-26a3-4815-9b9a-45dda3a5d8d9",
   "metadata": {
    "tags": []
   },
   "source": [
    "## Cross Validation"
   ]
  },
  {
   "cell_type": "code",
   "execution_count": 29,
   "id": "0d2cbae7-b0a7-4cb6-bd69-ed679baa2eb8",
   "metadata": {},
   "outputs": [
    {
     "name": "stdout",
     "output_type": "stream",
     "text": [
      "confusion matrix : [10749   213   225 10627]\n",
      "accuracy :  0.9799\n",
      "recall : 0.9793\n",
      "precision :  0.9804\n",
      "f1-measure : 0.9798\n",
      "confusion matrix : [10653   219   251 10691]\n",
      "accuracy :  0.9785\n",
      "recall : 0.9771\n",
      "precision :  0.9799\n",
      "f1-measure : 0.9785\n",
      "confusion matrix : [10628   217   201 10768]\n",
      "accuracy :  0.9808\n",
      "recall : 0.9817\n",
      "precision :  0.9802\n",
      "f1-measure : 0.9810\n",
      "confusion matrix : [10678   207   235 10694]\n",
      "accuracy :  0.9797\n",
      "recall : 0.9785\n",
      "precision :  0.9810\n",
      "f1-measure : 0.9798\n",
      "confusion matrix : [10861   193   183 10576]\n",
      "accuracy :  0.9828\n",
      "recall : 0.9830\n",
      "precision :  0.9821\n",
      "f1-measure : 0.9825\n",
      "confusion matrix : [10611   190   212 10800]\n",
      "accuracy :  0.9816\n",
      "recall : 0.9807\n",
      "precision :  0.9827\n",
      "f1-measure : 0.9817\n",
      "confusion matrix : [10724   214   207 10668]\n",
      "accuracy :  0.9807\n",
      "recall : 0.9810\n",
      "precision :  0.9803\n",
      "f1-measure : 0.9806\n",
      "confusion matrix : [10714   242   223 10634]\n",
      "accuracy :  0.9787\n",
      "recall : 0.9795\n",
      "precision :  0.9777\n",
      "f1-measure : 0.9786\n",
      "confusion matrix : [10694   211   216 10692]\n",
      "accuracy :  0.9804\n",
      "recall : 0.9802\n",
      "precision :  0.9806\n",
      "f1-measure : 0.9804\n",
      "confusion matrix : [10662   187   202 10762]\n",
      "accuracy :  0.9822\n",
      "recall : 0.9816\n",
      "precision :  0.9829\n",
      "f1-measure : 0.9822\n"
     ]
    }
   ],
   "source": [
    "X=np.array(pca_dataset)\n",
    "y=np.array(yNorm.values.ravel())\n",
    "\n",
    "accList = []\n",
    "recList = []\n",
    "precList=[]\n",
    "f1List=[]\n",
    "\n",
    "kf= KFold(n_splits=10,shuffle=True)\n",
    "kf.get_n_splits(X)\n",
    "for train_index, test_index in kf.split(X) :\n",
    "    X_train,X_test = X[train_index],X[test_index]\n",
    "    y_train,y_test = y[train_index],y[test_index]\n",
    "    \n",
    "    rf = RandomForestClassifier()\n",
    "    rfModel = rf.fit(X_train,y_train)\n",
    "    \n",
    "    y_pred = rfModel.predict(X_test)\n",
    "    print(\"confusion matrix :\", confusion_matrix(y_test,y_pred).ravel())\n",
    "    tn,fp,fn,tp = confusion_matrix(y_test,y_pred).ravel()\n",
    "    \n",
    "    accuracy = (tp + tn) / (tp + tn + fp + fn)\n",
    "    recall = tp / (tp + fn)\n",
    "    precision = tp / (tp + fp)\n",
    "    f1_score = 2 * (precision * recall) / (precision + recall)\n",
    "    \n",
    "    accList.append(accuracy)\n",
    "    recList.append(recall)\n",
    "    precList.append(precision)\n",
    "    f1List.append(f1_score)\n",
    "    \n",
    "    print(str('accuracy :  %0.4f' % accuracy) +\"\\n\" + str('recall : %0.4f' % recall) +\n",
    "          \"\\n\" + str('precision :  %0.4f' %precision) + \"\\n\" + str('f1-measure : %0.4f' %f1_score))"
   ]
  },
  {
   "cell_type": "code",
   "execution_count": 30,
   "id": "dfc80ef7-8398-4310-ad55-2a9c181ac0c8",
   "metadata": {},
   "outputs": [
    {
     "name": "stdout",
     "output_type": "stream",
     "text": [
      "accuracy :  0.9805257463387325\n",
      "recall :  0.9802439686754776\n",
      "precision :  0.9807975688489882\n",
      "f1_score :  0.9805200601748278\n"
     ]
    },
    {
     "data": {
      "text/plain": [
       "<pymongo.results.InsertOneResult at 0x7f94d885f4f0>"
      ]
     },
     "execution_count": 30,
     "metadata": {},
     "output_type": "execute_result"
    }
   ],
   "source": [
    "print('accuracy : ',(mean(accList)))\n",
    "print('recall : ',(mean(recList)))\n",
    "print('precision : ',(mean(precList)))\n",
    "print('f1_score : ',(mean(f1List)))\n",
    "\n",
    "cv_col.insert_one({\n",
    "    'machine_learning': \"Random Forest\",\n",
    "    'feature': \"PCA\",\n",
    "    'label': \"Binary-Label\",\n",
    "    'accuracy': (mean(accList)),\n",
    "    'recall': (mean(recList)),\n",
    "    'precision': (mean(precList)),\n",
    "    'f1_score': (mean(f1List)),\n",
    "    'created_at': datetime.fromtimestamp(time.time())\n",
    "})"
   ]
  },
  {
   "cell_type": "code",
   "execution_count": null,
   "id": "cdeb5b8c-275c-4753-9d8c-e52300e63ac5",
   "metadata": {},
   "outputs": [],
   "source": []
  }
 ],
 "metadata": {
  "kernelspec": {
   "display_name": "Python 3 (ipykernel)",
   "language": "python",
   "name": "python3"
  },
  "language_info": {
   "codemirror_mode": {
    "name": "ipython",
    "version": 3
   },
   "file_extension": ".py",
   "mimetype": "text/x-python",
   "name": "python",
   "nbconvert_exporter": "python",
   "pygments_lexer": "ipython3",
   "version": "3.9.12"
  }
 },
 "nbformat": 4,
 "nbformat_minor": 5
}
