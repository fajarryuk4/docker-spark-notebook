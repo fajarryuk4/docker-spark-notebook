{
 "cells": [
  {
   "cell_type": "code",
   "execution_count": 1,
   "id": "c4bd83c4-4b93-4800-917d-2035a6b476e5",
   "metadata": {},
   "outputs": [
    {
     "name": "stdout",
     "output_type": "stream",
     "text": [
      "Requirement already satisfied: pymongo in /opt/conda/lib/python3.9/site-packages (4.1.1)\n",
      "Note: you may need to restart the kernel to use updated packages.\n"
     ]
    }
   ],
   "source": [
    "%pip install pymongo"
   ]
  },
  {
   "cell_type": "markdown",
   "id": "7237da54-16ad-4ac7-83de-ea99c0f854fd",
   "metadata": {
    "tags": []
   },
   "source": [
    "# Crate Directory and Output File"
   ]
  },
  {
   "cell_type": "code",
   "execution_count": 2,
   "id": "a59bc301-eab1-4073-bb78-d8c0f148b095",
   "metadata": {},
   "outputs": [],
   "source": [
    "#Use '/resource' to syncronize folder with host\n",
    "\n",
    "!mkdir -p ~/output/sklearn-model/decission-tree"
   ]
  },
  {
   "cell_type": "code",
   "execution_count": 3,
   "id": "c822dc56-f46c-4de3-b6c2-90cede0ddf81",
   "metadata": {},
   "outputs": [],
   "source": [
    "input_path  = \"/home/jovyan/output/renamed-data/binary/TrainDataUnderSampling.csv\"\n",
    "output_path = \"/home/jovyan/output/sklearn-model/decission-tree\""
   ]
  },
  {
   "cell_type": "markdown",
   "id": "fb61ba69-8627-41ba-9333-710899ea5bf1",
   "metadata": {},
   "source": [
    "# Import Package"
   ]
  },
  {
   "cell_type": "code",
   "execution_count": 4,
   "id": "315cd94c-d7d8-44d0-b424-4b324679c411",
   "metadata": {},
   "outputs": [],
   "source": [
    "import time\n",
    "import pickle\n",
    "import numpy as np\n",
    "import pandas as pd\n",
    "from gridfs import GridFS\n",
    "from statistics import mean\n",
    "from datetime import datetime\n",
    "from bson.binary import Binary\n",
    "import matplotlib.pyplot as plt\n",
    "from pymongo import MongoClient\n",
    "\n",
    "from sklearn.tree import DecisionTreeClassifier\n",
    "\n",
    "from sklearn import metrics\n",
    "from sklearn.decomposition import PCA\n",
    "from sklearn.model_selection import KFold\n",
    "from sklearn.metrics import confusion_matrix\n",
    "from sklearn.preprocessing import StandardScaler\n",
    "from sklearn.model_selection import train_test_split, cross_val_score"
   ]
  },
  {
   "cell_type": "markdown",
   "id": "ad78ad6f-e525-4153-bbec-fa322aab544c",
   "metadata": {},
   "source": [
    "# DB Connections"
   ]
  },
  {
   "cell_type": "code",
   "execution_count": 5,
   "id": "2e707327-e147-4594-a48b-6c5ff199b037",
   "metadata": {},
   "outputs": [],
   "source": [
    "client = MongoClient(\"mongodb://mongodb:27017\")\n",
    "db = client['mataelanglab']\n",
    "\n",
    "result_col = db['sklearn_result']\n",
    "cv_col = db['sklearn_cv']\n",
    "model_col = GridFS(db, 'sklearn_model')"
   ]
  },
  {
   "cell_type": "markdown",
   "id": "df103ad0-9e3d-4029-8ddb-c593284d7f47",
   "metadata": {
    "tags": []
   },
   "source": [
    "# Read Data"
   ]
  },
  {
   "cell_type": "code",
   "execution_count": 6,
   "id": "064c6a22-5275-4407-aaee-e3e1c19dbbe9",
   "metadata": {},
   "outputs": [],
   "source": [
    "df = pd.read_csv(input_path)"
   ]
  },
  {
   "cell_type": "markdown",
   "id": "39d641b9-0236-415a-acf2-6c24979376eb",
   "metadata": {
    "tags": []
   },
   "source": [
    "# Normalisasi"
   ]
  },
  {
   "cell_type": "code",
   "execution_count": 7,
   "id": "d01c12bb-99b0-4b56-bde8-244f17868fa8",
   "metadata": {},
   "outputs": [],
   "source": [
    "xNorm = df.drop(['Unnamed: 0','flow_id','src_ip','src_port','dst_ip','dst_port','protocol','timestamp','label'],axis=1)\n",
    "yNorm = df[['label']]"
   ]
  },
  {
   "cell_type": "code",
   "execution_count": 8,
   "id": "43a1167f-f0c5-40ef-835c-7420e527efa9",
   "metadata": {},
   "outputs": [
    {
     "data": {
      "text/html": [
       "<div>\n",
       "<style scoped>\n",
       "    .dataframe tbody tr th:only-of-type {\n",
       "        vertical-align: middle;\n",
       "    }\n",
       "\n",
       "    .dataframe tbody tr th {\n",
       "        vertical-align: top;\n",
       "    }\n",
       "\n",
       "    .dataframe thead th {\n",
       "        text-align: right;\n",
       "    }\n",
       "</style>\n",
       "<table border=\"1\" class=\"dataframe\">\n",
       "  <thead>\n",
       "    <tr style=\"text-align: right;\">\n",
       "      <th></th>\n",
       "      <th>flow_duration</th>\n",
       "      <th>total_fwd_packet</th>\n",
       "      <th>total_bwd_packets</th>\n",
       "      <th>total_length_of_fwd_packet</th>\n",
       "      <th>total_length_of_bwd_packet</th>\n",
       "      <th>fwd_packet_length_max</th>\n",
       "      <th>fwd_packet_length_min</th>\n",
       "      <th>fwd_packet_length_mean</th>\n",
       "      <th>fwd_packet_length_std</th>\n",
       "      <th>bwd_packet_length_max</th>\n",
       "      <th>...</th>\n",
       "      <th>fwd_act_data_pkts</th>\n",
       "      <th>fwd_seg_size_min</th>\n",
       "      <th>active_mean</th>\n",
       "      <th>active_std</th>\n",
       "      <th>active_max</th>\n",
       "      <th>active_min</th>\n",
       "      <th>idle_mean</th>\n",
       "      <th>idle_std</th>\n",
       "      <th>idle_max</th>\n",
       "      <th>idle_min</th>\n",
       "    </tr>\n",
       "  </thead>\n",
       "  <tbody>\n",
       "    <tr>\n",
       "      <th>0</th>\n",
       "      <td>-0.377311</td>\n",
       "      <td>-0.044437</td>\n",
       "      <td>-0.053995</td>\n",
       "      <td>-0.003726</td>\n",
       "      <td>-0.046560</td>\n",
       "      <td>3.075022</td>\n",
       "      <td>-0.474292</td>\n",
       "      <td>1.190075</td>\n",
       "      <td>3.450602</td>\n",
       "      <td>-0.380966</td>\n",
       "      <td>...</td>\n",
       "      <td>-0.036528</td>\n",
       "      <td>0.237673</td>\n",
       "      <td>-0.314924</td>\n",
       "      <td>-0.057004</td>\n",
       "      <td>-0.293148</td>\n",
       "      <td>-0.313532</td>\n",
       "      <td>0.632930</td>\n",
       "      <td>-0.659378</td>\n",
       "      <td>-0.463769</td>\n",
       "      <td>0.650771</td>\n",
       "    </tr>\n",
       "    <tr>\n",
       "      <th>1</th>\n",
       "      <td>1.621775</td>\n",
       "      <td>-0.062786</td>\n",
       "      <td>-0.065338</td>\n",
       "      <td>-0.018863</td>\n",
       "      <td>-0.046926</td>\n",
       "      <td>-0.103881</td>\n",
       "      <td>-0.474292</td>\n",
       "      <td>-0.154518</td>\n",
       "      <td>0.089382</td>\n",
       "      <td>-0.522705</td>\n",
       "      <td>...</td>\n",
       "      <td>-0.036528</td>\n",
       "      <td>0.237673</td>\n",
       "      <td>-0.314924</td>\n",
       "      <td>-0.057004</td>\n",
       "      <td>-0.293148</td>\n",
       "      <td>-0.313532</td>\n",
       "      <td>-1.465506</td>\n",
       "      <td>1.506739</td>\n",
       "      <td>-0.463530</td>\n",
       "      <td>-1.509516</td>\n",
       "    </tr>\n",
       "    <tr>\n",
       "      <th>2</th>\n",
       "      <td>-0.290783</td>\n",
       "      <td>0.295013</td>\n",
       "      <td>0.059432</td>\n",
       "      <td>1.548795</td>\n",
       "      <td>-0.046611</td>\n",
       "      <td>8.110218</td>\n",
       "      <td>-0.474292</td>\n",
       "      <td>17.184021</td>\n",
       "      <td>5.072583</td>\n",
       "      <td>-0.400652</td>\n",
       "      <td>...</td>\n",
       "      <td>1.264708</td>\n",
       "      <td>0.237673</td>\n",
       "      <td>-0.314924</td>\n",
       "      <td>-0.057004</td>\n",
       "      <td>-0.293148</td>\n",
       "      <td>-0.313532</td>\n",
       "      <td>0.633043</td>\n",
       "      <td>-0.659378</td>\n",
       "      <td>-0.462282</td>\n",
       "      <td>0.650830</td>\n",
       "    </tr>\n",
       "    <tr>\n",
       "      <th>3</th>\n",
       "      <td>-0.410054</td>\n",
       "      <td>0.038132</td>\n",
       "      <td>0.082118</td>\n",
       "      <td>-0.010714</td>\n",
       "      <td>-0.028506</td>\n",
       "      <td>0.638636</td>\n",
       "      <td>-0.474292</td>\n",
       "      <td>-0.030761</td>\n",
       "      <td>0.348651</td>\n",
       "      <td>0.394661</td>\n",
       "      <td>...</td>\n",
       "      <td>0.305903</td>\n",
       "      <td>0.237673</td>\n",
       "      <td>-0.314924</td>\n",
       "      <td>-0.057004</td>\n",
       "      <td>-0.293148</td>\n",
       "      <td>-0.313532</td>\n",
       "      <td>0.632809</td>\n",
       "      <td>-0.659378</td>\n",
       "      <td>-0.465364</td>\n",
       "      <td>0.650709</td>\n",
       "    </tr>\n",
       "    <tr>\n",
       "      <th>4</th>\n",
       "      <td>1.405972</td>\n",
       "      <td>0.010609</td>\n",
       "      <td>-0.008624</td>\n",
       "      <td>-0.013477</td>\n",
       "      <td>-0.045711</td>\n",
       "      <td>-0.115483</td>\n",
       "      <td>-0.474292</td>\n",
       "      <td>-0.062998</td>\n",
       "      <td>0.010400</td>\n",
       "      <td>-0.440024</td>\n",
       "      <td>...</td>\n",
       "      <td>0.168931</td>\n",
       "      <td>0.237673</td>\n",
       "      <td>0.448076</td>\n",
       "      <td>-0.057004</td>\n",
       "      <td>0.370849</td>\n",
       "      <td>0.484196</td>\n",
       "      <td>-1.604441</td>\n",
       "      <td>1.363325</td>\n",
       "      <td>-4.123980</td>\n",
       "      <td>-1.509516</td>\n",
       "    </tr>\n",
       "  </tbody>\n",
       "</table>\n",
       "<p>5 rows × 76 columns</p>\n",
       "</div>"
      ],
      "text/plain": [
       "   flow_duration  total_fwd_packet  total_bwd_packets  \\\n",
       "0      -0.377311         -0.044437          -0.053995   \n",
       "1       1.621775         -0.062786          -0.065338   \n",
       "2      -0.290783          0.295013           0.059432   \n",
       "3      -0.410054          0.038132           0.082118   \n",
       "4       1.405972          0.010609          -0.008624   \n",
       "\n",
       "   total_length_of_fwd_packet  total_length_of_bwd_packet  \\\n",
       "0                   -0.003726                   -0.046560   \n",
       "1                   -0.018863                   -0.046926   \n",
       "2                    1.548795                   -0.046611   \n",
       "3                   -0.010714                   -0.028506   \n",
       "4                   -0.013477                   -0.045711   \n",
       "\n",
       "   fwd_packet_length_max  fwd_packet_length_min  fwd_packet_length_mean  \\\n",
       "0               3.075022              -0.474292                1.190075   \n",
       "1              -0.103881              -0.474292               -0.154518   \n",
       "2               8.110218              -0.474292               17.184021   \n",
       "3               0.638636              -0.474292               -0.030761   \n",
       "4              -0.115483              -0.474292               -0.062998   \n",
       "\n",
       "   fwd_packet_length_std  bwd_packet_length_max  ...  fwd_act_data_pkts  \\\n",
       "0               3.450602              -0.380966  ...          -0.036528   \n",
       "1               0.089382              -0.522705  ...          -0.036528   \n",
       "2               5.072583              -0.400652  ...           1.264708   \n",
       "3               0.348651               0.394661  ...           0.305903   \n",
       "4               0.010400              -0.440024  ...           0.168931   \n",
       "\n",
       "   fwd_seg_size_min  active_mean  active_std  active_max  active_min  \\\n",
       "0          0.237673    -0.314924   -0.057004   -0.293148   -0.313532   \n",
       "1          0.237673    -0.314924   -0.057004   -0.293148   -0.313532   \n",
       "2          0.237673    -0.314924   -0.057004   -0.293148   -0.313532   \n",
       "3          0.237673    -0.314924   -0.057004   -0.293148   -0.313532   \n",
       "4          0.237673     0.448076   -0.057004    0.370849    0.484196   \n",
       "\n",
       "   idle_mean  idle_std  idle_max  idle_min  \n",
       "0   0.632930 -0.659378 -0.463769  0.650771  \n",
       "1  -1.465506  1.506739 -0.463530 -1.509516  \n",
       "2   0.633043 -0.659378 -0.462282  0.650830  \n",
       "3   0.632809 -0.659378 -0.465364  0.650709  \n",
       "4  -1.604441  1.363325 -4.123980 -1.509516  \n",
       "\n",
       "[5 rows x 76 columns]"
      ]
     },
     "execution_count": 8,
     "metadata": {},
     "output_type": "execute_result"
    }
   ],
   "source": [
    "stdScaler = StandardScaler()\n",
    "normData = pd.DataFrame(stdScaler.fit_transform(xNorm), columns=xNorm.columns)\n",
    "normData.head(5)"
   ]
  },
  {
   "cell_type": "markdown",
   "id": "fc7a5409-254f-4998-801b-a3cef2f922ee",
   "metadata": {
    "tags": []
   },
   "source": [
    "# All Data without Feature Selection"
   ]
  },
  {
   "cell_type": "markdown",
   "id": "9c3f5398-e14e-4c3b-8e53-281df2ad52c6",
   "metadata": {
    "tags": []
   },
   "source": [
    "## Processing"
   ]
  },
  {
   "cell_type": "code",
   "execution_count": 9,
   "id": "9374c252-52e9-434f-b35d-d2c2a594bcef",
   "metadata": {},
   "outputs": [
    {
     "name": "stdout",
     "output_type": "stream",
     "text": [
      "--- 6.998743295669556 seconds ---\n"
     ]
    }
   ],
   "source": [
    "start_time = time.time()\n",
    "# Split dataset into training set and test set\n",
    "xtrain, xtest, ytrain, ytest = train_test_split(normData, yNorm, test_size=0.3, random_state=42)\n",
    "\n",
    "# Create Decision Tree classifer object\n",
    "dt = DecisionTreeClassifier()\n",
    "\n",
    "# Train Decision Tree Classifer\n",
    "dtModel = dt.fit(xtrain,ytrain)\n",
    "\n",
    "#Predict the response for test dataset\n",
    "ypred = dtModel.predict(xtest)\n",
    "duration = (time.time() - start_time)\n",
    "print(\"--- %s seconds ---\" % duration)"
   ]
  },
  {
   "cell_type": "code",
   "execution_count": 10,
   "id": "098f974f-6ba5-41eb-bb14-c616182bbb1e",
   "metadata": {},
   "outputs": [
    {
     "name": "stdout",
     "output_type": "stream",
     "text": [
      "confusion matrix : [32149   520   542 32230]\n",
      "accuracy :  0.9838\n",
      "recall : 0.9835\n",
      "precision :  0.9841\n",
      "f1-measure : 0.9838\n"
     ]
    }
   ],
   "source": [
    "# Calculate Confusion matrix\n",
    "print(\"confusion matrix :\",confusion_matrix(ytest, ypred).ravel())\n",
    "tn, fp, fn, tp = confusion_matrix(ytest, ypred).ravel()\n",
    "\n",
    "accuracy = (tp + tn) / (tp + tn + fp + fn)\n",
    "recall = tp / ( tp + fn)\n",
    "precision = tp / (tp + fp)\n",
    "f1_score = 2 * (precision * recall) / (precision + recall)\n",
    "\n",
    "print(str('accuracy :  %0.4f' % accuracy) +\"\\n\" + str('recall : %0.4f' % recall) +\n",
    "      \"\\n\" + str('precision :  %0.4f' %precision) + \"\\n\" + str('f1-measure : %0.4f' %f1_score))"
   ]
  },
  {
   "cell_type": "code",
   "execution_count": 11,
   "id": "b0f2e2bb-8adf-4a53-9910-b5ebe00a8d54",
   "metadata": {
    "tags": []
   },
   "outputs": [],
   "source": [
    "# Save Pickle\n",
    "path = output_path+\"/all-feature.pkl\"\n",
    "with open(path, \"wb\") as f:\n",
    "    pickle_model = pickle.dump(dtModel, f)"
   ]
  },
  {
   "cell_type": "code",
   "execution_count": 12,
   "id": "26f714ef-df3e-4546-a8cc-6d5f3d046832",
   "metadata": {},
   "outputs": [
    {
     "data": {
      "text/plain": [
       "<pymongo.results.InsertOneResult at 0x7f84459fed60>"
      ]
     },
     "execution_count": 12,
     "metadata": {},
     "output_type": "execute_result"
    }
   ],
   "source": [
    "# Store to MongoDB\n",
    "\n",
    "with open(path, \"rb\") as f:\n",
    "    model_col.put(f, filename=\"DecissionTree-AllFeature.pkl\")\n",
    "    \n",
    "result_col.insert_one({\n",
    "    'machine_learning': \"Decission Tree\",\n",
    "    'feature': \"All Feature\",\n",
    "    'label': \"Binary-Label\",\n",
    "    'duration': duration,\n",
    "    'accuracy': accuracy,\n",
    "    'recall': recall,\n",
    "    'precision': precision,\n",
    "    'f1_score': f1_score,\n",
    "    'created_at': datetime.fromtimestamp(time.time())\n",
    "})"
   ]
  },
  {
   "cell_type": "markdown",
   "id": "5d2c7271-315d-4cdc-a1bb-92ec8bdf35ad",
   "metadata": {},
   "source": [
    "## Calculate Feature Weight to Get Importance Feature"
   ]
  },
  {
   "cell_type": "code",
   "execution_count": 13,
   "id": "bc0c5552-b361-4aad-a6d7-cc856d86702d",
   "metadata": {},
   "outputs": [
    {
     "data": {
      "image/png": "[encoded data removed]",
      "text/plain": [
       "<Figure size 432x288 with 1 Axes>"
      ]
     },
     "metadata": {
      "needs_background": "light"
     },
     "output_type": "display_data"
    }
   ],
   "source": [
    "featureImportances = pd.Series(dt.feature_importances_, index= normData.columns)\n",
    "featureImportances.nlargest(10).plot(kind='barh')\n",
    "\n",
    "plt.title('Calculate Feature Weight') \n",
    "plt.xlabel('Weight') \n",
    "plt.ylabel('Feature Name')\n",
    "p = plt.plot(featureImportances.values, featureImportances.index)"
   ]
  },
  {
   "cell_type": "code",
   "execution_count": 14,
   "id": "bf2f9e6f-b4cf-4d8d-a920-750727aefeae",
   "metadata": {},
   "outputs": [
    {
     "data": {
      "text/html": [
       "<div>\n",
       "<style scoped>\n",
       "    .dataframe tbody tr th:only-of-type {\n",
       "        vertical-align: middle;\n",
       "    }\n",
       "\n",
       "    .dataframe tbody tr th {\n",
       "        vertical-align: top;\n",
       "    }\n",
       "\n",
       "    .dataframe thead th {\n",
       "        text-align: right;\n",
       "    }\n",
       "</style>\n",
       "<table border=\"1\" class=\"dataframe\">\n",
       "  <thead>\n",
       "    <tr style=\"text-align: right;\">\n",
       "      <th></th>\n",
       "      <th>Feature_names</th>\n",
       "      <th>Importances</th>\n",
       "    </tr>\n",
       "  </thead>\n",
       "  <tbody>\n",
       "    <tr>\n",
       "      <th>74</th>\n",
       "      <td>idle_max</td>\n",
       "      <td>0.487686</td>\n",
       "    </tr>\n",
       "    <tr>\n",
       "      <th>37</th>\n",
       "      <td>packet_lenght_min</td>\n",
       "      <td>0.353579</td>\n",
       "    </tr>\n",
       "    <tr>\n",
       "      <th>15</th>\n",
       "      <td>flow_iat_mean</td>\n",
       "      <td>0.038862</td>\n",
       "    </tr>\n",
       "    <tr>\n",
       "      <th>10</th>\n",
       "      <td>bwd_packet_length_min</td>\n",
       "      <td>0.025351</td>\n",
       "    </tr>\n",
       "    <tr>\n",
       "      <th>50</th>\n",
       "      <td>down_per_up_ratio</td>\n",
       "      <td>0.017372</td>\n",
       "    </tr>\n",
       "    <tr>\n",
       "      <th>42</th>\n",
       "      <td>fin_flag_count</td>\n",
       "      <td>0.006897</td>\n",
       "    </tr>\n",
       "    <tr>\n",
       "      <th>18</th>\n",
       "      <td>flow_iat_min</td>\n",
       "      <td>0.005084</td>\n",
       "    </tr>\n",
       "    <tr>\n",
       "      <th>64</th>\n",
       "      <td>fwd_init_win_bytes</td>\n",
       "      <td>0.005058</td>\n",
       "    </tr>\n",
       "    <tr>\n",
       "      <th>63</th>\n",
       "      <td>subflow_bwd_bytes</td>\n",
       "      <td>0.004075</td>\n",
       "    </tr>\n",
       "    <tr>\n",
       "      <th>36</th>\n",
       "      <td>bwd_packets_per_s</td>\n",
       "      <td>0.003767</td>\n",
       "    </tr>\n",
       "    <tr>\n",
       "      <th>72</th>\n",
       "      <td>idle_mean</td>\n",
       "      <td>0.003027</td>\n",
       "    </tr>\n",
       "    <tr>\n",
       "      <th>75</th>\n",
       "      <td>idle_min</td>\n",
       "      <td>0.002778</td>\n",
       "    </tr>\n",
       "    <tr>\n",
       "      <th>41</th>\n",
       "      <td>packet_length_variance</td>\n",
       "      <td>0.002717</td>\n",
       "    </tr>\n",
       "    <tr>\n",
       "      <th>14</th>\n",
       "      <td>flow_packets_per_s</td>\n",
       "      <td>0.002381</td>\n",
       "    </tr>\n",
       "    <tr>\n",
       "      <th>23</th>\n",
       "      <td>fwd_iat_min</td>\n",
       "      <td>0.002234</td>\n",
       "    </tr>\n",
       "  </tbody>\n",
       "</table>\n",
       "</div>"
      ],
      "text/plain": [
       "             Feature_names  Importances\n",
       "74                idle_max     0.487686\n",
       "37       packet_lenght_min     0.353579\n",
       "15           flow_iat_mean     0.038862\n",
       "10   bwd_packet_length_min     0.025351\n",
       "50       down_per_up_ratio     0.017372\n",
       "42          fin_flag_count     0.006897\n",
       "18            flow_iat_min     0.005084\n",
       "64      fwd_init_win_bytes     0.005058\n",
       "63       subflow_bwd_bytes     0.004075\n",
       "36       bwd_packets_per_s     0.003767\n",
       "72               idle_mean     0.003027\n",
       "75                idle_min     0.002778\n",
       "41  packet_length_variance     0.002717\n",
       "14      flow_packets_per_s     0.002381\n",
       "23             fwd_iat_min     0.002234"
      ]
     },
     "execution_count": 14,
     "metadata": {},
     "output_type": "execute_result"
    }
   ],
   "source": [
    "pd.set_option('display.max_columns',None)\n",
    "pd.set_option('display.max_rows',None)\n",
    "\n",
    "featureImp = pd.DataFrame({'Feature_names':normData.columns,'Importances':dt.feature_importances_})\n",
    "featureImp.sort_values(by='Importances',ascending=False).head(15)"
   ]
  },
  {
   "cell_type": "markdown",
   "id": "fed084d7-d291-4206-b79c-4e8d02a4b7da",
   "metadata": {
    "tags": []
   },
   "source": [
    "## Cross Validation Process"
   ]
  },
  {
   "cell_type": "code",
   "execution_count": 15,
   "id": "29cb171f-6c9d-4b41-907c-1912443d87dc",
   "metadata": {},
   "outputs": [
    {
     "name": "stdout",
     "output_type": "stream",
     "text": [
      "confusion matrix : [10681   167   175 10791]\n",
      "accuracy :  0.9843\n",
      "recall : 0.9840\n",
      "precision :  0.9848\n",
      "f1-measure : 0.9844\n",
      "confusion matrix : [10647   184   177 10806]\n",
      "accuracy :  0.9835\n",
      "recall : 0.9839\n",
      "precision :  0.9833\n",
      "f1-measure : 0.9836\n",
      "confusion matrix : [10801   185   156 10672]\n",
      "accuracy :  0.9844\n",
      "recall : 0.9856\n",
      "precision :  0.9830\n",
      "f1-measure : 0.9843\n",
      "confusion matrix : [10768   169   168 10709]\n",
      "accuracy :  0.9846\n",
      "recall : 0.9846\n",
      "precision :  0.9845\n",
      "f1-measure : 0.9845\n",
      "confusion matrix : [10670   185   173 10785]\n",
      "accuracy :  0.9836\n",
      "recall : 0.9842\n",
      "precision :  0.9831\n",
      "f1-measure : 0.9837\n",
      "confusion matrix : [10698   178   178 10759]\n",
      "accuracy :  0.9837\n",
      "recall : 0.9837\n",
      "precision :  0.9837\n",
      "f1-measure : 0.9837\n",
      "confusion matrix : [10683   173   177 10780]\n",
      "accuracy :  0.9840\n",
      "recall : 0.9838\n",
      "precision :  0.9842\n",
      "f1-measure : 0.9840\n",
      "confusion matrix : [10647   154   193 10819]\n",
      "accuracy :  0.9841\n",
      "recall : 0.9825\n",
      "precision :  0.9860\n",
      "f1-measure : 0.9842\n",
      "confusion matrix : [10799   179   175 10660]\n",
      "accuracy :  0.9838\n",
      "recall : 0.9838\n",
      "precision :  0.9835\n",
      "f1-measure : 0.9837\n",
      "confusion matrix : [10910   189   174 10540]\n",
      "accuracy :  0.9834\n",
      "recall : 0.9838\n",
      "precision :  0.9824\n",
      "f1-measure : 0.9831\n"
     ]
    }
   ],
   "source": [
    "X=np.array(normData)\n",
    "y=np.array(yNorm)\n",
    "\n",
    "accList = []\n",
    "recList = []\n",
    "precList=[]\n",
    "f1List=[]\n",
    "\n",
    "kf= KFold(n_splits=10,shuffle=True)\n",
    "kf.get_n_splits(X)\n",
    "for train_index, test_index in kf.split(X) :\n",
    "    X_train,X_test = X[train_index],X[test_index]\n",
    "    y_train,y_test = y[train_index],y[test_index]\n",
    "    \n",
    "    dt = DecisionTreeClassifier()\n",
    "    dtModel = dt.fit(X_train,y_train)\n",
    "    \n",
    "    y_pred = dtModel.predict(X_test)\n",
    "    print(\"confusion matrix :\", confusion_matrix(y_test,y_pred).ravel())\n",
    "    tn,fp,fn,tp = confusion_matrix(y_test,y_pred).ravel()\n",
    "    \n",
    "    accuracy = (tp + tn) / (tp + tn + fp + fn)\n",
    "    recall = tp / (tp + fn)\n",
    "    precision = tp / (tp + fp)\n",
    "    f1_score = 2 * (precision * recall) / (precision + recall)\n",
    "    \n",
    "    accList.append(accuracy)\n",
    "    recList.append(recall)\n",
    "    precList.append(precision)\n",
    "    f1List.append(f1_score)\n",
    "    \n",
    "    print(str('accuracy :  %0.4f' % accuracy) +\"\\n\" + str('recall : %0.4f' % recall) +\n",
    "          \"\\n\" + str('precision :  %0.4f' %precision) + \"\\n\" + str('f1-measure : %0.4f' %f1_score))"
   ]
  },
  {
   "cell_type": "code",
   "execution_count": 16,
   "id": "94f9f290-9262-447b-b4cd-cf6c65b39165",
   "metadata": {},
   "outputs": [
    {
     "name": "stdout",
     "output_type": "stream",
     "text": [
      "accuracy :  0.9839135529636793\n",
      "recall :  0.9839938471408449\n",
      "precision :  0.9838343198944017\n",
      "f1_score :  0.9839134902731397\n"
     ]
    },
    {
     "data": {
      "text/plain": [
       "<pymongo.results.InsertOneResult at 0x7f84457b81f0>"
      ]
     },
     "execution_count": 16,
     "metadata": {},
     "output_type": "execute_result"
    }
   ],
   "source": [
    "print('accuracy : ',(mean(accList)))\n",
    "print('recall : ',(mean(recList)))\n",
    "print('precision : ',(mean(precList)))\n",
    "print('f1_score : ',(mean(f1List)))\n",
    "\n",
    "cv_col.insert_one({\n",
    "    'machine_learning': \"Decission Tree\",\n",
    "    'feature': \"All Feature\",\n",
    "    'label': \"Binary-Label\",\n",
    "    'accuracy': (mean(accList)),\n",
    "    'recall': (mean(recList)),\n",
    "    'precision': (mean(precList)),\n",
    "    'f1_score': (mean(f1List)),\n",
    "    'created_at': datetime.fromtimestamp(time.time())\n",
    "})"
   ]
  },
  {
   "cell_type": "markdown",
   "id": "a3549f77-8f69-4124-8d83-4d32cd9d8299",
   "metadata": {
    "tags": []
   },
   "source": [
    "# Using Feature Importance"
   ]
  },
  {
   "cell_type": "markdown",
   "id": "be28bbfa-0cce-45db-ae40-8848b361deb8",
   "metadata": {
    "tags": []
   },
   "source": [
    "## Processing"
   ]
  },
  {
   "cell_type": "code",
   "execution_count": 17,
   "id": "2a3d09a7-e5cd-4a33-9691-a6ed0074008b",
   "metadata": {},
   "outputs": [],
   "source": [
    "importance = normData[[\n",
    "    'idle_max',\n",
    "    'fwd_init_win_bytes',\n",
    "    'fwd_header_length',\n",
    "    'bwd_packets_per_s',\n",
    "    'flow_bytes_per_s',\n",
    "    'bwd_init_win_bytes',\n",
    "    'flow_iat_max'\n",
    "]]"
   ]
  },
  {
   "cell_type": "code",
   "execution_count": 18,
   "id": "7a921e0d-8b80-404f-b7ad-4c42099b3e89",
   "metadata": {},
   "outputs": [
    {
     "name": "stdout",
     "output_type": "stream",
     "text": [
      "--- 1.1013574600219727 seconds ---\n"
     ]
    }
   ],
   "source": [
    "start_time = time.time()\n",
    "# Split dataset into training set and test set\n",
    "xftrain, xftest, yftrain, yftest = train_test_split(importance, yNorm, test_size=0.3, random_state=42)\n",
    "\n",
    "# Create Decision Tree classifer object\n",
    "dt = DecisionTreeClassifier()\n",
    "\n",
    "# Train Decision Tree Classifer\n",
    "dtModel = dt.fit(xftrain,yftrain)\n",
    "\n",
    "#Predict the response for test dataset\n",
    "yfpred = dtModel.predict(xftest)\n",
    "duration = (time.time() - start_time)\n",
    "print(\"--- %s seconds ---\" % duration)"
   ]
  },
  {
   "cell_type": "code",
   "execution_count": 19,
   "id": "92ef35e4-8a20-467a-939f-2ff4d8209ce0",
   "metadata": {},
   "outputs": [
    {
     "name": "stdout",
     "output_type": "stream",
     "text": [
      "confusion matrix : [32027   642   655 32117]\n",
      "accuracy :  0.9802\n",
      "recall : 0.9800\n",
      "precision :  0.9804\n",
      "f1-measure : 0.9802\n"
     ]
    }
   ],
   "source": [
    "print(\"confusion matrix :\",confusion_matrix(yftest, yfpred).ravel())\n",
    "tn, fp, fn, tp = confusion_matrix(yftest, yfpred).ravel()\n",
    "\n",
    "accuracy = (tp + tn) / (tp + tn + fp + fn)\n",
    "recall = tp / ( tp + fn)\n",
    "precision = tp / (tp + fp)\n",
    "f1_score = 2 * (precision * recall) / (precision + recall)\n",
    "\n",
    "print(str('accuracy :  %0.4f' % accuracy) +\"\\n\" + str('recall : %0.4f' % recall) +\n",
    "      \"\\n\" + str('precision :  %0.4f' %precision) + \"\\n\" + str('f1-measure : %0.4f' %f1_score))"
   ]
  },
  {
   "cell_type": "code",
   "execution_count": 20,
   "id": "86c9b4f7-be60-4be0-9dc0-7ae15ece800d",
   "metadata": {
    "tags": []
   },
   "outputs": [],
   "source": [
    "# Save Pickle\n",
    "path = output_path+\"/feature-importance.pkl\"\n",
    "with open(path, \"wb\") as f:\n",
    "    pickle_model = pickle.dump(dtModel, f)"
   ]
  },
  {
   "cell_type": "code",
   "execution_count": 21,
   "id": "22273361-e268-4299-a4d3-1ec541fa3633",
   "metadata": {},
   "outputs": [
    {
     "data": {
      "text/plain": [
       "<pymongo.results.InsertOneResult at 0x7f84457b8cd0>"
      ]
     },
     "execution_count": 21,
     "metadata": {},
     "output_type": "execute_result"
    }
   ],
   "source": [
    "# Store to MongoDB\n",
    "\n",
    "with open(path, \"rb\") as f:\n",
    "    model_col.put(f, filename=\"DecissionTree-FeatureImportance.pkl\")\n",
    "    \n",
    "result_col.insert_one({\n",
    "    'machine_learning': \"Decission Tree\",\n",
    "    'feature': \"Feature Importance\",\n",
    "    'label': \"Binary-Label\",\n",
    "    'duration': duration,\n",
    "    'accuracy': accuracy,\n",
    "    'recall': recall,\n",
    "    'precision': precision,\n",
    "    'f1_score': f1_score,\n",
    "    'created_at': datetime.fromtimestamp(time.time())\n",
    "})"
   ]
  },
  {
   "cell_type": "markdown",
   "id": "bdee4eb9-aa3f-45bd-ba01-e6410e0d5013",
   "metadata": {
    "tags": []
   },
   "source": [
    "## Cross Validation Process"
   ]
  },
  {
   "cell_type": "code",
   "execution_count": 22,
   "id": "ef06367f-0fd6-47f3-8a37-3bc188ab0a54",
   "metadata": {},
   "outputs": [
    {
     "name": "stdout",
     "output_type": "stream",
     "text": [
      "confusion matrix : [10670   220   238 10686]\n",
      "accuracy :  0.9790\n",
      "recall : 0.9782\n",
      "precision :  0.9798\n",
      "f1-measure : 0.9790\n",
      "confusion matrix : [10658   216   196 10744]\n",
      "accuracy :  0.9811\n",
      "recall : 0.9821\n",
      "precision :  0.9803\n",
      "f1-measure : 0.9812\n",
      "confusion matrix : [10782   209   190 10633]\n",
      "accuracy :  0.9817\n",
      "recall : 0.9824\n",
      "precision :  0.9807\n",
      "f1-measure : 0.9816\n",
      "confusion matrix : [10717   230   193 10674]\n",
      "accuracy :  0.9806\n",
      "recall : 0.9822\n",
      "precision :  0.9789\n",
      "f1-measure : 0.9806\n",
      "confusion matrix : [10631   224   222 10736]\n",
      "accuracy :  0.9796\n",
      "recall : 0.9797\n",
      "precision :  0.9796\n",
      "f1-measure : 0.9797\n",
      "confusion matrix : [10644   233   225 10711]\n",
      "accuracy :  0.9790\n",
      "recall : 0.9794\n",
      "precision :  0.9787\n",
      "f1-measure : 0.9791\n",
      "confusion matrix : [10667   214   194 10738]\n",
      "accuracy :  0.9813\n",
      "recall : 0.9823\n",
      "precision :  0.9805\n",
      "f1-measure : 0.9814\n",
      "confusion matrix : [10602   181   216 10814]\n",
      "accuracy :  0.9818\n",
      "recall : 0.9804\n",
      "precision :  0.9835\n",
      "f1-measure : 0.9820\n",
      "confusion matrix : [10707   206   204 10696]\n",
      "accuracy :  0.9812\n",
      "recall : 0.9813\n",
      "precision :  0.9811\n",
      "f1-measure : 0.9812\n",
      "confusion matrix : [10844   212   187 10570]\n",
      "accuracy :  0.9817\n",
      "recall : 0.9826\n",
      "precision :  0.9803\n",
      "f1-measure : 0.9815\n"
     ]
    }
   ],
   "source": [
    "X=np.array(importance)\n",
    "y=np.array(yNorm)\n",
    "\n",
    "accList = []\n",
    "recList = []\n",
    "precList=[]\n",
    "f1List=[]\n",
    "\n",
    "kf= KFold(n_splits=10,shuffle=True)\n",
    "kf.get_n_splits(X)\n",
    "for train_index, test_index in kf.split(X) :\n",
    "    X_train,X_test = X[train_index],X[test_index]\n",
    "    y_train,y_test = y[train_index],y[test_index]\n",
    "    \n",
    "    dt = DecisionTreeClassifier()\n",
    "    dtModel = dt.fit(X_train,y_train)\n",
    "    \n",
    "    y_pred = dtModel.predict(X_test)\n",
    "    print(\"confusion matrix :\", confusion_matrix(y_test,y_pred).ravel())\n",
    "    tn,fp,fn,tp = confusion_matrix(y_test,y_pred).ravel()\n",
    "    \n",
    "    accuracy = (tp + tn) / (tp + tn + fp + fn)\n",
    "    recall = tp / (tp + fn)\n",
    "    precision = tp / (tp + fp)\n",
    "    f1_score = 2 * (precision * recall) / (precision + recall)\n",
    "    \n",
    "    accList.append(accuracy)\n",
    "    recList.append(recall)\n",
    "    precList.append(precision)\n",
    "    f1List.append(f1_score)\n",
    "    \n",
    "    print(str('accuracy :  %0.4f' % accuracy) +\"\\n\" + str('recall : %0.4f' % recall) +\n",
    "          \"\\n\" + str('precision :  %0.4f' %precision) + \"\\n\" + str('f1-measure : %0.4f' %f1_score))"
   ]
  },
  {
   "cell_type": "code",
   "execution_count": 23,
   "id": "05d4735b-2d0d-4020-b103-9382686a5518",
   "metadata": {},
   "outputs": [
    {
     "name": "stdout",
     "output_type": "stream",
     "text": [
      "accuracy :  0.9806999384076771\n",
      "recall :  0.9810719736837166\n",
      "precision :  0.9803461510690846\n",
      "f1_score :  0.9807080783715794\n"
     ]
    },
    {
     "data": {
      "text/plain": [
       "<pymongo.results.InsertOneResult at 0x7f84457c4fa0>"
      ]
     },
     "execution_count": 23,
     "metadata": {},
     "output_type": "execute_result"
    }
   ],
   "source": [
    "print('accuracy : ',(mean(accList)))\n",
    "print('recall : ',(mean(recList)))\n",
    "print('precision : ',(mean(precList)))\n",
    "print('f1_score : ',(mean(f1List)))\n",
    "\n",
    "cv_col.insert_one({\n",
    "    'machine_learning': \"Decission Tree\",\n",
    "    'feature': \"Feature Importance\",\n",
    "    'label': \"Binary-Label\",\n",
    "    'accuracy': (mean(accList)),\n",
    "    'recall': (mean(recList)),\n",
    "    'precision': (mean(precList)),\n",
    "    'f1_score': (mean(f1List)),\n",
    "    'created_at': datetime.fromtimestamp(time.time())\n",
    "})"
   ]
  },
  {
   "cell_type": "markdown",
   "id": "b166dc6e-8f5c-4683-992f-c87bc30f6378",
   "metadata": {
    "tags": []
   },
   "source": [
    "# Using PCA"
   ]
  },
  {
   "cell_type": "markdown",
   "id": "db21b431-54ab-438d-83c0-5715dd42cac4",
   "metadata": {
    "tags": []
   },
   "source": [
    "## Processing"
   ]
  },
  {
   "cell_type": "code",
   "execution_count": 24,
   "id": "8eedb6d4-649b-4e4b-b273-de2a1dc5f5a6",
   "metadata": {},
   "outputs": [
    {
     "name": "stdout",
     "output_type": "stream",
     "text": [
      "--- 3.3312323093414307 seconds ---\n"
     ]
    }
   ],
   "source": [
    "start_time = time.time()\n",
    "pca = PCA(n_components=7)\n",
    "pca_dataset = pd.DataFrame(pca.fit_transform(normData), columns=[\n",
    "    \"Feature 1\",\n",
    "    \"Feature 2\",\n",
    "    \"Feature 3\",\n",
    "    \"Feature 4\",\n",
    "    \"Feature 5\",\n",
    "    \"Feature 6\",\n",
    "    \"Feature 7\"\n",
    "])\n",
    "#pca_dataset[\"Label\"] = pca_label[\"Label\"]\n",
    "duration = (time.time() - start_time)\n",
    "print(\"--- %s seconds ---\" % duration)"
   ]
  },
  {
   "cell_type": "code",
   "execution_count": 25,
   "id": "911d8bd5-84e6-43d7-bda5-ef4806d1d18c",
   "metadata": {},
   "outputs": [
    {
     "name": "stdout",
     "output_type": "stream",
     "text": [
      "[10.88449402  9.09396116  6.65470816  5.49491754  4.40487123  3.77902177\n",
      "  3.05000117]\n"
     ]
    }
   ],
   "source": [
    "print(pca.explained_variance_)"
   ]
  },
  {
   "cell_type": "code",
   "execution_count": 26,
   "id": "37553427-81d8-4f4b-93fb-e7bca24ae1b7",
   "metadata": {},
   "outputs": [
    {
     "name": "stdout",
     "output_type": "stream",
     "text": [
      "43.3619750520958\n"
     ]
    }
   ],
   "source": [
    "a = 0\n",
    "for i in pca.explained_variance_:\n",
    "  a = a+i\n",
    "print(a)"
   ]
  },
  {
   "cell_type": "code",
   "execution_count": 27,
   "id": "61fdb477-de17-4932-9aa6-9a8b8054eb22",
   "metadata": {},
   "outputs": [
    {
     "name": "stdout",
     "output_type": "stream",
     "text": [
      "--- 2.697516679763794 seconds ---\n"
     ]
    }
   ],
   "source": [
    "start_time = time.time()\n",
    "# Split dataset into training set and test set\n",
    "xptrain, xptest, yptrain, yptest = train_test_split(pca_dataset, yNorm, test_size=0.3, random_state=42)\n",
    "\n",
    "# Create Decision Tree classifer object\n",
    "dt = DecisionTreeClassifier()\n",
    "\n",
    "# Train Decision Tree Classifer\n",
    "dtModel = dt.fit(xptrain,yptrain)\n",
    "\n",
    "#Predict the response for test dataset\n",
    "yppred = dtModel.predict(xptest)\n",
    "duration = (time.time() - start_time)\n",
    "print(\"--- %s seconds ---\" % duration)"
   ]
  },
  {
   "cell_type": "code",
   "execution_count": 28,
   "id": "94d38a8c-39c2-4a95-b736-7a1b439c5b6f",
   "metadata": {},
   "outputs": [
    {
     "name": "stdout",
     "output_type": "stream",
     "text": [
      "confusion matrix : [31858   811   782 31990]\n",
      "accuracy :  0.9757\n",
      "recall : 0.9761\n",
      "precision :  0.9753\n",
      "f1-measure : 0.9757\n"
     ]
    }
   ],
   "source": [
    "print(\"confusion matrix :\",confusion_matrix(yptest, yppred).ravel())\n",
    "tn, fp, fn, tp = confusion_matrix(yptest, yppred).ravel()\n",
    "\n",
    "accuracy = (tp + tn) / (tp + tn + fp + fn)\n",
    "recall = tp / ( tp + fn)\n",
    "precision = tp / (tp + fp)\n",
    "f1_score = 2 * (precision * recall) / (precision + recall)\n",
    "\n",
    "print(str('accuracy :  %0.4f' % accuracy) +\"\\n\" + str('recall : %0.4f' % recall) +\n",
    "      \"\\n\" + str('precision :  %0.4f' %precision) + \"\\n\" + str('f1-measure : %0.4f' %f1_score))"
   ]
  },
  {
   "cell_type": "code",
   "execution_count": 29,
   "id": "c5ac392a-138a-42d6-88b3-43e6871803c5",
   "metadata": {
    "tags": []
   },
   "outputs": [],
   "source": [
    "# Save Pickle\n",
    "path = output_path+\"/pca.pkl\"\n",
    "with open(path, \"wb\") as f:\n",
    "    pickle_model = pickle.dump(dtModel, f)"
   ]
  },
  {
   "cell_type": "code",
   "execution_count": 30,
   "id": "f963a071-1b47-49b7-893d-2e0b203b71f4",
   "metadata": {},
   "outputs": [
    {
     "data": {
      "text/plain": [
       "<pymongo.results.InsertOneResult at 0x7f84457cce80>"
      ]
     },
     "execution_count": 30,
     "metadata": {},
     "output_type": "execute_result"
    }
   ],
   "source": [
    "# Store to MongoDB\n",
    "\n",
    "with open(path, \"rb\") as f:\n",
    "    model_col.put(f, filename=\"DecissionTree-PCA.pkl\")\n",
    "    \n",
    "result_col.insert_one({\n",
    "    'machine_learning': \"Decission Tree\",\n",
    "    'feature': \"PCA\",\n",
    "    'label': \"Binary-Label\",\n",
    "    'duration': duration,\n",
    "    'accuracy': accuracy,\n",
    "    'recall': recall,\n",
    "    'precision': precision,\n",
    "    'f1_score': f1_score,\n",
    "    'created_at': datetime.fromtimestamp(time.time())\n",
    "})"
   ]
  },
  {
   "cell_type": "markdown",
   "id": "3ab7b074-7214-45cc-87cf-47d956e86847",
   "metadata": {
    "tags": []
   },
   "source": [
    "## Cross Validation Process"
   ]
  },
  {
   "cell_type": "code",
   "execution_count": 31,
   "id": "840dd546-5bcd-4d24-8569-94485dc3582b",
   "metadata": {},
   "outputs": [
    {
     "name": "stdout",
     "output_type": "stream",
     "text": [
      "confusion matrix : [10596   270   278 10670]\n",
      "accuracy :  0.9749\n",
      "recall : 0.9746\n",
      "precision :  0.9753\n",
      "f1-measure : 0.9750\n",
      "confusion matrix : [10648   282   263 10621]\n",
      "accuracy :  0.9750\n",
      "recall : 0.9758\n",
      "precision :  0.9741\n",
      "f1-measure : 0.9750\n",
      "confusion matrix : [10653   258   261 10642]\n",
      "accuracy :  0.9762\n",
      "recall : 0.9761\n",
      "precision :  0.9763\n",
      "f1-measure : 0.9762\n",
      "confusion matrix : [10665   294   231 10624]\n",
      "accuracy :  0.9759\n",
      "recall : 0.9787\n",
      "precision :  0.9731\n",
      "f1-measure : 0.9759\n",
      "confusion matrix : [10605   286   276 10646]\n",
      "accuracy :  0.9742\n",
      "recall : 0.9747\n",
      "precision :  0.9738\n",
      "f1-measure : 0.9743\n",
      "confusion matrix : [10650   281   286 10596]\n",
      "accuracy :  0.9740\n",
      "recall : 0.9737\n",
      "precision :  0.9742\n",
      "f1-measure : 0.9739\n",
      "confusion matrix : [10615   284   271 10643]\n",
      "accuracy :  0.9746\n",
      "recall : 0.9752\n",
      "precision :  0.9740\n",
      "f1-measure : 0.9746\n",
      "confusion matrix : [10653   249   268 10643]\n",
      "accuracy :  0.9763\n",
      "recall : 0.9754\n",
      "precision :  0.9771\n",
      "f1-measure : 0.9763\n",
      "confusion matrix : [10597   249   294 10673]\n",
      "accuracy :  0.9751\n",
      "recall : 0.9732\n",
      "precision :  0.9772\n",
      "f1-measure : 0.9752\n",
      "confusion matrix : [10666   266   270 10611]\n",
      "accuracy :  0.9754\n",
      "recall : 0.9752\n",
      "precision :  0.9755\n",
      "f1-measure : 0.9754\n"
     ]
    }
   ],
   "source": [
    "X=np.array(pca_dataset)\n",
    "y=np.array(yNorm)\n",
    "\n",
    "accList = []\n",
    "recList = []\n",
    "precList=[]\n",
    "f1List=[]\n",
    "\n",
    "kf= KFold(n_splits=10,shuffle=True)\n",
    "kf.get_n_splits(X)\n",
    "for train_index, test_index in kf.split(X) :\n",
    "    X_train,X_test = X[train_index],X[test_index]\n",
    "    y_train,y_test = y[train_index],y[test_index]\n",
    "    \n",
    "    dt = DecisionTreeClassifier()\n",
    "    dtModel = dt.fit(X_train,y_train)\n",
    "    \n",
    "    y_pred = dt.predict(X_test)\n",
    "    print(\"confusion matrix :\", confusion_matrix(y_test,y_pred).ravel())\n",
    "    tn,fp,fn,tp = confusion_matrix(y_test,y_pred).ravel()\n",
    "    \n",
    "    accuracy = (tp + tn) / (tp + tn + fp + fn)\n",
    "    recall = tp / (tp + fn)\n",
    "    precision = tp / (tp + fp)\n",
    "    f1_score = 2 * (precision * recall) / (precision + recall)\n",
    "    \n",
    "    accList.append(accuracy)\n",
    "    recList.append(recall)\n",
    "    precList.append(precision)\n",
    "    f1List.append(f1_score)\n",
    "    \n",
    "    print(str('accuracy :  %0.4f' % accuracy) +\"\\n\" + str('recall : %0.4f' % recall) +\n",
    "          \"\\n\" + str('precision :  %0.4f' %precision) + \"\\n\" + str('f1-measure : %0.4f' %f1_score))\n",
    "          "
   ]
  },
  {
   "cell_type": "code",
   "execution_count": 32,
   "id": "88e13f7f-c8f1-484c-a9c9-50b862dd9101",
   "metadata": {},
   "outputs": [
    {
     "name": "stdout",
     "output_type": "stream",
     "text": [
      "accuracy :  0.9751666344134685\n",
      "recall :  0.9752657959078841\n",
      "precision :  0.975075692043675\n",
      "f1_score :  0.9751692882384699\n"
     ]
    },
    {
     "data": {
      "text/plain": [
       "<pymongo.results.InsertOneResult at 0x7f84457c45e0>"
      ]
     },
     "execution_count": 32,
     "metadata": {},
     "output_type": "execute_result"
    }
   ],
   "source": [
    "print('accuracy : ',(mean(accList)))\n",
    "print('recall : ',(mean(recList)))\n",
    "print('precision : ',(mean(precList)))\n",
    "print('f1_score : ',(mean(f1List)))\n",
    "\n",
    "cv_col.insert_one({\n",
    "    'machine_learning': \"Decission Tree\",\n",
    "    'feature': \"PCA\",\n",
    "    'label': \"Binary-Label\",\n",
    "    'accuracy': (mean(accList)),\n",
    "    'recall': (mean(recList)),\n",
    "    'precision': (mean(precList)),\n",
    "    'f1_score': (mean(f1List)),\n",
    "    'created_at': datetime.fromtimestamp(time.time())\n",
    "})"
   ]
  },
  {
   "cell_type": "code",
   "execution_count": null,
   "id": "3561fcdc-865a-46d8-b1e3-2493b4b76a76",
   "metadata": {},
   "outputs": [],
   "source": []
  }
 ],
 "metadata": {
  "kernelspec": {
   "display_name": "Python 3 (ipykernel)",
   "language": "python",
   "name": "python3"
  },
  "language_info": {
   "codemirror_mode": {
    "name": "ipython",
    "version": 3
   },
   "file_extension": ".py",
   "mimetype": "text/x-python",
   "name": "python",
   "nbconvert_exporter": "python",
   "pygments_lexer": "ipython3",
   "version": "3.9.12"
  }
 },
 "nbformat": 4,
 "nbformat_minor": 5
}
