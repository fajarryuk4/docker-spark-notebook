{
 "cells": [
  {
   "cell_type": "code",
   "execution_count": 1,
   "id": "f12a3e66-2d66-4a8f-9209-fc4f66af6ef0",
   "metadata": {},
   "outputs": [
    {
     "name": "stdout",
     "output_type": "stream",
     "text": [
      "Requirement already satisfied: findspark in /opt/conda/lib/python3.9/site-packages (2.0.1)\n",
      "Requirement already satisfied: pymongo in /opt/conda/lib/python3.9/site-packages (4.1.1)\n",
      "Note: you may need to restart the kernel to use updated packages.\n"
     ]
    }
   ],
   "source": [
    "%pip install findspark pymongo"
   ]
  },
  {
   "cell_type": "markdown",
   "id": "f5b7bd0a-097f-4158-8f91-3c093056e780",
   "metadata": {
    "tags": []
   },
   "source": [
    "# Crate Directory and Output File"
   ]
  },
  {
   "cell_type": "code",
   "execution_count": 2,
   "id": "6ff724c2-937c-4550-84dc-118750d3f1ef",
   "metadata": {},
   "outputs": [],
   "source": [
    "#Use '/resource' to syncronize folder with host\n",
    "\n",
    "!mkdir -p ~/output/spark-model/naive-bayes/all-feature"
   ]
  },
  {
   "cell_type": "code",
   "execution_count": 3,
   "id": "2b08d456",
   "metadata": {},
   "outputs": [],
   "source": [
    "input_path  = '/home/jovyan/output/renamed-data/multi/TrainDataUnderSampling.csv'\n",
    "output_path = '/home/jovyan/output/spark-model/random-forest/all-feature'"
   ]
  },
  {
   "cell_type": "markdown",
   "id": "2bafb409-6172-4d0e-9e54-38c5bd03de20",
   "metadata": {},
   "source": [
    "# Import Package"
   ]
  },
  {
   "cell_type": "code",
   "execution_count": 4,
   "id": "d29106af-d5f6-4ed1-9a49-a082dd6c17ed",
   "metadata": {},
   "outputs": [],
   "source": [
    "import os\n",
    "import time\n",
    "import json\n",
    "import pyspark\n",
    "import findspark\n",
    "from gridfs import GridFS\n",
    "from datetime import datetime\n",
    "from pymongo import MongoClient\n",
    "\n",
    "from pyspark.ml.classification import RandomForestClassifier\n",
    "\n",
    "from pyspark.sql.types import *\n",
    "import pyspark.sql.functions as F\n",
    "from pyspark.sql import SparkSession\n",
    "from sklearn.metrics import confusion_matrix\n",
    "from pyspark.ml.feature import VectorAssembler, StandardScaler\n",
    "from pyspark.ml.evaluation import MulticlassClassificationEvaluator\n",
    "\n",
    "findspark.init()"
   ]
  },
  {
   "cell_type": "markdown",
   "id": "518b91b4-2419-41d4-a5d4-2d7f04f6637e",
   "metadata": {},
   "source": [
    "# DB Connections"
   ]
  },
  {
   "cell_type": "code",
   "execution_count": 5,
   "id": "3669d037-59c3-4567-a784-ed786aadfbc2",
   "metadata": {},
   "outputs": [],
   "source": [
    "client = MongoClient(\"mongodb://mongodb:27017\")\n",
    "db = client['mataelanglab']\n",
    "\n",
    "result_col = db['spark_result']\n",
    "cv_col = db['spark_cv']\n",
    "model_col = GridFS(db, 'spark_model')"
   ]
  },
  {
   "cell_type": "markdown",
   "id": "6d203af4-47e9-4977-afa7-89fea7ff58df",
   "metadata": {},
   "source": [
    "# Spark session & context"
   ]
  },
  {
   "cell_type": "markdown",
   "id": "4338bf09-2642-48b4-804b-6729f57a6940",
   "metadata": {},
   "source": [
    "## Local Version"
   ]
  },
  {
   "cell_type": "code",
   "execution_count": 6,
   "id": "9ee03da1-93e8-4b2e-bfac-5d83cf5cac7b",
   "metadata": {},
   "outputs": [],
   "source": [
    "spark = (SparkSession\n",
    "         .builder\n",
    "         .master('local[2]')\n",
    "         .appName('RandomForest-AllFeature')\n",
    "         .config(\"spark.executor.memory\", \"4g\") #optional\n",
    "         .config(\"spark.executor.cores\",\"1\") #optional\n",
    "         .getOrCreate())\n",
    "sc = spark.sparkContext"
   ]
  },
  {
   "cell_type": "markdown",
   "id": "9a537ba3-c684-46de-b3c1-47e2b8113c28",
   "metadata": {
    "jp-MarkdownHeadingCollapsed": true,
    "tags": []
   },
   "source": [
    "## Cluster Version\n",
    "\n",
    "<b>Note : </b> \\\n",
    "Jika menggunakan mode ini pastikan data dapat diakses oleh masing worker yang ada. \\\n",
    "Apabila menggunakan cluster pada MataElangLab (1 master dan 1 worker), taruh data pada '/resource'"
   ]
  },
  {
   "cell_type": "code",
   "execution_count": null,
   "id": "d02949a5-cf8b-42cd-9aed-0c675fca8f89",
   "metadata": {},
   "outputs": [],
   "source": [
    "spark_uri = os.environ['SPARK_MASTER']\n",
    "print(spark_uri) #MataElangLab Spark Cluster URL"
   ]
  },
  {
   "cell_type": "code",
   "execution_count": null,
   "id": "59b6168f-5866-443b-acfc-330f9d8e3508",
   "metadata": {},
   "outputs": [],
   "source": [
    "spark = (SparkSession\n",
    "         .builder\n",
    "         .master(spark_uri)\n",
    "         .appName('RandomForest-AllFeature')\n",
    "         .config(\"spark.executor.memory\", \"2g\") #optional\n",
    "         .config(\"spark.executor.cores\",\"1\") #optional\n",
    "         .getOrCreate())\n",
    "sc = spark.sparkContext"
   ]
  },
  {
   "cell_type": "markdown",
   "id": "0ffe1572-f788-4293-85cb-fcff378607c2",
   "metadata": {
    "tags": []
   },
   "source": [
    "# Read Data"
   ]
  },
  {
   "cell_type": "code",
   "execution_count": 7,
   "id": "343750b8-f434-43f5-8c0c-ee70a59a1d53",
   "metadata": {},
   "outputs": [],
   "source": [
    "df = spark.read.csv(input_path, header=\"true\", inferSchema =True)"
   ]
  },
  {
   "cell_type": "markdown",
   "id": "f59ad4a6-03a2-463f-b0b8-863774d0c61b",
   "metadata": {},
   "source": [
    "# Normalize"
   ]
  },
  {
   "cell_type": "code",
   "execution_count": 8,
   "id": "da0a62fd-f3d4-4084-a957-bf453e50418a",
   "metadata": {
    "tags": []
   },
   "outputs": [],
   "source": [
    "df = df.select([F.col(column).cast('double') for column in df.columns])"
   ]
  },
  {
   "cell_type": "markdown",
   "id": "a6c1c40a-fd1a-4740-afb8-ea64acaa18d4",
   "metadata": {},
   "source": [
    "# Classification Using All Feature"
   ]
  },
  {
   "cell_type": "code",
   "execution_count": 9,
   "id": "c1b4ea80-c961-4b4e-ad26-aef86dbb494f",
   "metadata": {},
   "outputs": [],
   "source": [
    "feature = [\n",
    "    'flow_duration',\n",
    "\t'total_fwd_packet',\n",
    "\t'total_bwd_packets',\n",
    "\t'total_length_of_fwd_packet',\n",
    "\t'total_length_of_bwd_packet',\n",
    "\t'fwd_packet_length_max',\n",
    "\t'fwd_packet_length_min',\n",
    "\t'fwd_packet_length_mean',\n",
    "\t'fwd_packet_length_std',\n",
    "\t'bwd_packet_length_max',\n",
    "\t'bwd_packet_length_min',\n",
    "\t'bwd_packet_length_mean',\n",
    "\t'bwd_packet_length_std',\n",
    "\t'flow_bytes_per_s',\n",
    "\t'flow_packets_per_s',\n",
    "\t'flow_iat_mean',\n",
    "\t'flow_iat_std',\n",
    "\t'flow_iat_max',\n",
    "\t'flow_iat_min',\n",
    "\t'fwd_iat_total',\n",
    "\t'fwd_iat_mean',\n",
    "\t'fwd_iat_std',\n",
    "\t'fwd_iat_max',\n",
    "\t'fwd_iat_min',\n",
    "\t'bwd_iat_total',\n",
    "\t'bwd_iat_mean',\n",
    "\t'bwd_iat_std',\n",
    "\t'bwd_iat_max',\n",
    "\t'bwd_iat_min',\n",
    "\t'fwd_psh_flags',\n",
    "\t'bwd_psh_flags',\n",
    "\t'fwd_urg_flags',\n",
    "\t'bwd_urg_flags',\n",
    "\t'fwd_header_length',\n",
    "\t'bwd_header_length',\n",
    "\t'fwd_packets_per_s',\n",
    "\t'bwd_packets_per_s',\n",
    "\t'packet_length_min',\n",
    "\t'packet_length_max',\n",
    "\t'packet_length_mean',\n",
    "\t'packet_length_std',\n",
    "\t'packet_length_variance',\n",
    "\t'fin_flag_count',\n",
    "\t'syn_flag_count',\n",
    "\t'rst_flag_count',\n",
    "\t'psh_flag_count',\n",
    "\t'ack_flag_count',\n",
    "\t'urg_flag_count',\n",
    "\t'cwr_flag_count',\n",
    "\t'ece_flag_count',\n",
    "\t'down_per_up_ratio',\n",
    "\t'average_packet_size',\n",
    "\t'fwd_segment_size_avg',\n",
    "\t'bwd_segment_size_avg',\n",
    "\t'fwd_bytes_per_bulk_avg',\n",
    "\t'fwd_packet_per_bulk_avg',\n",
    "\t'fwd_bulk_rate_avg',\n",
    "\t'bwd_bytes_per_bulk_avg',\n",
    "\t'bwd_packet_per_bulk_avg',\n",
    "\t'bwd_bulk_rate_avg',\n",
    "\t'subflow_fwd_packets',\n",
    "\t'subflow_fwd_bytes',\n",
    "\t'subflow_bwd_packets',\n",
    "\t'subflow_bwd_bytes',\n",
    "\t'fwd_init_win_bytes',\n",
    "\t'bwd_init_win_bytes',\n",
    "\t'fwd_act_data_pkts',\n",
    "\t'fwd_seg_size_min',\n",
    "\t'active_mean',\n",
    "\t'active_std',\n",
    "\t'active_max',\n",
    "\t'active_min',\n",
    "\t'idle_mean',\n",
    "\t'idle_std',\n",
    "\t'idle_max',\n",
    "\t'idle_min',\n",
    "]"
   ]
  },
  {
   "cell_type": "markdown",
   "id": "470ef975-7e58-432e-ba45-4b80b2fc8927",
   "metadata": {},
   "source": [
    "# Pre-Processing"
   ]
  },
  {
   "cell_type": "code",
   "execution_count": 10,
   "id": "04f6e140-12b4-4ea5-bd2d-3ff3f6cf4609",
   "metadata": {},
   "outputs": [],
   "source": [
    "#Vector Assembler\n",
    "vector_assembler = VectorAssembler(inputCols=feature, outputCol=\"SS_features\")\n",
    "df = vector_assembler.transform(df)\n",
    "\n",
    "#Standard Scaler\n",
    "scaler = StandardScaler(inputCol=\"SS_features\", outputCol=\"scaledFeatures\", withStd=True, withMean=False)\n",
    "df = scaler.fit(df).transform(df)"
   ]
  },
  {
   "cell_type": "markdown",
   "id": "dd6d92d3-bc33-4298-aae2-5c381fed7d47",
   "metadata": {},
   "source": [
    "# Processing"
   ]
  },
  {
   "cell_type": "code",
   "execution_count": 11,
   "id": "fed5043b-f513-473d-89f5-05c4310bb992",
   "metadata": {},
   "outputs": [
    {
     "name": "stdout",
     "output_type": "stream",
     "text": [
      "Training Dataset Count: 6208\n",
      "Test Dataset Count: 2532\n"
     ]
    }
   ],
   "source": [
    "# Split the data\n",
    "(training_data, test_data) = df.randomSplit([0.7,0.3], 42)\n",
    "print(\"Training Dataset Count: \" + str(training_data.count()))\n",
    "print(\"Test Dataset Count: \" + str(test_data.count()))"
   ]
  },
  {
   "cell_type": "code",
   "execution_count": 12,
   "id": "21a44c05-a41d-4659-9d06-0e5263f6694d",
   "metadata": {},
   "outputs": [
    {
     "name": "stdout",
     "output_type": "stream",
     "text": [
      "--- 10.764751195907593 seconds ---\n"
     ]
    }
   ],
   "source": [
    "start_time = time.time()\n",
    "\n",
    "# Create Random Forest Classifier object\n",
    "rf = RandomForestClassifier(labelCol=\"label\", featuresCol=\"scaledFeatures\")\n",
    "\n",
    "# Train Random Forest Classifier\n",
    "rfModel = rf.fit(training_data)\n",
    "\n",
    "fit_duration = (time.time() - start_time)\n",
    "print(\"--- %s seconds ---\" % fit_duration)"
   ]
  },
  {
   "cell_type": "code",
   "execution_count": 13,
   "id": "9bf12e32-b49d-4be7-886a-30f6fe40457a",
   "metadata": {},
   "outputs": [
    {
     "name": "stdout",
     "output_type": "stream",
     "text": [
      "--- 0.182114839553833 seconds ---\n"
     ]
    }
   ],
   "source": [
    "start_time = time.time()\n",
    "\n",
    "#Predict the response for test dataset\n",
    "rf_predictions = rfModel.transform(test_data)\n",
    "\n",
    "pred_duration = (time.time() - start_time)\n",
    "print(\"--- %s seconds ---\" % pred_duration)"
   ]
  },
  {
   "cell_type": "code",
   "execution_count": 14,
   "id": "a7d47f91-9721-4b6d-9e70-c9769f4a3897",
   "metadata": {},
   "outputs": [
    {
     "name": "stdout",
     "output_type": "stream",
     "text": [
      "confusion matrix : [453   8   1   5  11  17 497   0   0   0   2   1 512   0   0   1   3  12\n",
      " 469   0  51  11   0   0 478]\n",
      "accuracy :  0.9514\n",
      "recall : 0.9514\n",
      "precision :  0.9536\n",
      "f1-measure : 0.9516\n"
     ]
    }
   ],
   "source": [
    "# Calculate Confusion matrix\n",
    "ypred = rf_predictions.select(\"prediction\").collect()\n",
    "ytest = rf_predictions.select(\"label\").collect()\n",
    "\n",
    "acc_eval    = MulticlassClassificationEvaluator(predictionCol=\"prediction\", metricName=\"accuracy\")\n",
    "recall_eval = MulticlassClassificationEvaluator(predictionCol=\"prediction\", metricName=\"weightedRecall\")\n",
    "prec_eval   = MulticlassClassificationEvaluator(predictionCol=\"prediction\", metricName=\"weightedPrecision\")\n",
    "f1_eval     = MulticlassClassificationEvaluator(predictionCol=\"prediction\", metricName=\"f1\")\n",
    "\n",
    "accuracy    = acc_eval.evaluate(rf_predictions)\n",
    "recall      = recall_eval.evaluate(rf_predictions)\n",
    "precision   = prec_eval.evaluate(rf_predictions)\n",
    "f1_score    = f1_eval.evaluate(rf_predictions)\n",
    "\n",
    "print(\"confusion matrix :\",confusion_matrix(ytest, ypred).ravel())\n",
    "print(str('accuracy :  %0.4f' % accuracy) +\"\\n\" + str('recall : %0.4f' % recall) +\n",
    "      \"\\n\" + str('precision :  %0.4f' %precision) + \"\\n\" + str('f1-measure : %0.4f' %f1_score))"
   ]
  },
  {
   "cell_type": "code",
   "execution_count": 15,
   "id": "f60a0ed5-e369-4edd-a9a7-7c951b083da9",
   "metadata": {},
   "outputs": [],
   "source": [
    "# Save Model\n",
    "ml_path = output_path+\"/model\"\n",
    "ss_path = output_path+\"/standard-scaler\"\n",
    "\n",
    "!rm -rf $ml_path $ss_path"
   ]
  },
  {
   "cell_type": "code",
   "execution_count": 16,
   "id": "7f24987f-219a-48d5-85f4-c938201e13e0",
   "metadata": {
    "tags": []
   },
   "outputs": [],
   "source": [
    "rfModel.save(ml_path)\n",
    "scaler.save(ss_path)"
   ]
  },
  {
   "cell_type": "code",
   "execution_count": 17,
   "id": "22273361-e268-4299-a4d3-1ec541fa3633",
   "metadata": {},
   "outputs": [
    {
     "data": {
      "text/plain": [
       "<pymongo.results.InsertOneResult at 0x7faa64279fa0>"
      ]
     },
     "execution_count": 17,
     "metadata": {},
     "output_type": "execute_result"
    }
   ],
   "source": [
    "# Store to MongoDB\n",
    "\n",
    "# with open(pickle_path, \"rb\") as f:\n",
    "#     model_col.put(f, filename=\"spark-all-feature\")\n",
    "    \n",
    "result_col.insert_one({\n",
    "    'machine_learning': \"Random Forest\",\n",
    "    'feature': \"All Feature\",\n",
    "    'label': \"Multi-Label\",\n",
    "    'fit_duration': fit_duration,\n",
    "    'pred_duration': pred_duration,\n",
    "    'accuracy': accuracy,\n",
    "    'recall': recall,\n",
    "    'precision': precision,\n",
    "    'f1_score': f1_score,\n",
    "    'created_at': datetime.fromtimestamp(time.time())\n",
    "})"
   ]
  },
  {
   "cell_type": "markdown",
   "id": "593614e4-2bea-4555-9276-944ca671a41b",
   "metadata": {},
   "source": [
    "## Calculate Feature Weight to Get Importance Feature"
   ]
  },
  {
   "cell_type": "code",
   "execution_count": 18,
   "id": "a9147929-730c-4f81-8447-83593176e7de",
   "metadata": {},
   "outputs": [
    {
     "data": {
      "image/png": "[encoded data removed]",
      "text/plain": [
       "<Figure size 432x288 with 1 Axes>"
      ]
     },
     "metadata": {
      "needs_background": "light"
     },
     "output_type": "display_data"
    }
   ],
   "source": [
    "import numpy\n",
    "import pandas as pd\n",
    "import numpy as geek\n",
    "from matplotlib import pyplot as plt \n",
    "\n",
    "x = rfModel.featureImportances.toArray()\n",
    "feature_weigth = x[geek.nonzero(x)]\n",
    "feature_index = numpy.where(x != 0)[0]\n",
    "feature_importance = numpy.array(feature)[feature_index]\n",
    "\n",
    "featureImportances = pd.Series(feature_weigth, index= feature_importance)\n",
    "featureImportances.nlargest(10).plot(kind='barh')\n",
    "\n",
    "plt.title('Calculate Feature Weight') \n",
    "plt.xlabel('Weight') \n",
    "plt.ylabel('Feature Name')\n",
    "p = plt.plot(featureImportances.values, featureImportances.index)"
   ]
  },
  {
   "cell_type": "code",
   "execution_count": 19,
   "id": "148698c4",
   "metadata": {},
   "outputs": [
    {
     "data": {
      "text/html": [
       "<div>\n",
       "<style scoped>\n",
       "    .dataframe tbody tr th:only-of-type {\n",
       "        vertical-align: middle;\n",
       "    }\n",
       "\n",
       "    .dataframe tbody tr th {\n",
       "        vertical-align: top;\n",
       "    }\n",
       "\n",
       "    .dataframe thead th {\n",
       "        text-align: right;\n",
       "    }\n",
       "</style>\n",
       "<table border=\"1\" class=\"dataframe\">\n",
       "  <thead>\n",
       "    <tr style=\"text-align: right;\">\n",
       "      <th></th>\n",
       "      <th>Feature_names</th>\n",
       "      <th>Importances</th>\n",
       "    </tr>\n",
       "  </thead>\n",
       "  <tbody>\n",
       "    <tr>\n",
       "      <th>56</th>\n",
       "      <td>idle_max</td>\n",
       "      <td>0.173304</td>\n",
       "    </tr>\n",
       "    <tr>\n",
       "      <th>57</th>\n",
       "      <td>idle_min</td>\n",
       "      <td>0.118680</td>\n",
       "    </tr>\n",
       "    <tr>\n",
       "      <th>54</th>\n",
       "      <td>idle_mean</td>\n",
       "      <td>0.097117</td>\n",
       "    </tr>\n",
       "    <tr>\n",
       "      <th>27</th>\n",
       "      <td>fwd_header_length</td>\n",
       "      <td>0.071808</td>\n",
       "    </tr>\n",
       "    <tr>\n",
       "      <th>50</th>\n",
       "      <td>fwd_seg_size_min</td>\n",
       "      <td>0.040925</td>\n",
       "    </tr>\n",
       "    <tr>\n",
       "      <th>47</th>\n",
       "      <td>fwd_init_win_bytes</td>\n",
       "      <td>0.037470</td>\n",
       "    </tr>\n",
       "    <tr>\n",
       "      <th>36</th>\n",
       "      <td>fin_flag_count</td>\n",
       "      <td>0.029631</td>\n",
       "    </tr>\n",
       "    <tr>\n",
       "      <th>21</th>\n",
       "      <td>fwd_iat_min</td>\n",
       "      <td>0.027190</td>\n",
       "    </tr>\n",
       "    <tr>\n",
       "      <th>31</th>\n",
       "      <td>packet_length_min</td>\n",
       "      <td>0.026701</td>\n",
       "    </tr>\n",
       "    <tr>\n",
       "      <th>6</th>\n",
       "      <td>fwd_packet_length_min</td>\n",
       "      <td>0.026213</td>\n",
       "    </tr>\n",
       "    <tr>\n",
       "      <th>10</th>\n",
       "      <td>bwd_packet_length_min</td>\n",
       "      <td>0.026103</td>\n",
       "    </tr>\n",
       "    <tr>\n",
       "      <th>55</th>\n",
       "      <td>idle_std</td>\n",
       "      <td>0.024681</td>\n",
       "    </tr>\n",
       "    <tr>\n",
       "      <th>18</th>\n",
       "      <td>fwd_iat_mean</td>\n",
       "      <td>0.024473</td>\n",
       "    </tr>\n",
       "    <tr>\n",
       "      <th>40</th>\n",
       "      <td>ack_flag_count</td>\n",
       "      <td>0.022286</td>\n",
       "    </tr>\n",
       "    <tr>\n",
       "      <th>1</th>\n",
       "      <td>total_fwd_packet</td>\n",
       "      <td>0.019741</td>\n",
       "    </tr>\n",
       "    <tr>\n",
       "      <th>49</th>\n",
       "      <td>fwd_act_data_pkts</td>\n",
       "      <td>0.018158</td>\n",
       "    </tr>\n",
       "    <tr>\n",
       "      <th>20</th>\n",
       "      <td>fwd_iat_max</td>\n",
       "      <td>0.015986</td>\n",
       "    </tr>\n",
       "    <tr>\n",
       "      <th>43</th>\n",
       "      <td>fwd_segment_size_avg</td>\n",
       "      <td>0.015875</td>\n",
       "    </tr>\n",
       "    <tr>\n",
       "      <th>41</th>\n",
       "      <td>down_per_up_ratio</td>\n",
       "      <td>0.015046</td>\n",
       "    </tr>\n",
       "    <tr>\n",
       "      <th>37</th>\n",
       "      <td>syn_flag_count</td>\n",
       "      <td>0.015008</td>\n",
       "    </tr>\n",
       "    <tr>\n",
       "      <th>16</th>\n",
       "      <td>flow_iat_min</td>\n",
       "      <td>0.014510</td>\n",
       "    </tr>\n",
       "    <tr>\n",
       "      <th>17</th>\n",
       "      <td>fwd_iat_total</td>\n",
       "      <td>0.014386</td>\n",
       "    </tr>\n",
       "    <tr>\n",
       "      <th>29</th>\n",
       "      <td>fwd_packets_per_s</td>\n",
       "      <td>0.012358</td>\n",
       "    </tr>\n",
       "    <tr>\n",
       "      <th>52</th>\n",
       "      <td>active_max</td>\n",
       "      <td>0.011434</td>\n",
       "    </tr>\n",
       "    <tr>\n",
       "      <th>5</th>\n",
       "      <td>fwd_packet_length_max</td>\n",
       "      <td>0.011265</td>\n",
       "    </tr>\n",
       "    <tr>\n",
       "      <th>14</th>\n",
       "      <td>flow_iat_mean</td>\n",
       "      <td>0.008215</td>\n",
       "    </tr>\n",
       "    <tr>\n",
       "      <th>51</th>\n",
       "      <td>active_mean</td>\n",
       "      <td>0.008138</td>\n",
       "    </tr>\n",
       "    <tr>\n",
       "      <th>15</th>\n",
       "      <td>flow_iat_max</td>\n",
       "      <td>0.007951</td>\n",
       "    </tr>\n",
       "    <tr>\n",
       "      <th>0</th>\n",
       "      <td>flow_duration</td>\n",
       "      <td>0.006734</td>\n",
       "    </tr>\n",
       "    <tr>\n",
       "      <th>30</th>\n",
       "      <td>bwd_packets_per_s</td>\n",
       "      <td>0.004910</td>\n",
       "    </tr>\n",
       "    <tr>\n",
       "      <th>53</th>\n",
       "      <td>active_min</td>\n",
       "      <td>0.004472</td>\n",
       "    </tr>\n",
       "    <tr>\n",
       "      <th>8</th>\n",
       "      <td>fwd_packet_length_std</td>\n",
       "      <td>0.004367</td>\n",
       "    </tr>\n",
       "    <tr>\n",
       "      <th>28</th>\n",
       "      <td>bwd_header_length</td>\n",
       "      <td>0.004175</td>\n",
       "    </tr>\n",
       "    <tr>\n",
       "      <th>33</th>\n",
       "      <td>packet_length_mean</td>\n",
       "      <td>0.003435</td>\n",
       "    </tr>\n",
       "    <tr>\n",
       "      <th>34</th>\n",
       "      <td>packet_length_std</td>\n",
       "      <td>0.003401</td>\n",
       "    </tr>\n",
       "    <tr>\n",
       "      <th>45</th>\n",
       "      <td>subflow_fwd_bytes</td>\n",
       "      <td>0.003301</td>\n",
       "    </tr>\n",
       "    <tr>\n",
       "      <th>13</th>\n",
       "      <td>flow_packets_per_s</td>\n",
       "      <td>0.003187</td>\n",
       "    </tr>\n",
       "    <tr>\n",
       "      <th>32</th>\n",
       "      <td>packet_length_max</td>\n",
       "      <td>0.003108</td>\n",
       "    </tr>\n",
       "    <tr>\n",
       "      <th>19</th>\n",
       "      <td>fwd_iat_std</td>\n",
       "      <td>0.002554</td>\n",
       "    </tr>\n",
       "    <tr>\n",
       "      <th>35</th>\n",
       "      <td>packet_length_variance</td>\n",
       "      <td>0.002486</td>\n",
       "    </tr>\n",
       "    <tr>\n",
       "      <th>12</th>\n",
       "      <td>flow_bytes_per_s</td>\n",
       "      <td>0.002307</td>\n",
       "    </tr>\n",
       "    <tr>\n",
       "      <th>3</th>\n",
       "      <td>total_length_of_fwd_packet</td>\n",
       "      <td>0.002236</td>\n",
       "    </tr>\n",
       "    <tr>\n",
       "      <th>7</th>\n",
       "      <td>fwd_packet_length_mean</td>\n",
       "      <td>0.002161</td>\n",
       "    </tr>\n",
       "    <tr>\n",
       "      <th>48</th>\n",
       "      <td>bwd_init_win_bytes</td>\n",
       "      <td>0.002119</td>\n",
       "    </tr>\n",
       "    <tr>\n",
       "      <th>22</th>\n",
       "      <td>bwd_iat_total</td>\n",
       "      <td>0.001766</td>\n",
       "    </tr>\n",
       "    <tr>\n",
       "      <th>42</th>\n",
       "      <td>average_packet_size</td>\n",
       "      <td>0.001635</td>\n",
       "    </tr>\n",
       "    <tr>\n",
       "      <th>38</th>\n",
       "      <td>rst_flag_count</td>\n",
       "      <td>0.001566</td>\n",
       "    </tr>\n",
       "    <tr>\n",
       "      <th>9</th>\n",
       "      <td>bwd_packet_length_max</td>\n",
       "      <td>0.001120</td>\n",
       "    </tr>\n",
       "    <tr>\n",
       "      <th>46</th>\n",
       "      <td>subflow_bwd_bytes</td>\n",
       "      <td>0.001083</td>\n",
       "    </tr>\n",
       "    <tr>\n",
       "      <th>25</th>\n",
       "      <td>bwd_iat_max</td>\n",
       "      <td>0.000824</td>\n",
       "    </tr>\n",
       "    <tr>\n",
       "      <th>11</th>\n",
       "      <td>bwd_packet_length_mean</td>\n",
       "      <td>0.000817</td>\n",
       "    </tr>\n",
       "    <tr>\n",
       "      <th>24</th>\n",
       "      <td>bwd_iat_std</td>\n",
       "      <td>0.000433</td>\n",
       "    </tr>\n",
       "    <tr>\n",
       "      <th>4</th>\n",
       "      <td>total_length_of_bwd_packet</td>\n",
       "      <td>0.000357</td>\n",
       "    </tr>\n",
       "    <tr>\n",
       "      <th>26</th>\n",
       "      <td>bwd_iat_min</td>\n",
       "      <td>0.000337</td>\n",
       "    </tr>\n",
       "    <tr>\n",
       "      <th>2</th>\n",
       "      <td>total_bwd_packets</td>\n",
       "      <td>0.000307</td>\n",
       "    </tr>\n",
       "    <tr>\n",
       "      <th>23</th>\n",
       "      <td>bwd_iat_mean</td>\n",
       "      <td>0.000069</td>\n",
       "    </tr>\n",
       "    <tr>\n",
       "      <th>39</th>\n",
       "      <td>psh_flag_count</td>\n",
       "      <td>0.000055</td>\n",
       "    </tr>\n",
       "    <tr>\n",
       "      <th>44</th>\n",
       "      <td>bwd_segment_size_avg</td>\n",
       "      <td>0.000025</td>\n",
       "    </tr>\n",
       "  </tbody>\n",
       "</table>\n",
       "</div>"
      ],
      "text/plain": [
       "                 Feature_names  Importances\n",
       "56                    idle_max     0.173304\n",
       "57                    idle_min     0.118680\n",
       "54                   idle_mean     0.097117\n",
       "27           fwd_header_length     0.071808\n",
       "50            fwd_seg_size_min     0.040925\n",
       "47          fwd_init_win_bytes     0.037470\n",
       "36              fin_flag_count     0.029631\n",
       "21                 fwd_iat_min     0.027190\n",
       "31           packet_length_min     0.026701\n",
       "6        fwd_packet_length_min     0.026213\n",
       "10       bwd_packet_length_min     0.026103\n",
       "55                    idle_std     0.024681\n",
       "18                fwd_iat_mean     0.024473\n",
       "40              ack_flag_count     0.022286\n",
       "1             total_fwd_packet     0.019741\n",
       "49           fwd_act_data_pkts     0.018158\n",
       "20                 fwd_iat_max     0.015986\n",
       "43        fwd_segment_size_avg     0.015875\n",
       "41           down_per_up_ratio     0.015046\n",
       "37              syn_flag_count     0.015008\n",
       "16                flow_iat_min     0.014510\n",
       "17               fwd_iat_total     0.014386\n",
       "29           fwd_packets_per_s     0.012358\n",
       "52                  active_max     0.011434\n",
       "5        fwd_packet_length_max     0.011265\n",
       "14               flow_iat_mean     0.008215\n",
       "51                 active_mean     0.008138\n",
       "15                flow_iat_max     0.007951\n",
       "0                flow_duration     0.006734\n",
       "30           bwd_packets_per_s     0.004910\n",
       "53                  active_min     0.004472\n",
       "8        fwd_packet_length_std     0.004367\n",
       "28           bwd_header_length     0.004175\n",
       "33          packet_length_mean     0.003435\n",
       "34           packet_length_std     0.003401\n",
       "45           subflow_fwd_bytes     0.003301\n",
       "13          flow_packets_per_s     0.003187\n",
       "32           packet_length_max     0.003108\n",
       "19                 fwd_iat_std     0.002554\n",
       "35      packet_length_variance     0.002486\n",
       "12            flow_bytes_per_s     0.002307\n",
       "3   total_length_of_fwd_packet     0.002236\n",
       "7       fwd_packet_length_mean     0.002161\n",
       "48          bwd_init_win_bytes     0.002119\n",
       "22               bwd_iat_total     0.001766\n",
       "42         average_packet_size     0.001635\n",
       "38              rst_flag_count     0.001566\n",
       "9        bwd_packet_length_max     0.001120\n",
       "46           subflow_bwd_bytes     0.001083\n",
       "25                 bwd_iat_max     0.000824\n",
       "11      bwd_packet_length_mean     0.000817\n",
       "24                 bwd_iat_std     0.000433\n",
       "4   total_length_of_bwd_packet     0.000357\n",
       "26                 bwd_iat_min     0.000337\n",
       "2            total_bwd_packets     0.000307\n",
       "23                bwd_iat_mean     0.000069\n",
       "39              psh_flag_count     0.000055\n",
       "44        bwd_segment_size_avg     0.000025"
      ]
     },
     "execution_count": 19,
     "metadata": {},
     "output_type": "execute_result"
    }
   ],
   "source": [
    "pd.set_option('display.max_columns',None)\n",
    "pd.set_option('display.max_rows',None)\n",
    "\n",
    "featureImp = pd.DataFrame({'Feature_names':feature_importance,'Importances':feature_weigth})\n",
    "featureImp.sort_values(by='Importances',ascending=False)"
   ]
  },
  {
   "cell_type": "code",
   "execution_count": 20,
   "id": "44b9ee1c-2733-41a4-b462-01002324feaf",
   "metadata": {},
   "outputs": [],
   "source": [
    "sc.stop()"
   ]
  }
 ],
 "metadata": {
  "kernelspec": {
   "display_name": "Python 3 (ipykernel)",
   "language": "python",
   "name": "python3"
  },
  "language_info": {
   "codemirror_mode": {
    "name": "ipython",
    "version": 3
   },
   "file_extension": ".py",
   "mimetype": "text/x-python",
   "name": "python",
   "nbconvert_exporter": "python",
   "pygments_lexer": "ipython3",
   "version": "3.9.12"
  }
 },
 "nbformat": 4,
 "nbformat_minor": 5
}
