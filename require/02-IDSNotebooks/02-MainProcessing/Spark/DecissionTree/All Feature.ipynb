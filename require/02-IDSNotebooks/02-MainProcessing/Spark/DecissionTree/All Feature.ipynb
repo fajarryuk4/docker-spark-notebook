{
 "cells": [
  {
   "cell_type": "code",
   "execution_count": 1,
   "id": "f12a3e66-2d66-4a8f-9209-fc4f66af6ef0",
   "metadata": {},
   "outputs": [
    {
     "name": "stdout",
     "output_type": "stream",
     "text": [
      "Requirement already satisfied: findspark in /opt/conda/lib/python3.9/site-packages (2.0.1)\n",
      "Requirement already satisfied: pymongo in /opt/conda/lib/python3.9/site-packages (4.1.1)\n",
      "Note: you may need to restart the kernel to use updated packages.\n"
     ]
    }
   ],
   "source": [
    "%pip install findspark pymongo"
   ]
  },
  {
   "cell_type": "markdown",
   "id": "f5b7bd0a-097f-4158-8f91-3c093056e780",
   "metadata": {
    "tags": []
   },
   "source": [
    "# Crate Directory and Output File"
   ]
  },
  {
   "cell_type": "code",
   "execution_count": 2,
   "id": "6ff724c2-937c-4550-84dc-118750d3f1ef",
   "metadata": {},
   "outputs": [],
   "source": [
    "#Use '/resource' to syncronize folder with host\n",
    "\n",
    "!mkdir -p ~/output/spark-model/decission-tree/all-feature"
   ]
  },
  {
   "cell_type": "code",
   "execution_count": 3,
   "id": "2b08d456",
   "metadata": {},
   "outputs": [],
   "source": [
    "input_path  = '/home/jovyan/output/renamed-data/multi/TrainDataUnderSampling.csv'\n",
    "output_path = '/home/jovyan/output/spark-model/decission-tree/all-feature'"
   ]
  },
  {
   "cell_type": "markdown",
   "id": "2bafb409-6172-4d0e-9e54-38c5bd03de20",
   "metadata": {},
   "source": [
    "# Import Package"
   ]
  },
  {
   "cell_type": "code",
   "execution_count": 4,
   "id": "d29106af-d5f6-4ed1-9a49-a082dd6c17ed",
   "metadata": {},
   "outputs": [],
   "source": [
    "import os\n",
    "import time\n",
    "import json\n",
    "import pyspark\n",
    "import findspark\n",
    "from gridfs import GridFS\n",
    "from datetime import datetime\n",
    "from pymongo import MongoClient\n",
    "\n",
    "from pyspark.ml.classification import DecisionTreeClassifier\n",
    "\n",
    "from pyspark.sql.types import *\n",
    "import pyspark.sql.functions as F\n",
    "from pyspark.sql import SparkSession\n",
    "from sklearn.metrics import confusion_matrix\n",
    "from pyspark.ml.feature import VectorAssembler, StandardScaler\n",
    "from pyspark.ml.evaluation import MulticlassClassificationEvaluator\n",
    "\n",
    "findspark.init()"
   ]
  },
  {
   "cell_type": "markdown",
   "id": "518b91b4-2419-41d4-a5d4-2d7f04f6637e",
   "metadata": {},
   "source": [
    "# DB Connections"
   ]
  },
  {
   "cell_type": "code",
   "execution_count": 5,
   "id": "3669d037-59c3-4567-a784-ed786aadfbc2",
   "metadata": {},
   "outputs": [],
   "source": [
    "client = MongoClient(\"mongodb://mongodb:27017\")\n",
    "db = client['mataelanglab']\n",
    "\n",
    "result_col = db['spark_result']\n",
    "cv_col = db['spark_cv']\n",
    "model_col = GridFS(db, 'spark_model')"
   ]
  },
  {
   "cell_type": "markdown",
   "id": "6d203af4-47e9-4977-afa7-89fea7ff58df",
   "metadata": {},
   "source": [
    "# Spark session & context (Local / Cluster)"
   ]
  },
  {
   "cell_type": "markdown",
   "id": "6d84c330-77b7-4f39-b19a-967c9881074d",
   "metadata": {},
   "source": [
    "## Local Version"
   ]
  },
  {
   "cell_type": "code",
   "execution_count": 6,
   "id": "9ee03da1-93e8-4b2e-bfac-5d83cf5cac7b",
   "metadata": {},
   "outputs": [],
   "source": [
    "spark = (SparkSession\n",
    "         .builder\n",
    "         .master('local[2]')\n",
    "         .appName('DecissionTree-AllFeature')\n",
    "         .config(\"spark.executor.memory\", \"4g\") #optional\n",
    "         .config(\"spark.executor.cores\",\"1\") #optional\n",
    "         .getOrCreate())\n",
    "sc = spark.sparkContext"
   ]
  },
  {
   "cell_type": "markdown",
   "id": "1f5f7da3-c956-49dc-bf5a-e2dcb162d5af",
   "metadata": {
    "jp-MarkdownHeadingCollapsed": true,
    "tags": []
   },
   "source": [
    "## Cluster Version\n",
    "\n",
    "<b>Note : </b> \\\n",
    "Jika menggunakan mode ini pastikan data dapat diakses oleh masing worker yang ada. \\\n",
    "Apabila menggunakan cluster pada MataElangLab (1 master dan 1 worker), taruh data pada '/resource'"
   ]
  },
  {
   "cell_type": "code",
   "execution_count": null,
   "id": "ad6ae2a2-3a99-478e-8b34-be8aae3964b6",
   "metadata": {},
   "outputs": [],
   "source": [
    "spark_uri = os.environ['SPARK_MASTER']\n",
    "print(spark_uri)"
   ]
  },
  {
   "cell_type": "code",
   "execution_count": null,
   "id": "4f640904-5807-472b-b8f3-f0133d44c948",
   "metadata": {},
   "outputs": [],
   "source": [
    "spark = (SparkSession\n",
    "         .builder\n",
    "         .master(spark_uri)\n",
    "         .appName('DecissionTree-AllFeature')\n",
    "         .config(\"spark.executor.memory\", \"2g\") #optional\n",
    "         .config(\"spark.executor.cores\",\"1\") #optional\n",
    "         .getOrCreate())\n",
    "sc = spark.sparkContext"
   ]
  },
  {
   "cell_type": "markdown",
   "id": "0ffe1572-f788-4293-85cb-fcff378607c2",
   "metadata": {
    "tags": []
   },
   "source": [
    "# Read Data"
   ]
  },
  {
   "cell_type": "code",
   "execution_count": 7,
   "id": "343750b8-f434-43f5-8c0c-ee70a59a1d53",
   "metadata": {},
   "outputs": [],
   "source": [
    "df = spark.read.csv(input_path, header=\"true\", inferSchema =True)"
   ]
  },
  {
   "cell_type": "markdown",
   "id": "f59ad4a6-03a2-463f-b0b8-863774d0c61b",
   "metadata": {},
   "source": [
    "# Normalize"
   ]
  },
  {
   "cell_type": "code",
   "execution_count": 8,
   "id": "da0a62fd-f3d4-4084-a957-bf453e50418a",
   "metadata": {
    "tags": []
   },
   "outputs": [],
   "source": [
    "df = df.select([F.col(column).cast('double') for column in df.columns])"
   ]
  },
  {
   "cell_type": "markdown",
   "id": "a6c1c40a-fd1a-4740-afb8-ea64acaa18d4",
   "metadata": {
    "tags": []
   },
   "source": [
    "# Classification Using All Feature"
   ]
  },
  {
   "cell_type": "code",
   "execution_count": 9,
   "id": "c1b4ea80-c961-4b4e-ad26-aef86dbb494f",
   "metadata": {},
   "outputs": [],
   "source": [
    "feature = [\n",
    "    'flow_duration',\n",
    "    'total_fwd_packet',\n",
    "    'total_bwd_packets',\n",
    "    'total_length_of_fwd_packet',\n",
    "    'total_length_of_bwd_packet',\n",
    "    'fwd_packet_length_max',\n",
    "    'fwd_packet_length_min',\n",
    "    'fwd_packet_length_mean',\n",
    "    'fwd_packet_length_std',\n",
    "    'bwd_packet_length_max',\n",
    "    'bwd_packet_length_min',\n",
    "    'bwd_packet_length_mean',\n",
    "    'bwd_packet_length_std',\n",
    "    'flow_bytes_per_s',\n",
    "    'flow_packets_per_s',\n",
    "    'flow_iat_mean',\n",
    "    'flow_iat_std',\n",
    "    'flow_iat_max',\n",
    "    'flow_iat_min',\n",
    "    'fwd_iat_total',\n",
    "    'fwd_iat_mean',\n",
    "    'fwd_iat_std',\n",
    "    'fwd_iat_max',\n",
    "    'fwd_iat_min',\n",
    "    'bwd_iat_total',\n",
    "    'bwd_iat_mean',\n",
    "    'bwd_iat_std',\n",
    "    'bwd_iat_max',\n",
    "    'bwd_iat_min',\n",
    "    'fwd_psh_flags',\n",
    "    'bwd_psh_flags',\n",
    "    'fwd_urg_flags',\n",
    "    'bwd_urg_flags',\n",
    "    'fwd_header_length',\n",
    "    'bwd_header_length',\n",
    "    'fwd_packets_per_s',\n",
    "    'bwd_packets_per_s',\n",
    "    'packet_length_min',\n",
    "    'packet_length_max',\n",
    "    'packet_length_mean',\n",
    "    'packet_length_std',\n",
    "    'packet_length_variance',\n",
    "    'fin_flag_count',\n",
    "    'syn_flag_count',\n",
    "    'rst_flag_count',\n",
    "    'psh_flag_count',\n",
    "    'ack_flag_count',\n",
    "    'urg_flag_count',\n",
    "    'cwr_flag_count',\n",
    "    'ece_flag_count',\n",
    "    'down_per_up_ratio',\n",
    "    'average_packet_size',\n",
    "    'fwd_segment_size_avg',\n",
    "    'bwd_segment_size_avg',\n",
    "    'fwd_bytes_per_bulk_avg',\n",
    "    'fwd_packet_per_bulk_avg',\n",
    "    'fwd_bulk_rate_avg',\n",
    "    'bwd_bytes_per_bulk_avg',\n",
    "    'bwd_packet_per_bulk_avg',\n",
    "    'bwd_bulk_rate_avg',\n",
    "    'subflow_fwd_packets',\n",
    "    'subflow_fwd_bytes',\n",
    "    'subflow_bwd_packets',\n",
    "    'subflow_bwd_bytes',\n",
    "    'fwd_init_win_bytes',\n",
    "    'bwd_init_win_bytes',\n",
    "    'fwd_act_data_pkts',\n",
    "    'fwd_seg_size_min',\n",
    "    'active_mean',\n",
    "    'active_std',\n",
    "    'active_max',\n",
    "    'active_min',\n",
    "    'idle_mean',\n",
    "    'idle_std',\n",
    "    'idle_max',\n",
    "    'idle_min',\n",
    "]"
   ]
  },
  {
   "cell_type": "markdown",
   "id": "470ef975-7e58-432e-ba45-4b80b2fc8927",
   "metadata": {},
   "source": [
    "# Pre-Processing"
   ]
  },
  {
   "cell_type": "code",
   "execution_count": 10,
   "id": "04f6e140-12b4-4ea5-bd2d-3ff3f6cf4609",
   "metadata": {},
   "outputs": [],
   "source": [
    "#Vector Assembler\n",
    "vector_assembler = VectorAssembler(inputCols=feature, outputCol=\"SS_features\")\n",
    "df = vector_assembler.transform(df)\n",
    "\n",
    "#Standard Scaler\n",
    "scaler = StandardScaler(inputCol=\"SS_features\", outputCol=\"scaledFeatures\", withStd=True, withMean=False).fit(df)\n",
    "df = scaler.transform(df)"
   ]
  },
  {
   "cell_type": "markdown",
   "id": "dd6d92d3-bc33-4298-aae2-5c381fed7d47",
   "metadata": {},
   "source": [
    "# Processing"
   ]
  },
  {
   "cell_type": "code",
   "execution_count": 11,
   "id": "fed5043b-f513-473d-89f5-05c4310bb992",
   "metadata": {},
   "outputs": [
    {
     "name": "stdout",
     "output_type": "stream",
     "text": [
      "Training Dataset Count: 6208\n",
      "Test Dataset Count: 2532\n"
     ]
    }
   ],
   "source": [
    "# Split the data\n",
    "(training_data, test_data) = df.randomSplit([0.7,0.3], 42)\n",
    "print(\"Training Dataset Count: \" + str(training_data.count()))\n",
    "print(\"Test Dataset Count: \" + str(test_data.count()))"
   ]
  },
  {
   "cell_type": "code",
   "execution_count": 12,
   "id": "482c5910-087e-4fb9-a951-d7ebd5f70a17",
   "metadata": {},
   "outputs": [
    {
     "name": "stdout",
     "output_type": "stream",
     "text": [
      "--- 10.098899602890015 seconds ---\n"
     ]
    }
   ],
   "source": [
    "start_time = time.time()\n",
    "\n",
    "# Create Decision Tree classifer object\n",
    "dt = DecisionTreeClassifier(featuresCol = 'scaledFeatures', labelCol = 'label')\n",
    "\n",
    "# Train Decision Tree Classifer\n",
    "dtModel = dt.fit(training_data)\n",
    "\n",
    "fit_duration = (time.time() - start_time)\n",
    "print(\"--- %s seconds ---\" % fit_duration)"
   ]
  },
  {
   "cell_type": "code",
   "execution_count": 13,
   "id": "0ae21161-0df8-4881-85a9-b3a31fdf3467",
   "metadata": {},
   "outputs": [
    {
     "name": "stdout",
     "output_type": "stream",
     "text": [
      "--- 0.27111363410949707 seconds ---\n"
     ]
    }
   ],
   "source": [
    "start_time = time.time()\n",
    "\n",
    "#Predict the response for test dataset\n",
    "dt_predictions = dtModel.transform(test_data)\n",
    "\n",
    "pred_duration = (time.time() - start_time)\n",
    "print(\"--- %s seconds ---\" % pred_duration)"
   ]
  },
  {
   "cell_type": "code",
   "execution_count": 14,
   "id": "a7d47f91-9721-4b6d-9e70-c9769f4a3897",
   "metadata": {},
   "outputs": [
    {
     "name": "stdout",
     "output_type": "stream",
     "text": [
      "confusion matrix : [431   0   0   2  45  12 501   1   0   0   2   0 509   4   0   0   0   0\n",
      " 485   0  12   0   0   0 528]\n",
      "accuracy :  0.9692\n",
      "recall : 0.9692\n",
      "precision :  0.9698\n",
      "f1-measure : 0.9692\n"
     ]
    }
   ],
   "source": [
    "# Calculate Confusion matrix\n",
    "ypred = dt_predictions.select(\"prediction\").collect()\n",
    "ytest = dt_predictions.select(\"label\").collect()\n",
    "\n",
    "acc_eval    = MulticlassClassificationEvaluator(predictionCol=\"prediction\", metricName=\"accuracy\")\n",
    "recall_eval = MulticlassClassificationEvaluator(predictionCol=\"prediction\", metricName=\"weightedRecall\")\n",
    "prec_eval   = MulticlassClassificationEvaluator(predictionCol=\"prediction\", metricName=\"weightedPrecision\")\n",
    "f1_eval     = MulticlassClassificationEvaluator(predictionCol=\"prediction\", metricName=\"f1\")\n",
    "\n",
    "accuracy    = acc_eval.evaluate(dt_predictions)\n",
    "recall      = recall_eval.evaluate(dt_predictions)\n",
    "precision   = prec_eval.evaluate(dt_predictions)\n",
    "f1_score    = f1_eval.evaluate(dt_predictions)\n",
    "\n",
    "print(\"confusion matrix :\",confusion_matrix(ytest, ypred).ravel())\n",
    "print(str('accuracy :  %0.4f' % accuracy) +\"\\n\" + str('recall : %0.4f' % recall) +\n",
    "      \"\\n\" + str('precision :  %0.4f' %precision) + \"\\n\" + str('f1-measure : %0.4f' %f1_score))"
   ]
  },
  {
   "cell_type": "code",
   "execution_count": 15,
   "id": "f60a0ed5-e369-4edd-a9a7-7c951b083da9",
   "metadata": {},
   "outputs": [],
   "source": [
    "# Save Model\n",
    "ml_path = output_path+\"/model\"\n",
    "ss_path = output_path+\"/standard-scaler\"\n",
    "\n",
    "!rm -rf $ml_path $ss_path"
   ]
  },
  {
   "cell_type": "code",
   "execution_count": 16,
   "id": "7f24987f-219a-48d5-85f4-c938201e13e0",
   "metadata": {
    "tags": []
   },
   "outputs": [],
   "source": [
    "dtModel.save(ml_path)\n",
    "scaler.save(ss_path)"
   ]
  },
  {
   "cell_type": "code",
   "execution_count": 17,
   "id": "22273361-e268-4299-a4d3-1ec541fa3633",
   "metadata": {},
   "outputs": [
    {
     "data": {
      "text/plain": [
       "<pymongo.results.InsertOneResult at 0x7f739a356760>"
      ]
     },
     "execution_count": 17,
     "metadata": {},
     "output_type": "execute_result"
    }
   ],
   "source": [
    "# Store to MongoDB\n",
    "\n",
    "# with open(pickle_path, \"rb\") as f:\n",
    "#     model_col.put(f, filename=\"spark-all-feature\")\n",
    "    \n",
    "result_col.insert_one({\n",
    "    'machine_learning': \"Decission Tree\",\n",
    "    'feature': \"All Feature\",\n",
    "    'label': \"Multi-Label\",\n",
    "    'fit_duration': fit_duration,\n",
    "    'pred_duration': pred_duration,\n",
    "    'accuracy': accuracy,\n",
    "    'recall': recall,\n",
    "    'precision': precision,\n",
    "    'f1_score': f1_score,\n",
    "    'created_at': datetime.fromtimestamp(time.time())\n",
    "})"
   ]
  },
  {
   "cell_type": "markdown",
   "id": "593614e4-2bea-4555-9276-944ca671a41b",
   "metadata": {},
   "source": [
    "## Calculate Feature Weight to Get Importance Feature"
   ]
  },
  {
   "cell_type": "code",
   "execution_count": 18,
   "id": "a9147929-730c-4f81-8447-83593176e7de",
   "metadata": {},
   "outputs": [
    {
     "data": {
      "image/png": "[encoded data removed]",
      "text/plain": [
       "<Figure size 432x288 with 1 Axes>"
      ]
     },
     "metadata": {
      "needs_background": "light"
     },
     "output_type": "display_data"
    }
   ],
   "source": [
    "import numpy\n",
    "import pandas as pd\n",
    "import numpy as geek\n",
    "from matplotlib import pyplot as plt \n",
    "\n",
    "x = dtModel.featureImportances.toArray()\n",
    "feature_weigth = x[geek.nonzero(x)]\n",
    "feature_index = numpy.where(x != 0)[0]\n",
    "feature_importance = numpy.array(feature)[feature_index]\n",
    "\n",
    "featureImportances = pd.Series(feature_weigth, index= feature_importance)\n",
    "featureImportances.plot(kind='barh')\n",
    "\n",
    "plt.title('Calculate Feature Weight') \n",
    "plt.xlabel('Weight') \n",
    "plt.ylabel('Feature Name')\n",
    "p = plt.plot(featureImportances.values, featureImportances.index)"
   ]
  },
  {
   "cell_type": "code",
   "execution_count": 19,
   "id": "148698c4",
   "metadata": {},
   "outputs": [
    {
     "data": {
      "text/html": [
       "<div>\n",
       "<style scoped>\n",
       "    .dataframe tbody tr th:only-of-type {\n",
       "        vertical-align: middle;\n",
       "    }\n",
       "\n",
       "    .dataframe tbody tr th {\n",
       "        vertical-align: top;\n",
       "    }\n",
       "\n",
       "    .dataframe thead th {\n",
       "        text-align: right;\n",
       "    }\n",
       "</style>\n",
       "<table border=\"1\" class=\"dataframe\">\n",
       "  <thead>\n",
       "    <tr style=\"text-align: right;\">\n",
       "      <th></th>\n",
       "      <th>Feature_names</th>\n",
       "      <th>Importances</th>\n",
       "    </tr>\n",
       "  </thead>\n",
       "  <tbody>\n",
       "    <tr>\n",
       "      <th>9</th>\n",
       "      <td>idle_max</td>\n",
       "      <td>0.754728</td>\n",
       "    </tr>\n",
       "    <tr>\n",
       "      <th>4</th>\n",
       "      <td>packet_length_min</td>\n",
       "      <td>0.180450</td>\n",
       "    </tr>\n",
       "    <tr>\n",
       "      <th>5</th>\n",
       "      <td>syn_flag_count</td>\n",
       "      <td>0.021489</td>\n",
       "    </tr>\n",
       "    <tr>\n",
       "      <th>2</th>\n",
       "      <td>flow_iat_mean</td>\n",
       "      <td>0.014435</td>\n",
       "    </tr>\n",
       "    <tr>\n",
       "      <th>8</th>\n",
       "      <td>idle_mean</td>\n",
       "      <td>0.010914</td>\n",
       "    </tr>\n",
       "    <tr>\n",
       "      <th>0</th>\n",
       "      <td>flow_duration</td>\n",
       "      <td>0.005150</td>\n",
       "    </tr>\n",
       "    <tr>\n",
       "      <th>6</th>\n",
       "      <td>down_per_up_ratio</td>\n",
       "      <td>0.004441</td>\n",
       "    </tr>\n",
       "    <tr>\n",
       "      <th>3</th>\n",
       "      <td>bwd_packets_per_s</td>\n",
       "      <td>0.003584</td>\n",
       "    </tr>\n",
       "    <tr>\n",
       "      <th>7</th>\n",
       "      <td>fwd_seg_size_min</td>\n",
       "      <td>0.003299</td>\n",
       "    </tr>\n",
       "    <tr>\n",
       "      <th>1</th>\n",
       "      <td>total_fwd_packet</td>\n",
       "      <td>0.001510</td>\n",
       "    </tr>\n",
       "  </tbody>\n",
       "</table>\n",
       "</div>"
      ],
      "text/plain": [
       "       Feature_names  Importances\n",
       "9           idle_max     0.754728\n",
       "4  packet_length_min     0.180450\n",
       "5     syn_flag_count     0.021489\n",
       "2      flow_iat_mean     0.014435\n",
       "8          idle_mean     0.010914\n",
       "0      flow_duration     0.005150\n",
       "6  down_per_up_ratio     0.004441\n",
       "3  bwd_packets_per_s     0.003584\n",
       "7   fwd_seg_size_min     0.003299\n",
       "1   total_fwd_packet     0.001510"
      ]
     },
     "execution_count": 19,
     "metadata": {},
     "output_type": "execute_result"
    }
   ],
   "source": [
    "pd.set_option('display.max_columns',None)\n",
    "pd.set_option('display.max_rows',None)\n",
    "\n",
    "featureImp = pd.DataFrame({'Feature_names':feature_importance,'Importances':feature_weigth})\n",
    "featureImp.sort_values(by='Importances',ascending=False)"
   ]
  },
  {
   "cell_type": "code",
   "execution_count": 20,
   "id": "44b9ee1c-2733-41a4-b462-01002324feaf",
   "metadata": {},
   "outputs": [],
   "source": [
    "sc.stop()"
   ]
  },
  {
   "cell_type": "code",
   "execution_count": null,
   "id": "d37bbe9a-8da5-4704-83c8-1d24371da22f",
   "metadata": {},
   "outputs": [],
   "source": []
  }
 ],
 "metadata": {
  "kernelspec": {
   "display_name": "Python 3 (ipykernel)",
   "language": "python",
   "name": "python3"
  },
  "language_info": {
   "codemirror_mode": {
    "name": "ipython",
    "version": 3
   },
   "file_extension": ".py",
   "mimetype": "text/x-python",
   "name": "python",
   "nbconvert_exporter": "python",
   "pygments_lexer": "ipython3",
   "version": "3.9.12"
  }
 },
 "nbformat": 4,
 "nbformat_minor": 5
}
