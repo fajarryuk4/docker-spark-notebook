{
 "cells": [
  {
   "cell_type": "code",
   "execution_count": 1,
   "id": "f12a3e66-2d66-4a8f-9209-fc4f66af6ef0",
   "metadata": {},
   "outputs": [
    {
     "name": "stdout",
     "output_type": "stream",
     "text": [
      "Requirement already satisfied: findspark in /opt/conda/lib/python3.9/site-packages (2.0.1)\n",
      "Requirement already satisfied: pymongo in /opt/conda/lib/python3.9/site-packages (4.1.1)\n",
      "Note: you may need to restart the kernel to use updated packages.\n"
     ]
    }
   ],
   "source": [
    "%pip install findspark pymongo"
   ]
  },
  {
   "cell_type": "markdown",
   "id": "f5b7bd0a-097f-4158-8f91-3c093056e780",
   "metadata": {
    "tags": []
   },
   "source": [
    "# Crate Directory and Output File"
   ]
  },
  {
   "cell_type": "code",
   "execution_count": 2,
   "id": "6ff724c2-937c-4550-84dc-118750d3f1ef",
   "metadata": {},
   "outputs": [],
   "source": [
    "#Use '/resource' to syncronize folder with host\n",
    "\n",
    "!mkdir -p ~/output/spark-model/stream-model"
   ]
  },
  {
   "cell_type": "code",
   "execution_count": 3,
   "id": "2b08d456",
   "metadata": {},
   "outputs": [],
   "source": [
    "input_path  = '/home/jovyan/output/renamed-data/multi/FullDataResampling.csv'\n",
    "output_path = '/home/jovyan/output/spark-model/stream-model'"
   ]
  },
  {
   "cell_type": "markdown",
   "id": "2bafb409-6172-4d0e-9e54-38c5bd03de20",
   "metadata": {},
   "source": [
    "# Import Package"
   ]
  },
  {
   "cell_type": "code",
   "execution_count": 4,
   "id": "d29106af-d5f6-4ed1-9a49-a082dd6c17ed",
   "metadata": {},
   "outputs": [],
   "source": [
    "import os\n",
    "import time\n",
    "import json\n",
    "import pyspark\n",
    "import findspark\n",
    "from gridfs import GridFS\n",
    "from datetime import datetime\n",
    "from pymongo import MongoClient\n",
    "\n",
    "from pyspark.ml.classification import DecisionTreeClassifier\n",
    "# from pyspark.ml.classification import RandomForestClassifier\n",
    "\n",
    "from pyspark.sql.types import *\n",
    "import pyspark.sql.functions as F\n",
    "from pyspark.sql import SparkSession\n",
    "from sklearn.metrics import confusion_matrix\n",
    "from pyspark.ml.feature import VectorAssembler, StandardScaler\n",
    "from pyspark.ml.evaluation import MulticlassClassificationEvaluator\n",
    "\n",
    "findspark.init()"
   ]
  },
  {
   "cell_type": "markdown",
   "id": "518b91b4-2419-41d4-a5d4-2d7f04f6637e",
   "metadata": {},
   "source": [
    "# DB Connections"
   ]
  },
  {
   "cell_type": "code",
   "execution_count": 5,
   "id": "3669d037-59c3-4567-a784-ed786aadfbc2",
   "metadata": {},
   "outputs": [],
   "source": [
    "client = MongoClient(\"mongodb://mongodb:27017\")\n",
    "db = client['mataelanglab']\n",
    "\n",
    "result_col = db['spark_result']\n",
    "cv_col = db['spark_cv']\n",
    "model_col = GridFS(db, 'spark_model')"
   ]
  },
  {
   "cell_type": "markdown",
   "id": "6d203af4-47e9-4977-afa7-89fea7ff58df",
   "metadata": {},
   "source": [
    "# Spark session & context"
   ]
  },
  {
   "cell_type": "code",
   "execution_count": 6,
   "id": "9ee03da1-93e8-4b2e-bfac-5d83cf5cac7b",
   "metadata": {},
   "outputs": [],
   "source": [
    "spark = (SparkSession\n",
    "         .builder\n",
    "         .master('local[2]')\n",
    "         .appName('DecissionTree-AllFeature')\n",
    "         .config(\"spark.executor.memory\", \"4g\") #optional\n",
    "         .config(\"spark.executor.cores\",\"1\") #optional\n",
    "         .getOrCreate())\n",
    "sc = spark.sparkContext"
   ]
  },
  {
   "cell_type": "markdown",
   "id": "0ffe1572-f788-4293-85cb-fcff378607c2",
   "metadata": {
    "tags": []
   },
   "source": [
    "# Read Data"
   ]
  },
  {
   "cell_type": "code",
   "execution_count": 7,
   "id": "343750b8-f434-43f5-8c0c-ee70a59a1d53",
   "metadata": {},
   "outputs": [],
   "source": [
    "df = spark.read.csv(input_path, header=\"true\", inferSchema =True)"
   ]
  },
  {
   "cell_type": "markdown",
   "id": "f59ad4a6-03a2-463f-b0b8-863774d0c61b",
   "metadata": {},
   "source": [
    "# Normalize"
   ]
  },
  {
   "cell_type": "code",
   "execution_count": 8,
   "id": "da0a62fd-f3d4-4084-a957-bf453e50418a",
   "metadata": {
    "tags": []
   },
   "outputs": [],
   "source": [
    "df = df.select([F.col(column).cast('double') for column in df.columns])"
   ]
  },
  {
   "cell_type": "markdown",
   "id": "a6c1c40a-fd1a-4740-afb8-ea64acaa18d4",
   "metadata": {
    "tags": []
   },
   "source": [
    "# Classification Using All Feature"
   ]
  },
  {
   "cell_type": "code",
   "execution_count": 9,
   "id": "c1b4ea80-c961-4b4e-ad26-aef86dbb494f",
   "metadata": {},
   "outputs": [],
   "source": [
    "feature = [\n",
    "    'flow_duration',\n",
    "    'total_fwd_packet',\n",
    "    'total_bwd_packets',\n",
    "    'total_length_of_fwd_packet',\n",
    "    'total_length_of_bwd_packet',\n",
    "    'fwd_packet_length_max',\n",
    "    'fwd_packet_length_min',\n",
    "    'fwd_packet_length_mean',\n",
    "    'fwd_packet_length_std',\n",
    "    'bwd_packet_length_max',\n",
    "    'bwd_packet_length_min',\n",
    "    'bwd_packet_length_mean',\n",
    "    'bwd_packet_length_std',\n",
    "    'flow_bytes_per_s',\n",
    "    'flow_packets_per_s',\n",
    "    'flow_iat_mean',\n",
    "    'flow_iat_std',\n",
    "    'flow_iat_max',\n",
    "    'flow_iat_min',\n",
    "    'fwd_iat_total',\n",
    "    'fwd_iat_mean',\n",
    "    'fwd_iat_std',\n",
    "    'fwd_iat_max',\n",
    "    'fwd_iat_min',\n",
    "    'bwd_iat_total',\n",
    "    'bwd_iat_mean',\n",
    "    'bwd_iat_std',\n",
    "    'bwd_iat_max',\n",
    "    'bwd_iat_min',\n",
    "    'fwd_psh_flags',\n",
    "    'bwd_psh_flags',\n",
    "    'fwd_urg_flags',\n",
    "    'bwd_urg_flags',\n",
    "    'fwd_header_length',\n",
    "    'bwd_header_length',\n",
    "    'fwd_packets_per_s',\n",
    "    'bwd_packets_per_s',\n",
    "    'packet_length_min',\n",
    "    'packet_length_max',\n",
    "    'packet_length_mean',\n",
    "    'packet_length_std',\n",
    "    'packet_length_variance',\n",
    "    'fin_flag_count',\n",
    "    'syn_flag_count',\n",
    "    'rst_flag_count',\n",
    "    'psh_flag_count',\n",
    "    'ack_flag_count',\n",
    "    'urg_flag_count',\n",
    "    'cwr_flag_count',\n",
    "    'ece_flag_count',\n",
    "    'down_per_up_ratio',\n",
    "    'average_packet_size',\n",
    "    'fwd_segment_size_avg',\n",
    "    'bwd_segment_size_avg',\n",
    "    'fwd_bytes_per_bulk_avg',\n",
    "    'fwd_packet_per_bulk_avg',\n",
    "    'fwd_bulk_rate_avg',\n",
    "    'bwd_bytes_per_bulk_avg',\n",
    "    'bwd_packet_per_bulk_avg',\n",
    "    'bwd_bulk_rate_avg',\n",
    "    'subflow_fwd_packets',\n",
    "    'subflow_fwd_bytes',\n",
    "    'subflow_bwd_packets',\n",
    "    'subflow_bwd_bytes',\n",
    "    'fwd_init_win_bytes',\n",
    "    'bwd_init_win_bytes',\n",
    "    'fwd_act_data_pkts',\n",
    "    'fwd_seg_size_min',\n",
    "    'active_mean',\n",
    "    'active_std',\n",
    "    'active_max',\n",
    "    'active_min',\n",
    "    'idle_mean',\n",
    "    'idle_std',\n",
    "    'idle_max',\n",
    "    'idle_min',\n",
    "]"
   ]
  },
  {
   "cell_type": "markdown",
   "id": "470ef975-7e58-432e-ba45-4b80b2fc8927",
   "metadata": {},
   "source": [
    "# Pre-Processing"
   ]
  },
  {
   "cell_type": "code",
   "execution_count": 10,
   "id": "04f6e140-12b4-4ea5-bd2d-3ff3f6cf4609",
   "metadata": {},
   "outputs": [],
   "source": [
    "#Vector Assembler\n",
    "vector_assembler = VectorAssembler(inputCols=feature, outputCol=\"SS_features\")\n",
    "df = vector_assembler.transform(df)\n",
    "\n",
    "#Standard Scaler\n",
    "scaler = StandardScaler(inputCol=\"SS_features\", outputCol=\"scaledFeatures\", withStd=True, withMean=False).fit(df)\n",
    "df = scaler.transform(df)"
   ]
  },
  {
   "cell_type": "markdown",
   "id": "dd6d92d3-bc33-4298-aae2-5c381fed7d47",
   "metadata": {},
   "source": [
    "# Processing"
   ]
  },
  {
   "cell_type": "code",
   "execution_count": 11,
   "id": "a3fd79f6-bda3-44c1-a38d-59fcd16856c2",
   "metadata": {},
   "outputs": [
    {
     "name": "stdout",
     "output_type": "stream",
     "text": [
      "Training Dataset Count: 10335\n",
      "Test Dataset Count: 4289\n"
     ]
    }
   ],
   "source": [
    "# Split the data\n",
    "(training_data, test_data) = df.randomSplit([0.7,0.3], 42)\n",
    "print(\"Training Dataset Count: \" + str(training_data.count()))\n",
    "print(\"Test Dataset Count: \" + str(test_data.count()))"
   ]
  },
  {
   "cell_type": "code",
   "execution_count": 12,
   "id": "fed5043b-f513-473d-89f5-05c4310bb992",
   "metadata": {},
   "outputs": [
    {
     "name": "stdout",
     "output_type": "stream",
     "text": [
      "--- 7.949734926223755 seconds ---\n"
     ]
    }
   ],
   "source": [
    "start_time = time.time()\n",
    "\n",
    "# Create Decision Tree classifer object\n",
    "dt = DecisionTreeClassifier(featuresCol = 'scaledFeatures', labelCol = 'label')\n",
    "# dt = RandomForestClassifier(labelCol=\"label\", featuresCol=\"scaledFeatures\")\n",
    "\n",
    "# Train Decision Tree Classifer\n",
    "dtModel = dt.fit(df)\n",
    "\n",
    "duration = (time.time() - start_time)\n",
    "print(\"--- %s seconds ---\" % duration)"
   ]
  },
  {
   "cell_type": "code",
   "execution_count": 13,
   "id": "d21a0b67-5cb6-43ab-8327-814669c59c97",
   "metadata": {},
   "outputs": [
    {
     "name": "stdout",
     "output_type": "stream",
     "text": [
      "--- 0.27204394340515137 seconds ---\n"
     ]
    }
   ],
   "source": [
    "start_time = time.time()\n",
    "\n",
    "#Predict the response for test dataset\n",
    "dt_predictions = dtModel.transform(test_data)\n",
    "\n",
    "duration = (time.time() - start_time)\n",
    "print(\"--- %s seconds ---\" % duration)"
   ]
  },
  {
   "cell_type": "code",
   "execution_count": 14,
   "id": "9d009ac0-98ec-460c-a670-da49d47199c2",
   "metadata": {},
   "outputs": [
    {
     "name": "stdout",
     "output_type": "stream",
     "text": [
      "confusion matrix : [471   2   0  14   0   0   5   9   3 535   2   0   0   0   0   0   2  10\n",
      " 501   0  14   0   0   0  22   0   0 491   0   0   0   0   0   0   0   0\n",
      " 570   0   0   0   0   0   0   0  49 501   0   0   0   0   0   0   0   0\n",
      " 547   3   0   0   0   0   0   7  15 516]\n",
      "accuracy :  0.9634\n",
      "recall : 0.9634\n",
      "precision :  0.9647\n",
      "f1-measure : 0.9634\n"
     ]
    }
   ],
   "source": [
    "# Calculate Confusion matrix\n",
    "ypred = dt_predictions.select(\"prediction\").collect()\n",
    "ytest = dt_predictions.select(\"label\").collect()\n",
    "\n",
    "acc_eval    = MulticlassClassificationEvaluator(predictionCol=\"prediction\", metricName=\"accuracy\")\n",
    "recall_eval = MulticlassClassificationEvaluator(predictionCol=\"prediction\", metricName=\"weightedRecall\")\n",
    "prec_eval   = MulticlassClassificationEvaluator(predictionCol=\"prediction\", metricName=\"weightedPrecision\")\n",
    "f1_eval     = MulticlassClassificationEvaluator(predictionCol=\"prediction\", metricName=\"f1\")\n",
    "\n",
    "accuracy    = acc_eval.evaluate(dt_predictions)\n",
    "recall      = recall_eval.evaluate(dt_predictions)\n",
    "precision   = prec_eval.evaluate(dt_predictions)\n",
    "f1_score    = f1_eval.evaluate(dt_predictions)\n",
    "\n",
    "print(\"confusion matrix :\",confusion_matrix(ytest, ypred).ravel())\n",
    "print(str('accuracy :  %0.4f' % accuracy) +\"\\n\" + str('recall : %0.4f' % recall) +\n",
    "      \"\\n\" + str('precision :  %0.4f' %precision) + \"\\n\" + str('f1-measure : %0.4f' %f1_score))"
   ]
  },
  {
   "cell_type": "code",
   "execution_count": 15,
   "id": "f60a0ed5-e369-4edd-a9a7-7c951b083da9",
   "metadata": {},
   "outputs": [],
   "source": [
    "# Save Model\n",
    "ml_path = output_path+\"/model\"\n",
    "ss_path = output_path+\"/standard-scaler\"\n",
    "\n",
    "!rm -rf $ml_path $ss_path"
   ]
  },
  {
   "cell_type": "code",
   "execution_count": 16,
   "id": "dd6f905a-7c35-48d5-b5ca-c76c3618197d",
   "metadata": {
    "tags": []
   },
   "outputs": [],
   "source": [
    "dtModel.save(ml_path)\n",
    "scaler.save(ss_path)"
   ]
  },
  {
   "cell_type": "code",
   "execution_count": null,
   "id": "d37bbe9a-8da5-4704-83c8-1d24371da22f",
   "metadata": {},
   "outputs": [],
   "source": []
  }
 ],
 "metadata": {
  "kernelspec": {
   "display_name": "Python 3 (ipykernel)",
   "language": "python",
   "name": "python3"
  },
  "language_info": {
   "codemirror_mode": {
    "name": "ipython",
    "version": 3
   },
   "file_extension": ".py",
   "mimetype": "text/x-python",
   "name": "python",
   "nbconvert_exporter": "python",
   "pygments_lexer": "ipython3",
   "version": "3.9.12"
  }
 },
 "nbformat": 4,
 "nbformat_minor": 5
}
